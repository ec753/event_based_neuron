{
 "cells": [
  {
   "cell_type": "code",
   "execution_count": 1,
   "id": "7a4af1b8",
   "metadata": {},
   "outputs": [],
   "source": [
    "from neuron import h\n",
    "import bluepyopt as bpopt\n",
    "import bluepyopt.ephys as ephys\n",
    "import matplotlib.pyplot as plt"
   ]
  },
  {
   "cell_type": "markdown",
   "id": "fb9a4378",
   "metadata": {},
   "source": [
    "## Morphology"
   ]
  },
  {
   "cell_type": "code",
   "execution_count": 2,
   "id": "e713c8a3",
   "metadata": {},
   "outputs": [],
   "source": [
    "# NEURON simulator\n",
    "nrn_sim = ephys.simulators.NrnSimulator()"
   ]
  },
  {
   "cell_type": "code",
   "execution_count": 3,
   "id": "15c445af",
   "metadata": {},
   "outputs": [],
   "source": [
    "morph = ephys.morphologies.NrnFileMorphology('./resources/bluepyopt/simple.swc')"
   ]
  },
  {
   "cell_type": "code",
   "execution_count": 4,
   "id": "b973c817",
   "metadata": {},
   "outputs": [],
   "source": [
    "# Object that points to sectionlist somatic\n",
    "somatic_loc = ephys.locations.NrnSeclistLocation('somatic',seclist_name='somatic')\n",
    "\n",
    "# Object that points to the center of the soma\n",
    "somacenter_loc = ephys.locations.NrnSeclistCompLocation(\n",
    "    name='somacenter',\n",
    "    seclist_name='somatic',\n",
    "    sec_index=0,\n",
    "    comp_x=0.5)"
   ]
  },
  {
   "cell_type": "markdown",
   "id": "ff1745ac",
   "metadata": {},
   "source": [
    "## simulation hyperparameters"
   ]
  },
  {
   "cell_type": "code",
   "execution_count": 5,
   "id": "11ee11b2",
   "metadata": {},
   "outputs": [],
   "source": [
    "duration = 1000\n",
    "stim_count = 1000000"
   ]
  },
  {
   "cell_type": "markdown",
   "id": "24717657",
   "metadata": {},
   "source": [
    "## Mechanism"
   ]
  },
  {
   "cell_type": "code",
   "execution_count": 6,
   "id": "46571faa",
   "metadata": {},
   "outputs": [],
   "source": [
    "# HH mechanism\n",
    "hh_mech = ephys.mechanisms.NrnMODMechanism(\n",
    "        name='hh',\n",
    "        suffix='hh',\n",
    "        locations=[somatic_loc])"
   ]
  },
  {
   "cell_type": "code",
   "execution_count": 7,
   "id": "5d5b569e",
   "metadata": {},
   "outputs": [],
   "source": [
    "# Add ExpSyn synapse pointprocess at the center of the soma\n",
    "# excitatory stimuli\n",
    "excitatory_expsyn_mech = ephys.mechanisms.NrnMODPointProcessMechanism(                     \n",
    "    name='expsyn',                                                              \n",
    "    suffix='ExpSyn',                                                            \n",
    "    locations=[somacenter_loc])\n",
    "\n",
    "excitatory_expsyn_loc = ephys.locations.NrnPointProcessLocation(                           \n",
    "    'expsyn_loc',                                                               \n",
    "    pprocess_mech=excitatory_expsyn_mech)\n",
    "\n",
    "excitatory_expsyn_tau_param = ephys.parameters.NrnPointProcessParameter(                   \n",
    "    name='excitatory_expsyn_tau',                                                          \n",
    "    param_name='tau',                                                           \n",
    "    value=2,                                                                    \n",
    "    bounds=[0, 50],                                                             \n",
    "    locations=[excitatory_expsyn_loc])\n",
    "\n",
    "excitatory_netstim = ephys.stimuli.NrnNetStimStimulus(                                  \n",
    "    total_duration=duration,                                                      \n",
    "    number=stim_count,                                                                \n",
    "    interval=5,                                                              \n",
    "    start=0,                                                        \n",
    "    weight=1e-4,                                                             \n",
    "    locations=[excitatory_expsyn_loc])"
   ]
  },
  {
   "cell_type": "code",
   "execution_count": 8,
   "id": "0dd20fa7",
   "metadata": {},
   "outputs": [],
   "source": [
    "# inhibitory stimuli\n",
    "inhibitory_expsyn_mech = ephys.mechanisms.NrnMODPointProcessMechanism(                     \n",
    "    name='expsyn',                                                              \n",
    "    suffix='ExpSyn',                                                            \n",
    "    locations=[somacenter_loc])\n",
    "\n",
    "inhibitory_expsyn_loc = ephys.locations.NrnPointProcessLocation(                           \n",
    "    'expsyn_loc',                                                               \n",
    "    pprocess_mech=inhibitory_expsyn_mech)\n",
    "\n",
    "inhibitory_expsyn_tau_param = ephys.parameters.NrnPointProcessParameter(                   \n",
    "    name='inhibitory_expsyn_tau',                                                          \n",
    "    param_name='tau',                                                           \n",
    "    value=6,                                                                    \n",
    "    bounds=[0, 50],                                                             \n",
    "    locations=[inhibitory_expsyn_loc])\n",
    "\n",
    "inhibitory_netstim = ephys.stimuli.NrnNetStimStimulus(                                  \n",
    "    total_duration=duration,                                                      \n",
    "    number=stim_count,                                                                \n",
    "    interval=15,                                                              \n",
    "    start=0,                                                        \n",
    "    weight=2e-4,                                                             \n",
    "    locations=[inhibitory_expsyn_loc])"
   ]
  },
  {
   "cell_type": "markdown",
   "id": "97129bb4",
   "metadata": {},
   "source": [
    "## Template"
   ]
  },
  {
   "cell_type": "code",
   "execution_count": 9,
   "id": "e9866b75",
   "metadata": {},
   "outputs": [],
   "source": [
    "cell = ephys.models.CellModel(                                               \n",
    "    name='simple_cell',                                                      \n",
    "    morph=morph,                                                             \n",
    "    mechs=[hh_mech, excitatory_expsyn_mech, inhibitory_expsyn_mech],                                           \n",
    "    params=[excitatory_expsyn_tau_param, inhibitory_expsyn_tau_param])"
   ]
  },
  {
   "cell_type": "code",
   "execution_count": 33,
   "id": "062cb4ce",
   "metadata": {},
   "outputs": [],
   "source": [
    "rec = ephys.recordings.CompRecording(\n",
    "    name='soma.v', \n",
    "    location=somacenter_loc,\n",
    "    variable='v')\n",
    "\n",
    "e_stim_rec = ephys.recordings.CompRecording(\n",
    "    name='estims', \n",
    "    location=excitatory_expsyn_loc,\n",
    "    variable='i')\n",
    "\n",
    "protocol = ephys.protocols.SweepProtocol(\n",
    "    'netstim_protocol', \n",
    "    [excitatory_netstim, inhibitory_netstim], \n",
    "    [rec, e_stim_rec]\n",
    ")"
   ]
  },
  {
   "cell_type": "code",
   "execution_count": 34,
   "id": "421c4441",
   "metadata": {},
   "outputs": [
    {
     "ename": "SweepProtocolException",
     "evalue": "Failed to run Neuron Sweep Protocol",
     "output_type": "error",
     "traceback": [
      "\u001b[0;31m---------------------------------------------------------------------------\u001b[0m",
      "\u001b[0;31mRemoteTraceback\u001b[0m                           Traceback (most recent call last)",
      "\u001b[0;31mRemoteTraceback\u001b[0m: Traceback (most recent call last):\n  File \"/home/ec753/venvs/jupyter_env/lib/python3.10/site-packages/bluepyopt/ephys/protocols.py\", line 205, in _run_func\n    self.instantiate(sim=sim, cell_model=cell_model)\n  File \"/home/ec753/venvs/jupyter_env/lib/python3.10/site-packages/bluepyopt/ephys/protocols.py\", line 313, in instantiate\n    recording.instantiate(sim=sim, icell=cell_model.icell)\n  File \"/home/ec753/venvs/jupyter_env/lib/python3.10/site-packages/bluepyopt/ephys/recordings.py\", line 93, in instantiate\n    self.varvector.record(getattr(seg, '_ref_%s' % self.variable))\nAttributeError: 'list' object has no attribute '_ref_i'\n\nThe above exception was the direct cause of the following exception:\n\nTraceback (most recent call last):\n  File \"/home/ec753/venvs/jupyter_env/lib/python3.10/site-packages/pebble/common.py\", line 174, in process_execute\n    return function(*args, **kwargs)\n  File \"/home/ec753/venvs/jupyter_env/lib/python3.10/site-packages/bluepyopt/ephys/protocols.py\", line 238, in _run_func\n    raise SweepProtocolException(\nbluepyopt.ephys.protocols.SweepProtocolException: Failed to run Neuron Sweep Protocol\n",
      "\nThe above exception was the direct cause of the following exception:\n",
      "\u001b[0;31mSweepProtocolException\u001b[0m                    Traceback (most recent call last)",
      "Cell \u001b[0;32mIn [34], line 2\u001b[0m\n\u001b[1;32m      1\u001b[0m default_params \u001b[38;5;241m=\u001b[39m {\u001b[38;5;124m'\u001b[39m\u001b[38;5;124mexcitatory_expsyn_tau\u001b[39m\u001b[38;5;124m'\u001b[39m: \u001b[38;5;241m2\u001b[39m, \u001b[38;5;124m'\u001b[39m\u001b[38;5;124minhibitory_expsyn_tau\u001b[39m\u001b[38;5;124m'\u001b[39m: \u001b[38;5;241m6\u001b[39m}\n\u001b[0;32m----> 2\u001b[0m response \u001b[38;5;241m=\u001b[39m \u001b[43mprotocol\u001b[49m\u001b[38;5;241;43m.\u001b[39;49m\u001b[43mrun\u001b[49m\u001b[43m(\u001b[49m\u001b[43mcell_model\u001b[49m\u001b[38;5;241;43m=\u001b[39;49m\u001b[43mcell\u001b[49m\u001b[43m,\u001b[49m\u001b[43m \u001b[49m\u001b[43mparam_values\u001b[49m\u001b[38;5;241;43m=\u001b[39;49m\u001b[43mdefault_params\u001b[49m\u001b[43m,\u001b[49m\u001b[43m \u001b[49m\u001b[43msim\u001b[49m\u001b[38;5;241;43m=\u001b[39;49m\u001b[43mnrn_sim\u001b[49m\u001b[43m)\u001b[49m\n",
      "File \u001b[0;32m~/venvs/jupyter_env/lib/python3.10/site-packages/bluepyopt/ephys/protocols.py:188\u001b[0m, in \u001b[0;36mSweepProtocol.adjust_stochasticity.<locals>.inner\u001b[0;34m(self, cell_model, param_values, **kwargs)\u001b[0m\n\u001b[1;32m    185\u001b[0m         previous_stoch_state\u001b[38;5;241m.\u001b[39mappend(mech\u001b[38;5;241m.\u001b[39mdeterministic)\n\u001b[1;32m    186\u001b[0m         mech\u001b[38;5;241m.\u001b[39mdeterministic \u001b[38;5;241m=\u001b[39m \u001b[38;5;28;01mTrue\u001b[39;00m\n\u001b[0;32m--> 188\u001b[0m responses \u001b[38;5;241m=\u001b[39m \u001b[43mfunc\u001b[49m\u001b[43m(\u001b[49m\u001b[38;5;28;43mself\u001b[39;49m\u001b[43m,\u001b[49m\u001b[43m \u001b[49m\u001b[43mcell_model\u001b[49m\u001b[43m,\u001b[49m\u001b[43m \u001b[49m\u001b[43mparam_values\u001b[49m\u001b[43m,\u001b[49m\u001b[43m \u001b[49m\u001b[38;5;241;43m*\u001b[39;49m\u001b[38;5;241;43m*\u001b[39;49m\u001b[43mkwargs\u001b[49m\u001b[43m)\u001b[49m\n\u001b[1;32m    190\u001b[0m \u001b[38;5;28;01mif\u001b[39;00m \u001b[38;5;28mself\u001b[39m\u001b[38;5;241m.\u001b[39mdeterministic:\n\u001b[1;32m    191\u001b[0m     \u001b[38;5;28;01mfor\u001b[39;00m i, mech \u001b[38;5;129;01min\u001b[39;00m \u001b[38;5;28menumerate\u001b[39m(cell_model\u001b[38;5;241m.\u001b[39mmechanisms):\n",
      "File \u001b[0;32m~/venvs/jupyter_env/lib/python3.10/site-packages/bluepyopt/ephys/protocols.py:284\u001b[0m, in \u001b[0;36mSweepProtocol.run\u001b[0;34m(self, cell_model, param_values, sim, isolate, timeout)\u001b[0m\n\u001b[1;32m    278\u001b[0m tasks \u001b[38;5;241m=\u001b[39m pool\u001b[38;5;241m.\u001b[39mschedule(\u001b[38;5;28mself\u001b[39m\u001b[38;5;241m.\u001b[39m_run_func, kwargs\u001b[38;5;241m=\u001b[39m{\n\u001b[1;32m    279\u001b[0m     \u001b[38;5;124m'\u001b[39m\u001b[38;5;124mcell_model\u001b[39m\u001b[38;5;124m'\u001b[39m: cell_model,\n\u001b[1;32m    280\u001b[0m     \u001b[38;5;124m'\u001b[39m\u001b[38;5;124mparam_values\u001b[39m\u001b[38;5;124m'\u001b[39m: param_values,\n\u001b[1;32m    281\u001b[0m     \u001b[38;5;124m'\u001b[39m\u001b[38;5;124msim\u001b[39m\u001b[38;5;124m'\u001b[39m: sim},\n\u001b[1;32m    282\u001b[0m     timeout\u001b[38;5;241m=\u001b[39mtimeout)\n\u001b[1;32m    283\u001b[0m \u001b[38;5;28;01mtry\u001b[39;00m:\n\u001b[0;32m--> 284\u001b[0m     responses \u001b[38;5;241m=\u001b[39m \u001b[43mtasks\u001b[49m\u001b[38;5;241;43m.\u001b[39;49m\u001b[43mresult\u001b[49m\u001b[43m(\u001b[49m\u001b[43m)\u001b[49m\n\u001b[1;32m    285\u001b[0m \u001b[38;5;28;01mexcept\u001b[39;00m \u001b[38;5;167;01mTimeoutError\u001b[39;00m:\n\u001b[1;32m    286\u001b[0m     logger\u001b[38;5;241m.\u001b[39mdebug(\u001b[38;5;124m'\u001b[39m\u001b[38;5;124mSweepProtocol: task took longer than \u001b[39m\u001b[38;5;124m'\u001b[39m\n\u001b[1;32m    287\u001b[0m                  \u001b[38;5;124m'\u001b[39m\u001b[38;5;124mtimeout, will return empty response \u001b[39m\u001b[38;5;124m'\u001b[39m\n\u001b[1;32m    288\u001b[0m                  \u001b[38;5;124m'\u001b[39m\u001b[38;5;124mfor this recording\u001b[39m\u001b[38;5;124m'\u001b[39m)\n",
      "File \u001b[0;32m/usr/lib/python3.10/concurrent/futures/_base.py:458\u001b[0m, in \u001b[0;36mFuture.result\u001b[0;34m(self, timeout)\u001b[0m\n\u001b[1;32m    456\u001b[0m     \u001b[38;5;28;01mraise\u001b[39;00m CancelledError()\n\u001b[1;32m    457\u001b[0m \u001b[38;5;28;01melif\u001b[39;00m \u001b[38;5;28mself\u001b[39m\u001b[38;5;241m.\u001b[39m_state \u001b[38;5;241m==\u001b[39m FINISHED:\n\u001b[0;32m--> 458\u001b[0m     \u001b[38;5;28;01mreturn\u001b[39;00m \u001b[38;5;28;43mself\u001b[39;49m\u001b[38;5;241;43m.\u001b[39;49m\u001b[43m__get_result\u001b[49m\u001b[43m(\u001b[49m\u001b[43m)\u001b[49m\n\u001b[1;32m    459\u001b[0m \u001b[38;5;28;01melse\u001b[39;00m:\n\u001b[1;32m    460\u001b[0m     \u001b[38;5;28;01mraise\u001b[39;00m \u001b[38;5;167;01mTimeoutError\u001b[39;00m()\n",
      "File \u001b[0;32m/usr/lib/python3.10/concurrent/futures/_base.py:403\u001b[0m, in \u001b[0;36mFuture.__get_result\u001b[0;34m(self)\u001b[0m\n\u001b[1;32m    401\u001b[0m \u001b[38;5;28;01mif\u001b[39;00m \u001b[38;5;28mself\u001b[39m\u001b[38;5;241m.\u001b[39m_exception:\n\u001b[1;32m    402\u001b[0m     \u001b[38;5;28;01mtry\u001b[39;00m:\n\u001b[0;32m--> 403\u001b[0m         \u001b[38;5;28;01mraise\u001b[39;00m \u001b[38;5;28mself\u001b[39m\u001b[38;5;241m.\u001b[39m_exception\n\u001b[1;32m    404\u001b[0m     \u001b[38;5;28;01mfinally\u001b[39;00m:\n\u001b[1;32m    405\u001b[0m         \u001b[38;5;66;03m# Break a reference cycle with the exception in self._exception\u001b[39;00m\n\u001b[1;32m    406\u001b[0m         \u001b[38;5;28mself\u001b[39m \u001b[38;5;241m=\u001b[39m \u001b[38;5;28;01mNone\u001b[39;00m\n",
      "\u001b[0;31mSweepProtocolException\u001b[0m: Failed to run Neuron Sweep Protocol"
     ]
    }
   ],
   "source": [
    "default_params = {'excitatory_expsyn_tau': 2, 'inhibitory_expsyn_tau': 6}\n",
    "response = protocol.run(cell_model=cell, param_values=default_params, sim=nrn_sim)"
   ]
  },
  {
   "cell_type": "code",
   "execution_count": 26,
   "id": "28427799",
   "metadata": {},
   "outputs": [
    {
     "data": {
      "text/plain": [
       "['CompRecording',\n",
       " 'LFPRecording',\n",
       " 'Recording',\n",
       " '__builtins__',\n",
       " '__cached__',\n",
       " '__doc__',\n",
       " '__file__',\n",
       " '__loader__',\n",
       " '__name__',\n",
       " '__package__',\n",
       " '__spec__',\n",
       " 'logger',\n",
       " 'logging',\n",
       " 'responses']"
      ]
     },
     "execution_count": 26,
     "metadata": {},
     "output_type": "execute_result"
    }
   ],
   "source": [
    "dir(ephys.recordings)"
   ]
  },
  {
   "cell_type": "code",
   "execution_count": 29,
   "id": "34463604",
   "metadata": {},
   "outputs": [
    {
     "name": "stdout",
     "output_type": "stream",
     "text": [
      "Help on class CompRecording in module bluepyopt.ephys.recordings:\n",
      "\n",
      "class CompRecording(Recording)\n",
      " |  CompRecording(name=None, location=None, variable='v')\n",
      " |  \n",
      " |  Response to stimulus\n",
      " |  \n",
      " |  Method resolution order:\n",
      " |      CompRecording\n",
      " |      Recording\n",
      " |      builtins.object\n",
      " |  \n",
      " |  Methods defined here:\n",
      " |  \n",
      " |  __init__(self, name=None, location=None, variable='v')\n",
      " |      Constructor\n",
      " |      \n",
      " |      Args:\n",
      " |          name (str): name of this object\n",
      " |          location (Location): location in the model of the recording\n",
      " |          variable (str): which variable to record from (e.g. 'v')\n",
      " |  \n",
      " |  __str__(self)\n",
      " |      String representation\n",
      " |  \n",
      " |  destroy(self, sim=None)\n",
      " |      Destroy recording\n",
      " |  \n",
      " |  instantiate(self, sim=None, icell=None)\n",
      " |      Instantiate recording\n",
      " |  \n",
      " |  ----------------------------------------------------------------------\n",
      " |  Readonly properties defined here:\n",
      " |  \n",
      " |  response\n",
      " |      Return recording response\n",
      " |  \n",
      " |  ----------------------------------------------------------------------\n",
      " |  Data and other attributes defined here:\n",
      " |  \n",
      " |  __slotnames__ = []\n",
      " |  \n",
      " |  ----------------------------------------------------------------------\n",
      " |  Data descriptors inherited from Recording:\n",
      " |  \n",
      " |  __dict__\n",
      " |      dictionary for instance variables (if defined)\n",
      " |  \n",
      " |  __weakref__\n",
      " |      list of weak references to the object (if defined)\n",
      "\n"
     ]
    }
   ],
   "source": [
    "help(ephys.recordings.CompRecording)"
   ]
  },
  {
   "cell_type": "code",
   "execution_count": 14,
   "id": "209eab00",
   "metadata": {},
   "outputs": [
    {
     "data": {
      "text/plain": [
       "[<matplotlib.lines.Line2D at 0x7fb91bf7e890>]"
      ]
     },
     "execution_count": 14,
     "metadata": {},
     "output_type": "execute_result"
    },
    {
     "data": {
      "image/png": "[encoded data removed]",
      "text/plain": [
       "<Figure size 640x480 with 1 Axes>"
      ]
     },
     "metadata": {},
     "output_type": "display_data"
    }
   ],
   "source": [
    "plt.plot(response['soma.v']['time'], response['soma.v']['voltage'])"
   ]
  },
  {
   "cell_type": "code",
   "execution_count": 17,
   "id": "cc3527e6",
   "metadata": {},
   "outputs": [
    {
     "ename": "TypeError",
     "evalue": "argument of type 'NoneType' is not iterable",
     "output_type": "error",
     "traceback": [
      "\u001b[0;31m---------------------------------------------------------------------------\u001b[0m",
      "\u001b[0;31mTypeError\u001b[0m                                 Traceback (most recent call last)",
      "Cell \u001b[0;32mIn [17], line 1\u001b[0m\n\u001b[0;32m----> 1\u001b[0m \u001b[43mburst_number_objective\u001b[49m\u001b[38;5;241;43m.\u001b[39;49m\u001b[43mcalculate_feature_scores\u001b[49m\u001b[43m(\u001b[49m\u001b[43mresponse\u001b[49m\u001b[43m)\u001b[49m\n",
      "File \u001b[0;32m~/venvs/jupyter_env/lib/python3.10/site-packages/bluepyopt/ephys/objectives.py:46\u001b[0m, in \u001b[0;36mEFeatureObjective.calculate_feature_scores\u001b[0;34m(self, responses)\u001b[0m\n\u001b[1;32m     44\u001b[0m scores \u001b[38;5;241m=\u001b[39m []\n\u001b[1;32m     45\u001b[0m \u001b[38;5;28;01mfor\u001b[39;00m feature \u001b[38;5;129;01min\u001b[39;00m \u001b[38;5;28mself\u001b[39m\u001b[38;5;241m.\u001b[39mfeatures:\n\u001b[0;32m---> 46\u001b[0m     scores\u001b[38;5;241m.\u001b[39mappend(\u001b[43mfeature\u001b[49m\u001b[38;5;241;43m.\u001b[39;49m\u001b[43mcalculate_score\u001b[49m\u001b[43m(\u001b[49m\u001b[43mresponses\u001b[49m\u001b[43m)\u001b[49m)\n\u001b[1;32m     48\u001b[0m \u001b[38;5;28;01mreturn\u001b[39;00m scores\n",
      "File \u001b[0;32m~/venvs/jupyter_env/lib/python3.10/site-packages/bluepyopt/ephys/efeatures.py:210\u001b[0m, in \u001b[0;36meFELFeature.calculate_score\u001b[0;34m(self, responses, trace_check)\u001b[0m\n\u001b[1;32m    207\u001b[0m \u001b[38;5;28;01mdef\u001b[39;00m \u001b[38;5;21mcalculate_score\u001b[39m(\u001b[38;5;28mself\u001b[39m, responses, trace_check\u001b[38;5;241m=\u001b[39m\u001b[38;5;28;01mFalse\u001b[39;00m):\n\u001b[1;32m    208\u001b[0m     \u001b[38;5;124;03m\"\"\"Calculate the score\"\"\"\u001b[39;00m\n\u001b[0;32m--> 210\u001b[0m     efel_trace \u001b[38;5;241m=\u001b[39m \u001b[38;5;28;43mself\u001b[39;49m\u001b[38;5;241;43m.\u001b[39;49m\u001b[43m_construct_efel_trace\u001b[49m\u001b[43m(\u001b[49m\u001b[43mresponses\u001b[49m\u001b[43m)\u001b[49m\n\u001b[1;32m    212\u001b[0m     \u001b[38;5;28;01mif\u001b[39;00m efel_trace \u001b[38;5;129;01mis\u001b[39;00m \u001b[38;5;28;01mNone\u001b[39;00m:\n\u001b[1;32m    213\u001b[0m         score \u001b[38;5;241m=\u001b[39m \u001b[38;5;28mself\u001b[39m\u001b[38;5;241m.\u001b[39mmax_score\n",
      "File \u001b[0;32m~/venvs/jupyter_env/lib/python3.10/site-packages/bluepyopt/ephys/efeatures.py:127\u001b[0m, in \u001b[0;36meFELFeature._construct_efel_trace\u001b[0;34m(self, responses)\u001b[0m\n\u001b[1;32m    124\u001b[0m \u001b[38;5;124;03m\"\"\"Construct trace that can be passed to eFEL\"\"\"\u001b[39;00m\n\u001b[1;32m    126\u001b[0m trace \u001b[38;5;241m=\u001b[39m {}\n\u001b[0;32m--> 127\u001b[0m \u001b[38;5;28;01mif\u001b[39;00m \u001b[38;5;124;43m'\u001b[39;49m\u001b[38;5;124;43m'\u001b[39;49m\u001b[43m \u001b[49m\u001b[38;5;129;43;01mnot\u001b[39;49;00m\u001b[43m \u001b[49m\u001b[38;5;129;43;01min\u001b[39;49;00m\u001b[43m \u001b[49m\u001b[38;5;28;43mself\u001b[39;49m\u001b[38;5;241;43m.\u001b[39;49m\u001b[43mrecording_names\u001b[49m:\n\u001b[1;32m    128\u001b[0m     \u001b[38;5;28;01mraise\u001b[39;00m \u001b[38;5;167;01mException\u001b[39;00m(\n\u001b[1;32m    129\u001b[0m         \u001b[38;5;124m'\u001b[39m\u001b[38;5;124meFELFeature: \u001b[39m\u001b[38;5;130;01m\\'\u001b[39;00m\u001b[38;5;130;01m\\'\u001b[39;00m\u001b[38;5;124m needs to be in recording_names\u001b[39m\u001b[38;5;124m'\u001b[39m)\n\u001b[1;32m    130\u001b[0m \u001b[38;5;28;01mfor\u001b[39;00m location_name, recording_name \u001b[38;5;129;01min\u001b[39;00m \u001b[38;5;28mself\u001b[39m\u001b[38;5;241m.\u001b[39mrecording_names\u001b[38;5;241m.\u001b[39mitems():\n",
      "\u001b[0;31mTypeError\u001b[0m: argument of type 'NoneType' is not iterable"
     ]
    }
   ],
   "source": [
    "burst_number_objective.calculate_feature_scores(response)"
   ]
  },
  {
   "cell_type": "markdown",
   "id": "2ab36d29",
   "metadata": {},
   "source": [
    "## Evaluator"
   ]
  },
  {
   "cell_type": "code",
   "execution_count": null,
   "id": "f34501b9",
   "metadata": {},
   "outputs": [],
   "source": [
    "help(ephys.objectives.EFeatureObjective)"
   ]
  },
  {
   "cell_type": "code",
   "execution_count": null,
   "id": "0429b8b3",
   "metadata": {},
   "outputs": [],
   "source": [
    "responses "
   ]
  },
  {
   "cell_type": "code",
   "execution_count": 16,
   "id": "8441952a",
   "metadata": {},
   "outputs": [],
   "source": [
    "burst_number_feature = ephys.efeatures.eFELFeature(\n",
    "    'burst_number',\n",
    "    efel_feature_name='burst_number',\n",
    "    stim_start=0,                                                   \n",
    "    stim_end=duration,                                                       \n",
    ")\n",
    "\n",
    "burst_number_objective = ephys.objectives.SingletonObjective(                    \n",
    "    burst_number_feature.name,                                                   \n",
    "    burst_number_feature)               \n",
    "\n",
    "score_calc = ephys.objectivescalculators.ObjectivesCalculator(               \n",
    "    [burst_number_objective])\n",
    "\n",
    "cell_evaluator = ephys.evaluators.CellEvaluator(                             \n",
    "    cell_model=cell,                                                         \n",
    "    param_names=['excitatory_expsyn_tau', 'inhibitory_expsyn_tau'],                                              \n",
    "    fitness_protocols={protocol.name: protocol},                             \n",
    "    fitness_calculator=score_calc,                                           \n",
    "    sim=nrn_sim)"
   ]
  },
  {
   "cell_type": "code",
   "execution_count": null,
   "id": "9367550c",
   "metadata": {},
   "outputs": [],
   "source": [
    "default_param_values = {'excitatory_expsyn_tau': 10.0}                                  \n",
    "\n",
    "print(cell_evaluator.evaluate_with_dicts(default_param_values))"
   ]
  },
  {
   "cell_type": "code",
   "execution_count": null,
   "id": "1c69245f",
   "metadata": {},
   "outputs": [],
   "source": [
    "default_param_values = {'inhibitory_expsyn_tau': 10.0}                                  \n",
    "\n",
    "print(cell_evaluator.evaluate_with_dicts(default_param_values))"
   ]
  },
  {
   "cell_type": "markdown",
   "id": "0f12af0d",
   "metadata": {},
   "source": [
    "## optimization"
   ]
  },
  {
   "cell_type": "code",
   "execution_count": null,
   "id": "7bdd22a4",
   "metadata": {},
   "outputs": [],
   "source": [
    "optimisation = bpopt.optimisations.DEAPOptimisation(                         \n",
    "    evaluator=cell_evaluator,                                                \n",
    "    offspring_size=10)                                                       \n",
    "\n",
    "_, hall_of_fame, _, _ = optimisation.run(max_ngen=5)                         "
   ]
  },
  {
   "cell_type": "code",
   "execution_count": null,
   "id": "fdae8069",
   "metadata": {},
   "outputs": [],
   "source": [
    "best_ind = hall_of_fame[0]                                                   \n",
    "\n",
    "print('Best individual: ', best_ind)\n",
    "print('Fitness values: ', best_ind.fitness.values)\n",
    "\n",
    "best_ind_dict = cell_evaluator.param_dict(best_ind)                          \n",
    "responses = protocol.run(                                                    \n",
    "    cell_model=cell,                                                         \n",
    "    param_values=best_ind_dict,                                              \n",
    "    sim=nrn_sim)                                                             \n",
    "\n",
    "time = responses['soma.v']['time']                                           \n",
    "voltage = responses['soma.v']['voltage']                                     \n",
    "                                            \n",
    "plt.style.use('ggplot')                                                      \n",
    "plt.plot(time, voltage)                                                      \n",
    "plt.xlabel('Time (ms)')                                                      \n",
    "plt.ylabel('Voltage (mV)')                                                   \n",
    "plt.show()        "
   ]
  }
 ],
 "metadata": {
  "kernelspec": {
   "display_name": "Python 3 (ipykernel)",
   "language": "python",
   "name": "python3"
  },
  "language_info": {
   "codemirror_mode": {
    "name": "ipython",
    "version": 3
   },
   "file_extension": ".py",
   "mimetype": "text/x-python",
   "name": "python",
   "nbconvert_exporter": "python",
   "pygments_lexer": "ipython3",
   "version": "3.10.6"
  }
 },
 "nbformat": 4,
 "nbformat_minor": 5
}
