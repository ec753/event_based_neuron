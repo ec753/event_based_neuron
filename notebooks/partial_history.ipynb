{
 "cells": [
  {
   "cell_type": "markdown",
   "id": "8136ecbb",
   "metadata": {},
   "source": [
    "# Partial History\n",
    "\n"
   ]
  },
  {
   "cell_type": "code",
   "execution_count": 1,
   "id": "b07b999c",
   "metadata": {},
   "outputs": [],
   "source": [
    "import numpy as np\n",
    "import matplotlib.pyplot as plt\n",
    "import os\n",
    "import sys\n",
    "import json\n",
    "from scipy import stats\n",
    "import matplotlib.lines as lines\n",
    "\n",
    "sys.path.insert(1, \"./utils/\")\n",
    "import HH, Stimuli\n",
    "\n",
    "from neuron import h\n",
    "h.load_file(\"stdrun.hoc\")\n",
    "from neuron.units import mV, ms"
   ]
  },
  {
   "cell_type": "markdown",
   "id": "9ea0340d",
   "metadata": {},
   "source": [
    "## load data"
   ]
  },
  {
   "cell_type": "code",
   "execution_count": 2,
   "id": "4434fafd",
   "metadata": {},
   "outputs": [],
   "source": [
    "data_dir = './data/partial_history/'\n",
    "figures_dir = './figures/'"
   ]
  },
  {
   "cell_type": "code",
   "execution_count": 3,
   "id": "2b43cba0",
   "metadata": {},
   "outputs": [],
   "source": [
    "with open(f'{data_dir}stimuli.json') as f:\n",
    "    stimuli = json.load(f)"
   ]
  },
  {
   "cell_type": "code",
   "execution_count": 4,
   "id": "cf99a9c5",
   "metadata": {},
   "outputs": [],
   "source": [
    "histories_base = np.load(f'{data_dir}histories_base.npy')\n",
    "histories_lw = np.load(f'{data_dir}histories_lw.npy')\n",
    "histories_lt = np.load(f'{data_dir}histories_lt.npy')\n",
    "histories_lwlt = np.load(f'{data_dir}histories_lwlt.npy')\n",
    "histories_burst = np.load(f'{data_dir}histories_burst.npy')\n",
    "histories_sets = {\n",
    "    'base': histories_base,\n",
    "    'lw': histories_lw,\n",
    "    'lt': histories_lt,\n",
    "    'lwlt': histories_lwlt,\n",
    "    'burst': histories_burst\n",
    "}"
   ]
  },
  {
   "cell_type": "code",
   "execution_count": 5,
   "id": "4ed5c084",
   "metadata": {},
   "outputs": [
    {
     "data": {
      "text/plain": [
       "140000000"
      ]
     },
     "execution_count": 5,
     "metadata": {},
     "output_type": "execute_result"
    }
   ],
   "source": [
    "5*1000*28*1000"
   ]
  },
  {
   "cell_type": "code",
   "execution_count": 6,
   "id": "9ed512ce",
   "metadata": {},
   "outputs": [
    {
     "name": "stdout",
     "output_type": "stream",
     "text": [
      "number of results files: 140000 / 140000\n",
      "______PROGRESS______\n",
      "===================="
     ]
    }
   ],
   "source": [
    "results_files = os.listdir(f'{data_dir}results')\n",
    "print(f'number of results files: {len(results_files)} / {5*28*1000}')\n",
    "\n",
    "results = {\n",
    "    'base':{n:{} for n in range(3,31)},\n",
    "    'lw':{n:{} for n in range(3,31)},\n",
    "    'lt':{n:{} for n in range(3,31)},\n",
    "    'lwlt':{n:{} for n in range(3,31)},\n",
    "    'burst':{n:{} for n in range(3,31)},\n",
    "}\n",
    "\n",
    "progress = 0.0\n",
    "print('______PROGRESS______')\n",
    "for i, results_file in enumerate(results_files):\n",
    "    stim_type = results_file.split('_')[0]\n",
    "    n = int(results_file.split('_')[1])\n",
    "    pattern_id = int(results_file.split('_')[2].strip('.npy'))\n",
    "    \n",
    "    results[stim_type][n][pattern_id] = np.load(f'{data_dir}results/{results_file}')\n",
    "    \n",
    "    if i / len(results_files) > progress:\n",
    "        progress += 0.05\n",
    "        print('=', end='')"
   ]
  },
  {
   "cell_type": "code",
   "execution_count": 7,
   "id": "764e9b95",
   "metadata": {},
   "outputs": [],
   "source": [
    "def calc_spike_presence_prediction_acc(df):\n",
    "    no_spike = np.sum(np.isnan(df))\n",
    "    spike = df.shape[0] - no_spike\n",
    "    return (no_spike/df.shape[0])**2 + (spike/df.shape[0])**2\n",
    "\n",
    "def calc_nst_std(df):\n",
    "    return np.std(df[~np.isnan(df)])\n",
    "\n",
    "def calc_nst_mae(df):\n",
    "    _df = df[~np.isnan(df)]\n",
    "    return np.nanmean(np.abs(_df - np.mean(_df)))"
   ]
  },
  {
   "cell_type": "code",
   "execution_count": 8,
   "id": "32f296b8",
   "metadata": {},
   "outputs": [
    {
     "name": "stderr",
     "output_type": "stream",
     "text": [
      "/home/ec753/venvs/jupyter_env/lib/python3.10/site-packages/numpy/core/_methods.py:265: RuntimeWarning: Degrees of freedom <= 0 for slice\n",
      "  ret = _var(a, axis=axis, dtype=dtype, out=out, ddof=ddof,\n",
      "/home/ec753/venvs/jupyter_env/lib/python3.10/site-packages/numpy/core/_methods.py:223: RuntimeWarning: invalid value encountered in divide\n",
      "  arrmean = um.true_divide(arrmean, div, out=arrmean, casting='unsafe',\n",
      "/home/ec753/venvs/jupyter_env/lib/python3.10/site-packages/numpy/core/_methods.py:257: RuntimeWarning: invalid value encountered in double_scalars\n",
      "  ret = ret.dtype.type(ret / rcount)\n",
      "/home/ec753/venvs/jupyter_env/lib/python3.10/site-packages/numpy/core/fromnumeric.py:3432: RuntimeWarning: Mean of empty slice.\n",
      "  return _methods._mean(a, axis=axis, dtype=dtype,\n",
      "/home/ec753/venvs/jupyter_env/lib/python3.10/site-packages/numpy/core/_methods.py:190: RuntimeWarning: invalid value encountered in double_scalars\n",
      "  ret = ret.dtype.type(ret / rcount)\n",
      "/tmp/ipykernel_11376/1350620721.py:11: RuntimeWarning: Mean of empty slice\n",
      "  return np.nanmean(np.abs(_df - np.mean(_df)))\n"
     ]
    }
   ],
   "source": [
    "spike_presence_prediction_accs = {\n",
    "    'base': {n:[] for n in range(3,31)},\n",
    "    'lw': {n:[] for n in range(3,31)},\n",
    "    'lt': {n:[] for n in range(3,31)},\n",
    "    'lwlt': {n:[] for n in range(3,31)},\n",
    "    'burst': {n:[] for n in range(3,31)}\n",
    "}\n",
    "nst_stds = {\n",
    "    'base': {n:[] for n in range(3,31)},\n",
    "    'lw': {n:[] for n in range(3,31)},\n",
    "    'lt': {n:[] for n in range(3,31)},\n",
    "    'lwlt': {n:[] for n in range(3,31)},\n",
    "    'burst': {n:[] for n in range(3,31)}\n",
    "}\n",
    "nst_maes = {\n",
    "    'base': {n:[] for n in range(3,31)},\n",
    "    'lw': {n:[] for n in range(3,31)},\n",
    "    'lt': {n:[] for n in range(3,31)},\n",
    "    'lwlt': {n:[] for n in range(3,31)},\n",
    "    'burst': {n:[] for n in range(3,31)}\n",
    "}\n",
    "\n",
    "for stim_type in results:\n",
    "    for n in range(3,31):\n",
    "        for pattern_ind in range(1000):\n",
    "            try:\n",
    "                df = results[stim_type][n][pattern_ind]\n",
    "                spike_presence_prediction_accs[stim_type][n].append(calc_spike_presence_prediction_acc(df))\n",
    "                nst_stds[stim_type][n].append(calc_nst_std(df))\n",
    "                nst_maes[stim_type][n].append(calc_nst_mae(df))\n",
    "            except:\n",
    "                pass"
   ]
  },
  {
   "cell_type": "code",
   "execution_count": 9,
   "id": "645d6eb1",
   "metadata": {},
   "outputs": [],
   "source": [
    "spike_presence_prediction_acc_means = {\n",
    "    'base': [],\n",
    "    'lw': [],\n",
    "    'lt': [],\n",
    "    'lwlt': [],\n",
    "    'burst': []\n",
    "}\n",
    "nst_std_means = {\n",
    "    'base': [],\n",
    "    'lw': [],\n",
    "    'lt': [],\n",
    "    'lwlt': [],\n",
    "    'burst': []\n",
    "}\n",
    "nst_mae_means = {\n",
    "    'base': [],\n",
    "    'lw': [],\n",
    "    'lt': [],\n",
    "    'lwlt': [],\n",
    "    'burst': []\n",
    "}\n",
    "\n",
    "for stim_type in spike_presence_prediction_accs:\n",
    "    for n in range(3,31):\n",
    "        spike_presence_prediction_acc_means[stim_type].append(np.mean(spike_presence_prediction_accs[stim_type][n]))\n",
    "        \n",
    "        nst_std_means[stim_type].append(np.nanmean(nst_stds[stim_type][n]))\n",
    "        \n",
    "        nst_mae_means[stim_type].append(np.nanmean(nst_maes[stim_type][n]))"
   ]
  },
  {
   "cell_type": "code",
   "execution_count": 10,
   "id": "71bdce94",
   "metadata": {},
   "outputs": [
    {
     "data": {
      "image/png": "[encoded data removed]",
      "text/plain": [
       "<Figure size 325x400 with 2 Axes>"
      ]
     },
     "metadata": {},
     "output_type": "display_data"
    }
   ],
   "source": [
    "colors = {\n",
    "    'base': 'maroon',\n",
    "    'lw': 'orangered',\n",
    "    'lt': 'darkgreen',\n",
    "    'lwlt': 'teal',\n",
    "    'burst': 'indigo'\n",
    "}\n",
    "ns = np.arange(3,31,1)\n",
    "\n",
    "fig, axes = plt.subplots(2,1, figsize=(3.25,4), sharex=True)\n",
    "for stim_type in spike_presence_prediction_acc_means:\n",
    "    axes[0].plot(ns, spike_presence_prediction_acc_means[stim_type], c=colors[stim_type])\n",
    "    \n",
    "    axes[1].plot(ns, nst_std_means[stim_type], c=colors[stim_type])\n",
    "\n",
    "axes[-1].set_xlim(3,30)\n",
    "\n",
    "axes[0].set_ylabel('spike prediction\\ncoherence')\n",
    "axes[1].set_ylabel('NST standard\\ndeviation (ms)')\n",
    "axes[1].set_xlabel('n inputs')\n",
    "axes[0].legend(list(colors.keys()))\n",
    "\n",
    "axes[0].spines['top'].set_visible(False)\n",
    "axes[1].spines['top'].set_visible(False)\n",
    "axes[0].spines['right'].set_visible(False)\n",
    "axes[1].spines['right'].set_visible(False)\n",
    "\n",
    "plt.savefig(f'{figures_dir}spike_prediction_and_nst_std.svg', format='svg')\n",
    "#plt.savefig(f'{figures_dir}spike_prediction_and_nst_std.png', format='png', dpi=300)\n",
    "\n",
    "plt.show()"
   ]
  }
 ],
 "metadata": {
  "kernelspec": {
   "display_name": "Python 3 (ipykernel)",
   "language": "python",
   "name": "python3"
  },
  "language_info": {
   "codemirror_mode": {
    "name": "ipython",
    "version": 3
   },
   "file_extension": ".py",
   "mimetype": "text/x-python",
   "name": "python",
   "nbconvert_exporter": "python",
   "pygments_lexer": "ipython3",
   "version": "3.10.6"
  }
 },
 "nbformat": 4,
 "nbformat_minor": 5
}
