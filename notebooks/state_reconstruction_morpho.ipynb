{
 "cells": [
  {
   "cell_type": "markdown",
   "id": "514d5b1a",
   "metadata": {},
   "source": [
    "# state_reconstruction_morpho\n",
    "State variable reconstruction and model visualization"
   ]
  },
  {
   "cell_type": "code",
   "execution_count": 2,
   "id": "1c4bd475",
   "metadata": {},
   "outputs": [
    {
     "data": {
      "text/plain": [
       "1.0"
      ]
     },
     "execution_count": 2,
     "metadata": {},
     "output_type": "execute_result"
    }
   ],
   "source": [
    "from neuron import h\n",
    "from neuron.units import mV, ms\n",
    "import numpy as np\n",
    "import plotly\n",
    "import matplotlib.pyplot as plt\n",
    "from matplotlib import cm\n",
    "import queue\n",
    "import json\n",
    "import gc\n",
    "import os\n",
    "\n",
    "import sys\n",
    "sys.path.insert(1, \"../utils/\")\n",
    "import Morpho, Stimuli\n",
    "\n",
    "h.load_file(\"stdrun.hoc\")\n",
    "h.load_file(\"stdlib.hoc\")\n",
    "h.load_file(\"import3d.hoc\")\n",
    "h.load_file(\"stdrun.hoc\")"
   ]
  },
  {
   "cell_type": "code",
   "execution_count": 3,
   "id": "daf4872f",
   "metadata": {},
   "outputs": [],
   "source": [
    "pyr = Morpho.Pyramidal(\"../morphology/c91662.CNG.swc\", record_spiking_histories=True)\n",
    "duration = 5000 # any longer than 10000 is a bit fraught, there are lots of state variables to keep track of\n",
    "\n",
    "stim_params = Stimuli.MorphoStimParams(pyr)\n",
    "\n",
    "stimuli = Stimuli.poisson_times_from_stim_params(stim_params.stim_scaffold, duration=duration)\n",
    "for seg in stimuli:\n",
    "    pyr.connect_input(stimuli[seg], pyr.all_input_segments[seg])"
   ]
  },
  {
   "cell_type": "code",
   "execution_count": 4,
   "id": "8466c179",
   "metadata": {},
   "outputs": [
    {
     "data": {
      "text/plain": [
       "153"
      ]
     },
     "execution_count": 4,
     "metadata": {},
     "output_type": "execute_result"
    }
   ],
   "source": [
    "h.finitialize(-65)\n",
    "h.continuerun(duration)\n",
    "len(pyr.spike_times)"
   ]
  },
  {
   "cell_type": "code",
   "execution_count": null,
   "id": "324683c7",
   "metadata": {},
   "outputs": [],
   "source": [
    "'''n = 0\n",
    "\n",
    "outdir = './data/state_reconstruct_morpho/original_simulation_data/'\n",
    "\n",
    "os.mkdir(f'{outdir}stimuli_{n}')\n",
    "for seg_ind in stimuli:\n",
    "    path = f'{outdir}stimuli_{n}stimulus_{n}.{seg_ind}.json'\n",
    "    stimuli[seg_ind].write2file(path)'''"
   ]
  },
  {
   "cell_type": "code",
   "execution_count": 5,
   "id": "5fd94a0b",
   "metadata": {},
   "outputs": [],
   "source": [
    "spiking_history = pyr.spiking_histories[50]"
   ]
  },
  {
   "cell_type": "code",
   "execution_count": 6,
   "id": "336c6278",
   "metadata": {},
   "outputs": [],
   "source": [
    "# commit spike times for reconstruction\n",
    "spikes = list(pyr.spike_times)\n",
    "\n",
    "# commit membrane voltage for reconstruction\n",
    "obv_v = np.array([list(vec) for vec in pyr.v])\n",
    "# this last step takes a little bit of time"
   ]
  },
  {
   "cell_type": "code",
   "execution_count": null,
   "id": "81548827",
   "metadata": {},
   "outputs": [],
   "source": [
    "spikes"
   ]
  },
  {
   "cell_type": "code",
   "execution_count": null,
   "id": "098bcb71",
   "metadata": {},
   "outputs": [],
   "source": [
    "stim_events = []\n",
    "for seg_ind in stimuli:\n",
    "    for event_time in stimuli[seg_ind].event_times:\n",
    "        stim_events.append(\n",
    "            (\n",
    "                stimuli[seg_ind]._id, \n",
    "                event_time, \n",
    "                stimuli[seg_ind].tau, \n",
    "                stimuli[seg_ind].rev_potential, \n",
    "                seg_ind, \n",
    "                stimuli[seg_ind].weight\n",
    "            )\n",
    "        )\n",
    "stim_events.sort(key = lambda x: x[1])"
   ]
  },
  {
   "cell_type": "code",
   "execution_count": null,
   "id": "74de646b",
   "metadata": {},
   "outputs": [],
   "source": [
    "def event_sim_reconstruct(events, start_time, sim_duration, history=None):\n",
    "    '''\n",
    "    # used for simulating a morpho cell, detatched from other simulations, for n inputs\n",
    "    :param events:\n",
    "    :return:\n",
    "    '''\n",
    "    #h('forall delete_section()')\n",
    "    #pyr = Pyramidal()\n",
    "    pyr._clear_cell(False)\n",
    "\n",
    "    # generate necessary synapses\n",
    "    syns = {}\n",
    "    for event in events:\n",
    "        syns[event.seg_ind] = h.ExpSyn(pyr.all_input_segments[event.seg_ind])\n",
    "        syns[event.seg_ind].tau = event.tau\n",
    "        syns[event.seg_ind].e = event.rev_potential\n",
    "\n",
    "    # create net connections for each stimulus\n",
    "    min_event_time = min([event.t for event in events])\n",
    "    max_event_time = max([event.t for event in events])\n",
    "    \n",
    "    # initialize cell with history\n",
    "    if history:\n",
    "        pyr.set_initialize_state(history)\n",
    "\n",
    "    netstims = [h.NetStim() for event in events]\n",
    "    for netstim, event in zip(netstims, events):\n",
    "        netstim.number = 1\n",
    "        netstim.start = event.t\n",
    "        netcon = h.NetCon(netstim, syns[event.seg_ind])\n",
    "        netcon.weight[0] = event.weight\n",
    "        netcon.delay = 0 * ms\n",
    "        pyr.netcons.append(netcon)\n",
    "\n",
    "    # run simulation\n",
    "    h.finitialize(-65)\n",
    "    \n",
    "    #print(len(list(h.allsec())))\n",
    "    \n",
    "    h.continuerun(sim_duration)\n",
    "    my_result = list(pyr.v)\n",
    "    return my_result"
   ]
  },
  {
   "cell_type": "markdown",
   "id": "0b420988",
   "metadata": {},
   "source": [
    "## V reconstruction"
   ]
  },
  {
   "cell_type": "markdown",
   "id": "13ea80ad",
   "metadata": {},
   "source": [
    "## Troubleshooting"
   ]
  },
  {
   "cell_type": "code",
   "execution_count": null,
   "id": "888cb659",
   "metadata": {},
   "outputs": [],
   "source": [
    "# troubleshoot single instance\n",
    "reconstruct_duration = 100\n",
    "ind = 15\n",
    "starting_spike = spikes[ind]\n",
    "subsequent_stims = [stim for stim in stim_events if (stim[1] > starting_spike) and (stim[1] <= starting_spike+reconstruct_duration)]\n",
    "\n",
    "events = [Event(\n",
    "        _id=stim[0],\n",
    "        t=stim[1]-starting_spike,\n",
    "        tau=stim[2],\n",
    "        rev_potential=stim[3],\n",
    "        seg_ind=stim[4],\n",
    "        weight=stim[5]\n",
    "    ) for stim in subsequent_stims]\n",
    "\n",
    "# get comparable df\n",
    "start_ind = starting_spike * 40\n",
    "stop_ind = (starting_spike + reconstruct_duration) * 40\n",
    "comparable_obvs_window = obv_v[:, round(start_ind):round(stop_ind+1)]\n",
    "\n",
    "re_df = event_sim_reconstruct(events, starting_spike, reconstruct_duration, history=spiking_history)\n",
    "#re_df = event_sim_reconstruct(events, reconstruct_duration)\n",
    "re_df = np.array([list(vec) for vec in re_df])\n",
    "\n",
    "\n",
    "print(comparable_obvs_window.shape)\n",
    "print(re_df.shape)\n",
    "\n",
    "_t = np.arange(0,100.025,1/40)\n",
    "\n",
    "fig, axes = plt.subplots(2,1,figsize=(15,6), gridspec_kw={'height_ratios': [3, 3]}, sharex=True)\n",
    "axes[0].plot(_t, comparable_obvs_window[100])\n",
    "axes[0].vlines([event.t for event in events], -80, -70)\n",
    "\n",
    "axes[1].plot(_t, re_df[100])\n",
    "axes[1].vlines([event.t for event in events], -80, -70)"
   ]
  },
  {
   "cell_type": "markdown",
   "id": "dfd0e5d1",
   "metadata": {},
   "source": [
    "## running experiment"
   ]
  },
  {
   "cell_type": "code",
   "execution_count": null,
   "id": "8647ffcb",
   "metadata": {},
   "outputs": [],
   "source": [
    "reconstruct_duration = 100\n",
    "n = 100 # number of spikes to reconstruct\n",
    "viable_spikes = [spike for spike in spikes if spike < max_time - reconstruct_duration]\n",
    "spike_inds = np.random.choice(np.arange(0, len(viable_spikes)), n, replace=False)\n",
    "\n",
    "reconstructed_dfs = []\n",
    "comparable_obvs_dfs = []\n",
    "\n",
    "print('______PROGRESS______')\n",
    "progress = 0.0\n",
    "for i, ind in enumerate(spike_inds):\n",
    "    starting_spike = spikes[ind]\n",
    "    subsequent_stims = [stim for stim in stim_events if (stim[1] > starting_spike) and (stim[1] <= starting_spike+reconstruct_duration)]\n",
    "\n",
    "    events = [Event(\n",
    "            _id=stim[0],\n",
    "            t=stim[1]-starting_spike,\n",
    "            tau=stim[2],\n",
    "            rev_potential=stim[3],\n",
    "            seg_ind=stim[4],\n",
    "            weight=stim[5]\n",
    "        ) for stim in subsequent_stims]\n",
    "\n",
    "    # get comparable df\n",
    "    start_ind = starting_spike * 40\n",
    "    stop_ind = (starting_spike + reconstruct_duration) * 40\n",
    "    comparable_obvs_window = obv_v[:, round(start_ind):round(stop_ind+1)]\n",
    "\n",
    "    re_df = event_sim_reconstruct(events, starting_spike, reconstruct_duration, history=spiking_history)\n",
    "    #re_df = event_sim_reconstruct(events, reconstruct_duration)\n",
    "    re_df = np.array([list(vec) for vec in re_df])\n",
    "    \n",
    "    reconstructed_dfs.append(re_df)\n",
    "    comparable_obvs_dfs.append(comparable_obvs_window)\n",
    "    \n",
    "    if i/n > progress:\n",
    "        print('=',end='')\n",
    "        progress+=0.05"
   ]
  },
  {
   "cell_type": "code",
   "execution_count": null,
   "id": "802d0a9d",
   "metadata": {},
   "outputs": [],
   "source": [
    "reconstructed_dfs[0][0,:].shape"
   ]
  },
  {
   "cell_type": "code",
   "execution_count": null,
   "id": "128f677d",
   "metadata": {},
   "outputs": [],
   "source": [
    "comparable_obvs_dfs[0][0,:].shape"
   ]
  },
  {
   "cell_type": "markdown",
   "id": "65e95a9a",
   "metadata": {},
   "source": [
    "## convert all vectors to np mats"
   ]
  },
  {
   "cell_type": "code",
   "execution_count": null,
   "id": "687cd528",
   "metadata": {},
   "outputs": [],
   "source": [
    "ind = 10\n",
    "plt.plot(_t, comparable_obvs_dfs[ind][0,:])\n",
    "plt.plot(_t, reconstructed_dfs[ind][0,:])\n",
    "plt.show()"
   ]
  },
  {
   "cell_type": "markdown",
   "id": "4cb52975",
   "metadata": {},
   "source": [
    "## get the distances"
   ]
  },
  {
   "cell_type": "code",
   "execution_count": null,
   "id": "40524b50",
   "metadata": {},
   "outputs": [],
   "source": [
    "difs = []\n",
    "for ind in range(n):\n",
    "    difs.append(comparable_obvs_dfs[ind] - reconstructed_dfs[ind])\n",
    "difs[0].shape"
   ]
  },
  {
   "cell_type": "code",
   "execution_count": null,
   "id": "534ce45f",
   "metadata": {},
   "outputs": [],
   "source": [
    "# TODO: this but ordered by distance from soma\n",
    "plt.plot(difs[0])\n",
    "\n",
    "plt.show()"
   ]
  },
  {
   "cell_type": "markdown",
   "id": "2267fb81",
   "metadata": {},
   "source": [
    "## average difs by time"
   ]
  },
  {
   "cell_type": "code",
   "execution_count": null,
   "id": "eb4dfb2c",
   "metadata": {},
   "outputs": [],
   "source": [
    "all_segs = [seg for sec in pyr.all for seg in sec]\n",
    "soma_segs = [(i,seg) for i, seg in enumerate(all_segs) if 'soma' in str(seg.sec) ]\n",
    "axon_segs = [(i,seg) for i, seg in enumerate(all_segs) if 'axon' in str(seg.sec) ]\n",
    "dend_segs = [(i,seg) for i, seg in enumerate(all_segs) if 'dend' in str(seg.sec) ]\n",
    "apic_segs = [(i,seg) for i, seg in enumerate(all_segs) if 'apic' in str(seg.sec) ]"
   ]
  },
  {
   "cell_type": "code",
   "execution_count": null,
   "id": "7f2d11cc",
   "metadata": {},
   "outputs": [],
   "source": [
    "# calculate the errors\n",
    "difs = np.stack(difs)\n",
    "print(difs.shape)\n",
    "\n",
    "# and absolute errors\n",
    "abs_difs = np.abs(difs)"
   ]
  },
  {
   "cell_type": "code",
   "execution_count": null,
   "id": "647b2e12",
   "metadata": {},
   "outputs": [],
   "source": [
    "mean_difs_by_time = np.mean(abs_difs, axis=1)\n",
    "mean_difs_by_time.shape"
   ]
  },
  {
   "cell_type": "code",
   "execution_count": null,
   "id": "3845f93b",
   "metadata": {},
   "outputs": [],
   "source": [
    "mean_difs_by_seg = np.mean(abs_difs, axis=2)\n",
    "mean_difs_by_seg.shape"
   ]
  },
  {
   "cell_type": "code",
   "execution_count": null,
   "id": "ff2fa15d",
   "metadata": {},
   "outputs": [],
   "source": [
    "abs_difs"
   ]
  },
  {
   "cell_type": "code",
   "execution_count": null,
   "id": "a8bd5a1a",
   "metadata": {},
   "outputs": [],
   "source": [
    "figures_dir = './figures/'"
   ]
  },
  {
   "cell_type": "code",
   "execution_count": null,
   "id": "11a31682",
   "metadata": {},
   "outputs": [],
   "source": [
    "plt.figure(figsize=(6.5,4))\n",
    "\n",
    "# all segs\n",
    "plt.plot(_t, np.mean(mean_difs_by_time, axis=0))\n",
    "\n",
    "# soma segs\n",
    "soma_difs = abs_difs[:,[x[0] for x in soma_segs],:]\n",
    "mean_soma_difs_by_time = np.mean(soma_difs, axis=1)\n",
    "plt.plot(_t, np.mean(mean_soma_difs_by_time, axis=0))\n",
    "\n",
    "# axon segs\n",
    "axon_difs = abs_difs[:,[x[0] for x in axon_segs],:]\n",
    "mean_axon_difs_by_time = np.mean(axon_difs, axis=1)\n",
    "plt.plot(_t, np.mean(mean_axon_difs_by_time, axis=0))\n",
    "\n",
    "# dend segs\n",
    "dend_difs = abs_difs[:,[x[0] for x in dend_segs],:]\n",
    "mean_dend_difs_by_time = np.mean(dend_difs, axis=1)\n",
    "plt.plot(_t, np.mean(mean_dend_difs_by_time, axis=0))\n",
    "\n",
    "# apic segs\n",
    "apic_difs = abs_difs[:,[x[0] for x in apic_segs],:]\n",
    "mean_apic_difs_by_time = np.mean(apic_difs, axis=1)\n",
    "plt.plot(_t, np.mean(mean_apic_difs_by_time, axis=0))\n",
    "\n",
    "\n",
    "plt.ylabel('mean absolute Vm reconstruct error (mV)')\n",
    "plt.xlabel('time (ms)')\n",
    "plt.xlim(0,25)\n",
    "\n",
    "plt.legend(['all segments','soma','axon','dendrites','apicical dendrites'])\n",
    "plt.gca().spines['right'].set_visible(False)\n",
    "plt.gca().spines['top'].set_visible(False)\n",
    "\n",
    "'''plt.savefig(f'{figures_dir}reconstruction_morpho.svg', format='svg')'''\n",
    "\n",
    "plt.show()"
   ]
  },
  {
   "cell_type": "code",
   "execution_count": null,
   "id": "ecf1afc9",
   "metadata": {},
   "outputs": [],
   "source": [
    "plt.plot(1,2)\n",
    "plt.plot(1,2)\n",
    "plt.plot(1,2)\n",
    "plt.plot(1,2)\n",
    "plt.plot(1,2)\n",
    "plt.legend(['all segments','soma','axon','dendrites','apical dendrites'])"
   ]
  },
  {
   "cell_type": "code",
   "execution_count": null,
   "id": "700c93f9",
   "metadata": {},
   "outputs": [],
   "source": [
    "def seg2color(seg):\n",
    "    if 'soma' in str(seg):\n",
    "        return 'orange'\n",
    "    elif 'axon' in str(seg):\n",
    "        return 'green'\n",
    "    elif 'dend' in str(seg):\n",
    "        return 'red'\n",
    "    elif 'apic' in str(seg):\n",
    "        return 'purple'\n",
    "    else:\n",
    "        return 'error'\n"
   ]
  },
  {
   "cell_type": "code",
   "execution_count": null,
   "id": "c20ca5fd",
   "metadata": {},
   "outputs": [],
   "source": [
    "plt.figure(figsize=(2.5,2))\n",
    "\n",
    "t = 10\n",
    "\n",
    "plt.scatter(\n",
    "    [h.distance(seg, pyr.soma[0](0.5)) for sec in pyr.all for seg in sec], \n",
    "    np.mean(abs_difs[:,:,t*40], axis=0), #np.mean(mean_difs_by_seg, axis=0)\n",
    "    color=[seg2color(seg) for seg in all_segs],\n",
    "    s=5,\n",
    "    alpha=0.5\n",
    ")\n",
    "plt.ylim(0, 5.5)\n",
    "\n",
    "plt.title(f'reconstruct error per\\nsegment after {t} ms')\n",
    "plt.ylabel('Vm reconstruct\\nMAE (mV)')\n",
    "plt.xlabel('path distance to soma (mm)')\n",
    "\n",
    "'''plt.savefig(f'{figures_dir}reconstruction_morpho_inlay10.svg', format='svg')'''\n",
    "\n",
    "plt.show()"
   ]
  },
  {
   "cell_type": "code",
   "execution_count": null,
   "id": "6e43e48f",
   "metadata": {},
   "outputs": [],
   "source": [
    "plt.figure(figsize=(2.5,2))\n",
    "t = 20\n",
    "plt.scatter(\n",
    "    [h.distance(seg, pyr.soma[0](0.5)) for sec in pyr.all for seg in sec], \n",
    "    np.mean(abs_difs[:,:,t*40], axis=0), #np.mean(mean_difs_by_seg, axis=0)\n",
    "    color=[seg2color(seg) for seg in all_segs],\n",
    "    s=5,\n",
    "    alpha=0.5\n",
    ")\n",
    "plt.ylim(0, 5.5)\n",
    "\n",
    "plt.title(f'reconstruct error per\\nsegment after {t} ms')\n",
    "plt.ylabel('Vm reconstruct\\nMAE (mV)')\n",
    "plt.xlabel('path distance to soma (mm)')\n",
    "\n",
    "'''plt.savefig(f'{figures_dir}reconstruction_morpho_inlay20.svg', format='svg')'''\n",
    "\n",
    "plt.show()"
   ]
  },
  {
   "cell_type": "code",
   "execution_count": null,
   "id": "a64fc0f5",
   "metadata": {},
   "outputs": [],
   "source": [
    "np.max(np.mean(abs_difs[:,:,800], axis=0))"
   ]
  },
  {
   "cell_type": "code",
   "execution_count": null,
   "id": "aacdefd7",
   "metadata": {},
   "outputs": [],
   "source": [
    "np.mean(abs_difs[:,:,800], axis=0).shape"
   ]
  },
  {
   "cell_type": "code",
   "execution_count": null,
   "id": "cbe7b14e",
   "metadata": {},
   "outputs": [],
   "source": [
    "abs_difs.shape"
   ]
  },
  {
   "cell_type": "markdown",
   "id": "a00ee55c",
   "metadata": {},
   "source": [
    "## 3D visualization"
   ]
  },
  {
   "cell_type": "code",
   "execution_count": null,
   "id": "57e083d7",
   "metadata": {},
   "outputs": [],
   "source": [
    "from neuron import rxd\n",
    "cyt = rxd.Region(pyr.all)\n",
    "error = rxd.Parameter(cyt)\n",
    "'''\n",
    "for node in error.nodes:\n",
    "    node.value = h.distance(node.segment, pyr.soma[0](0.5))\n",
    "'''\n",
    "\n",
    "i = 0\n",
    "vals = []\n",
    "for sec in pyr.all:\n",
    "    for seg in sec:\n",
    "        #error.nodes(seg).value = h.distance(seg, pyr.soma[0](0.5))\n",
    "        #error.nodes(seg).value = np.mean(mean_difs_by_seg, axis=0)[i]\n",
    "        error.nodes(seg).value = np.mean(abs_difs[:,:,800], axis=0)[i]\n",
    "        vals.append(np.mean(abs_difs[:,:,800], axis=0)[i])\n",
    "        \n",
    "        #print(seg, np.mean(abs_difs[:,:,800], axis=0)[i])\n",
    "        i+=1"
   ]
  },
  {
   "cell_type": "code",
   "execution_count": null,
   "id": "346b537e",
   "metadata": {},
   "outputs": [],
   "source": [
    "np.mean(abs_difs[:,:,800], axis=0).shape"
   ]
  },
  {
   "cell_type": "code",
   "execution_count": null,
   "id": "a6cba640",
   "metadata": {},
   "outputs": [],
   "source": [
    "abs_difs.shape"
   ]
  },
  {
   "cell_type": "code",
   "execution_count": null,
   "id": "735917db",
   "metadata": {},
   "outputs": [],
   "source": [
    "ps = h.PlotShape(False)\n",
    "ps.variable(error)\n",
    "ps.scale(0, 1)\n",
    "\n",
    "ps2 = ps.plot(plotly, cmap=cm.cool)\n",
    "\n",
    "for seg_ind in stimuli:\n",
    "    seg = pyr.all_input_segments[int(seg_ind)]\n",
    "    ps2.mark(seg, marker_size=3, marker_color=event_type2color(stimuli[seg_ind]._id), marker_opacity=.9)\n",
    "\n",
    "ps2.show()"
   ]
  },
  {
   "cell_type": "code",
   "execution_count": null,
   "id": "80163755",
   "metadata": {},
   "outputs": [],
   "source": [
    "import matplotlib as mpl\n",
    "import matplotlib.pyplot as plt\n",
    "\n",
    "fig, ax = plt.subplots(1, 1)\n",
    "\n",
    "fraction = 1  # .05\n",
    "\n",
    "norm = mpl.colors.Normalize(vmin=0, vmax=1)\n",
    "cbar = ax.figure.colorbar(\n",
    "            mpl.cm.ScalarMappable(norm=norm, cmap='cool'),\n",
    "            ax=ax, extend='both')\n",
    "\n",
    "ax.axis('off')\n",
    "plt.show()"
   ]
  }
 ],
 "metadata": {
  "kernelspec": {
   "display_name": "Python 3 (ipykernel)",
   "language": "python",
   "name": "python3"
  },
  "language_info": {
   "codemirror_mode": {
    "name": "ipython",
    "version": 3
   },
   "file_extension": ".py",
   "mimetype": "text/x-python",
   "name": "python",
   "nbconvert_exporter": "python",
   "pygments_lexer": "ipython3",
   "version": "3.10.6"
  }
 },
 "nbformat": 4,
 "nbformat_minor": 5
}
