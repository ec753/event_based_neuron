{
 "cells": [
  {
   "cell_type": "markdown",
   "id": "8136ecbb",
   "metadata": {},
   "source": [
    "# Partial History Wang Buzsaki\n"
   ]
  },
  {
   "cell_type": "code",
   "execution_count": 10,
   "id": "b07b999c",
   "metadata": {},
   "outputs": [],
   "source": [
    "import numpy as np\n",
    "import matplotlib.pyplot as plt\n",
    "import os\n",
    "import sys\n",
    "import json\n",
    "from scipy import stats\n",
    "import matplotlib.lines as lines\n",
    "import matplotlib as mpl\n",
    "\n",
    "sys.path.insert(1, \"../utils/\")\n",
    "import WB, Stimuli\n",
    "\n",
    "from neuron import h\n",
    "h.load_file(\"stdrun.hoc\")\n",
    "from neuron.units import mV, ms"
   ]
  },
  {
   "cell_type": "code",
   "execution_count": 69,
   "id": "2a001c0e",
   "metadata": {},
   "outputs": [],
   "source": [
    "ns = list(range(5,20,2))\n",
    "num_input_patterns_per_n = 100\n",
    "num_histories = 1000\n",
    "\n",
    "excitatory_interval = 5\n",
    "inhibitory_interval = 15"
   ]
  },
  {
   "cell_type": "markdown",
   "id": "330a913f",
   "metadata": {},
   "source": [
    "## Generate stimuli"
   ]
  },
  {
   "cell_type": "code",
   "execution_count": 70,
   "id": "5b10c9a2",
   "metadata": {},
   "outputs": [],
   "source": [
    "stimuli = {}\n",
    "\n",
    "for n in ns:\n",
    "    stimuli[n] = {}\n",
    "    for pattern_ind in range(num_input_patterns_per_n):\n",
    "        stimuli[n][pattern_ind] = Stimuli.excitatory_and_inhibitory_n(excitatory_interval, inhibitory_interval, n)"
   ]
  },
  {
   "cell_type": "markdown",
   "id": "f0022d60",
   "metadata": {},
   "source": [
    "## Generate histories"
   ]
  },
  {
   "cell_type": "code",
   "execution_count": 71,
   "id": "935f64df",
   "metadata": {},
   "outputs": [
    {
     "data": {
      "image/png": "[encoded data removed]",
      "text/plain": [
       "<Figure size 640x480 with 1 Axes>"
      ]
     },
     "metadata": {},
     "output_type": "display_data"
    }
   ],
   "source": [
    "# generate histories\n",
    "histories_sim_duration = 10000\n",
    "stim_params = Stimuli.ExperimentalStimParams()\n",
    "\n",
    "df, spikes, stims = WB.run_poisson_sim(\n",
    "    [stim_params.stim_scaffold['wb']['ex'], stim_params.stim_scaffold['wb']['in']], histories_sim_duration)\n",
    "\n",
    "plt.hist2d(df['v'], df['h'],bins=80, cmin=1, norm=mpl.colors.LogNorm())\n",
    "plt.show()"
   ]
  },
  {
   "cell_type": "code",
   "execution_count": 72,
   "id": "f85c34e2",
   "metadata": {},
   "outputs": [
    {
     "data": {
      "text/plain": [
       "(3, 1000)"
      ]
     },
     "execution_count": 72,
     "metadata": {},
     "output_type": "execute_result"
    }
   ],
   "source": [
    "history_inds = np.random.randint(250, (histories_sim_duration*40)-250, num_histories)\n",
    "histories_wb = np.array(\n",
    "    [\n",
    "        [df['v'][history_ind] for history_ind in history_inds],\n",
    "        [df['m'][history_ind] for history_ind in history_inds],\n",
    "        [df['h'][history_ind] for history_ind in history_inds],\n",
    "    ]\n",
    ")\n",
    "histories_wb.shape"
   ]
  },
  {
   "cell_type": "markdown",
   "id": "da5fefd6",
   "metadata": {},
   "source": [
    "## Run experiment"
   ]
  },
  {
   "cell_type": "code",
   "execution_count": 73,
   "id": "85ffc6fb",
   "metadata": {},
   "outputs": [
    {
     "name": "stdout",
     "output_type": "stream",
     "text": [
      "<<<<<5>>>>>\n",
      "<<<<<7>>>>>\n",
      "<<<<<9>>>>>\n",
      "<<<<<11>>>>>\n",
      "<<<<<13>>>>>\n",
      "<<<<<15>>>>>\n",
      "<<<<<17>>>>>\n",
      "<<<<<19>>>>>\n"
     ]
    }
   ],
   "source": [
    "results = {}\n",
    "\n",
    "# stim scaffolds\n",
    "estims = stim_params.stim_scaffold['wb']['ex']\n",
    "istims = stim_params.stim_scaffold['wb']['in']\n",
    "\n",
    "for n in ns:\n",
    "    print(f'n = {n}')\n",
    "    results[n] = {}\n",
    "    print('______PROGRESS______')\n",
    "    progress = 0.0\n",
    "    for pattern_ind in range(num_input_patterns_per_n):\n",
    "        stim_duration = max([t for stim_type, t in stimuli[n][pattern_ind]])  # total duration of the stimuli\n",
    "        \n",
    "        estims.stim_times = [stim[1] for stim in stimuli[n][pattern_ind] if stim[0] == 'e']\n",
    "        istims.stim_times = [stim[1] for stim in stimuli[n][pattern_ind] if stim[0] == 'i']\n",
    "        \n",
    "        cells = {}\n",
    "        fInitializeHandlers = []\n",
    "\n",
    "        for history_ind in range(num_histories):\n",
    "            history = histories_wb[:, history_ind]\n",
    "            \n",
    "            cells[history_ind] = WB.WB()\n",
    "            cells[history_ind].add_custom_stimulus(estims)\n",
    "            cells[history_ind].add_custom_stimulus(istims)\n",
    "            cells[history_ind].sim_init(v0=history[0], m0=history[1], h0=history[2])\n",
    "            \n",
    "            fInitializeHandlers.append(h.FInitializeHandler(cells[history_ind].do_sim_init))\n",
    "\n",
    "        h.finitialize()\n",
    "        h.continuerun(stim_duration + 20)\n",
    "        \n",
    "        results[n][pattern_ind] = []\n",
    "        for history_ind in range(num_histories):\n",
    "            nsts = [spike - stim_duration for spike in list(cells[history_ind].spike_times)]\n",
    "            nsts = [nst for nst in nsts if nst > 0]\n",
    "            if len(nsts) < 1:\n",
    "                results[n][pattern_ind].append(np.nan)\n",
    "            else:\n",
    "                results[n][pattern_ind].append(min(nsts))\n",
    "                \n",
    "        if progress < pattern_ind / num_input_patterns_per_n:\n",
    "            progress += 0.05\n",
    "            print('=',end='')\n",
    "    print()"
   ]
  },
  {
   "cell_type": "markdown",
   "id": "d5cb2255",
   "metadata": {},
   "source": [
    "## Analysis"
   ]
  },
  {
   "cell_type": "code",
   "execution_count": 74,
   "id": "764e9b95",
   "metadata": {},
   "outputs": [],
   "source": [
    "def calc_spike_presence_prediction_acc(df):\n",
    "    no_spike = np.sum(np.isnan(df))\n",
    "    spike = df.shape[0] - no_spike\n",
    "    return (no_spike/df.shape[0])**2 + (spike/df.shape[0])**2\n",
    "\n",
    "def calc_nst_std(df):\n",
    "    return np.std(df[~np.isnan(df)])\n",
    "\n",
    "def calc_nst_mae(df):\n",
    "    _df = df[~np.isnan(df)]\n",
    "    return np.nanmean(np.abs(_df - np.mean(_df)))"
   ]
  },
  {
   "cell_type": "code",
   "execution_count": 75,
   "id": "32f296b8",
   "metadata": {},
   "outputs": [
    {
     "name": "stderr",
     "output_type": "stream",
     "text": [
      "/tmp/ipykernel_252000/1350620721.py:11: RuntimeWarning: Mean of empty slice\n",
      "  return np.nanmean(np.abs(_df - np.mean(_df)))\n"
     ]
    }
   ],
   "source": [
    "spike_presence_prediction_accs = {n:[] for n in ns}\n",
    "nst_stds = {n:[] for n in ns}\n",
    "nst_maes = {n:[] for n in ns}\n",
    "\n",
    "\n",
    "for n in ns:\n",
    "    for pattern_ind in range(num_input_patterns_per_n):\n",
    "        df = np.array(results[n][pattern_ind])\n",
    "        spike_presence_prediction_accs[n].append(calc_spike_presence_prediction_acc(df))\n",
    "        nst_stds[n].append(calc_nst_std(df))\n",
    "        nst_maes[n].append(calc_nst_mae(df))"
   ]
  },
  {
   "cell_type": "code",
   "execution_count": 76,
   "id": "645d6eb1",
   "metadata": {},
   "outputs": [],
   "source": [
    "spike_presence_prediction_acc_means = []\n",
    "nst_std_means = []\n",
    "nst_mae_means = []\n",
    "\n",
    "for n in ns:\n",
    "    spike_presence_prediction_acc_means.append(np.mean(spike_presence_prediction_accs[n]))\n",
    "\n",
    "    nst_std_means.append(np.nanmean(nst_stds[n]))\n",
    "\n",
    "    nst_mae_means.append(np.nanmean(nst_maes[n]))"
   ]
  },
  {
   "cell_type": "code",
   "execution_count": 78,
   "id": "71bdce94",
   "metadata": {},
   "outputs": [
    {
     "data": {
      "image/png": "[encoded data removed]",
      "text/plain": [
       "<Figure size 325x400 with 2 Axes>"
      ]
     },
     "metadata": {},
     "output_type": "display_data"
    }
   ],
   "source": [
    "fig, axes = plt.subplots(2,1, figsize=(3.25,4), sharex=True)\n",
    "\n",
    "axes[0].plot(ns, spike_presence_prediction_acc_means)\n",
    "\n",
    "axes[1].plot(ns, nst_std_means)\n",
    "\n",
    "axes[-1].set_xlim(3,30)\n",
    "\n",
    "axes[0].set_ylabel('spike prediction\\ncoherence')\n",
    "axes[1].set_ylabel('NST standard\\ndeviation (ms)')\n",
    "axes[1].set_xlabel('n inputs')\n",
    "\n",
    "axes[0].spines['top'].set_visible(False)\n",
    "axes[1].spines['top'].set_visible(False)\n",
    "axes[0].spines['right'].set_visible(False)\n",
    "axes[1].spines['right'].set_visible(False)\n",
    "\n",
    "savefig = False\n",
    "if savefig:\n",
    "    plt.savefig(f'{figures_dir}spike_prediction_and_nst_std.svg', format='svg')\n",
    "#plt.savefig(f'{figures_dir}spike_prediction_and_nst_std.png', format='png', dpi=300)\n",
    "\n",
    "plt.show()"
   ]
  },
  {
   "cell_type": "code",
   "execution_count": null,
   "id": "8721735f",
   "metadata": {},
   "outputs": [],
   "source": []
  }
 ],
 "metadata": {
  "kernelspec": {
   "display_name": "Python 3 (ipykernel)",
   "language": "python",
   "name": "python3"
  },
  "language_info": {
   "codemirror_mode": {
    "name": "ipython",
    "version": 3
   },
   "file_extension": ".py",
   "mimetype": "text/x-python",
   "name": "python",
   "nbconvert_exporter": "python",
   "pygments_lexer": "ipython3",
   "version": "3.10.6"
  }
 },
 "nbformat": 4,
 "nbformat_minor": 5
}
