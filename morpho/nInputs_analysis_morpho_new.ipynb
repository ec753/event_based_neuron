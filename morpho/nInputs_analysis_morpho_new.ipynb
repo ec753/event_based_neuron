{
 "cells": [
  {
   "cell_type": "code",
   "execution_count": 1,
   "id": "0a5a512e",
   "metadata": {},
   "outputs": [],
   "source": [
    "import numpy as np\n",
    "import json\n",
    "import os\n",
    "\n",
    "import matplotlib.pyplot as plt\n",
    "\n",
    "from neuron import h\n",
    "from neuron.units import mV, ms\n",
    "\n",
    "import sys\n",
    "sys.path.insert(1, \"../utils/\")\n",
    "import Stimuli, Pyr"
   ]
  },
  {
   "cell_type": "code",
   "execution_count": 2,
   "id": "956aef89",
   "metadata": {},
   "outputs": [],
   "source": [
    "duration = 10000"
   ]
  },
  {
   "cell_type": "markdown",
   "id": "bf9ba9bd",
   "metadata": {},
   "source": [
    "## read stimuli"
   ]
  },
  {
   "cell_type": "code",
   "execution_count": 3,
   "id": "b16dc147",
   "metadata": {},
   "outputs": [],
   "source": [
    "path2stimulifile = '../data/morpho/nInputs_palmerscratch_stimuli/stim_times_0.json'\n",
    "\n",
    "with open(path2stimulifile, 'r') as fin:\n",
    "    stim_times = json.load(fin)"
   ]
  },
  {
   "cell_type": "code",
   "execution_count": 4,
   "id": "f54d1618",
   "metadata": {},
   "outputs": [
    {
     "data": {
      "image/png": "[encoded data removed]",
      "text/plain": [
       "<Figure size 640x480 with 1 Axes>"
      ]
     },
     "metadata": {},
     "output_type": "display_data"
    }
   ],
   "source": [
    "for stim_loc in stim_times:\n",
    "    if int(stim_loc) >=15:\n",
    "        stim_color = 'red'\n",
    "    else:\n",
    "        stim_color = 'blue'\n",
    "    plt.vlines(stim_times[stim_loc], int(stim_loc) + 0.1, int(stim_loc) + .9, color = stim_color)"
   ]
  },
  {
   "cell_type": "markdown",
   "id": "fa2cadf2",
   "metadata": {},
   "source": [
    "## read spikes"
   ]
  },
  {
   "cell_type": "code",
   "execution_count": 5,
   "id": "ed7650cd",
   "metadata": {},
   "outputs": [
    {
     "data": {
      "text/plain": [
       "['ID70',\n",
       " 'ID92',\n",
       " 'ID84',\n",
       " 'ID81',\n",
       " 'ID87',\n",
       " 'ID19',\n",
       " 'ID71',\n",
       " 'ID88',\n",
       " 'ID99',\n",
       " 'ID2',\n",
       " 'ID90',\n",
       " 'ID25',\n",
       " 'ID69',\n",
       " 'ID22',\n",
       " 'ID55',\n",
       " 'ID96',\n",
       " 'ID48',\n",
       " 'ID50',\n",
       " 'ID36',\n",
       " 'ID21']"
      ]
     },
     "execution_count": 5,
     "metadata": {},
     "output_type": "execute_result"
    }
   ],
   "source": [
    "path2spikes = '../data/morpho/nInputs_palmerscratch_spikes/'\n",
    "\n",
    "ns = np.arange(1,11)\n",
    "\n",
    "seg_locIDs = list(set([file.split('_')[2] for file in os.listdir(path2spikes)]))\n",
    "seg_locIDs"
   ]
  },
  {
   "cell_type": "code",
   "execution_count": 6,
   "id": "ba3bcde7",
   "metadata": {},
   "outputs": [],
   "source": [
    "spikes = {seg_locID:{} for seg_locID in seg_locIDs}\n",
    "\n",
    "missing_files = []\n",
    "for seg_locID in seg_locIDs:\n",
    "    for n in ns:\n",
    "        try:\n",
    "            _spikes0 = np.load(f'{path2spikes}spikes_0_{seg_locID}_{n}.npy')\n",
    "        except:\n",
    "            _spikes0 = np.zeros(0)\n",
    "            missing_files.append(f'spikes_0_{seg_locID}_{n}.npy')\n",
    "        try:\n",
    "            _spikes1 = np.load(f'{path2spikes}spikes_1_{seg_locID}_{n}.npy')\n",
    "            spikes[seg_locID][n] = _spikes1\n",
    "        except:\n",
    "            _spikes1 = np.zeros(0)\n",
    "            missing_files.append(f'spikes_1_{seg_locID}_{n}.npy')"
   ]
  },
  {
   "cell_type": "code",
   "execution_count": 18,
   "id": "0b73ae9e",
   "metadata": {},
   "outputs": [
    {
     "name": "stdout",
     "output_type": "stream",
     "text": [
      "ID88\n"
     ]
    },
    {
     "data": {
      "image/png": "[encoded data removed]",
      "text/plain": [
       "<Figure size 650x300 with 1 Axes>"
      ]
     },
     "metadata": {},
     "output_type": "display_data"
    }
   ],
   "source": [
    "seg_locID = seg_locIDs[7]\n",
    "print(seg_locID)\n",
    "\n",
    "ns = np.arange(1,11)\n",
    "\n",
    "fig, axes = plt.subplots(1, 1, figsize = (6.5, 3))\n",
    "\n",
    "for n in ns:\n",
    "    axes.vlines(spikes[seg_locID][n], n-.4, n+.4)"
   ]
  },
  {
   "cell_type": "markdown",
   "id": "57d12afb",
   "metadata": {},
   "source": [
    "## generate ground truth responses"
   ]
  },
  {
   "cell_type": "code",
   "execution_count": 8,
   "id": "9d5baaf2",
   "metadata": {},
   "outputs": [
    {
     "name": "stdout",
     "output_type": "stream",
     "text": [
      "segment_array_1.6Hz_ID21.npy\n"
     ]
    }
   ],
   "source": [
    "cells = {seg_locID : Pyr.Pyr() for seg_locID in ['ID21']}\n",
    "stimuli = {}\n",
    "\n",
    "seg_locID = 'ID21'\n",
    "\n",
    "path2segarrays = '../data/morpho/segment_arrays/'\n",
    "seg_loc_file = [file for file in os.listdir(path2segarrays) if seg_locID+'.npy' in file][0]\n",
    "print(seg_loc_file)\n",
    "\n",
    "stim_params = Stimuli.ExperimentalStimParams()\n",
    "stim_scaffold = stim_params.stim_scaffold['pyr']\n",
    "stim_locs = np.load(f'{path2segarrays}{seg_loc_file}')\n",
    "\n",
    "# generate the stimuli\n",
    "stimuli[seg_locID] = Stimuli.MorphoStimuli(\n",
    "    seg_locID, \n",
    "    stim_params.stim_scaffold['pyr']['stim_type_array'],\n",
    "    stim_locs,\n",
    "    stim_scaffold,\n",
    "    duration\n",
    ")\n",
    "\n",
    "# set the stimuli times\n",
    "for i, stimulus in enumerate(stimuli[seg_locID].stimuli):\n",
    "    stimulus.event_times = stim_times[str(i)]\n",
    "    \n",
    "cells[seg_locID].add_stimuli(stimuli[seg_locID])"
   ]
  },
  {
   "cell_type": "code",
   "execution_count": 9,
   "id": "0f630dbc",
   "metadata": {},
   "outputs": [
    {
     "data": {
      "text/plain": [
       "0.0"
      ]
     },
     "execution_count": 9,
     "metadata": {},
     "output_type": "execute_result"
    }
   ],
   "source": [
    "h.celsius = 35\n",
    "h.finitialize()\n",
    "h.continuerun(duration * ms)"
   ]
  },
  {
   "cell_type": "code",
   "execution_count": 10,
   "id": "88a514b3",
   "metadata": {},
   "outputs": [
    {
     "data": {
      "text/plain": [
       "[255.000000000005,\n",
       " 741.3500000006056,\n",
       " 1137.3500000020463,\n",
       " 1616.950000003791,\n",
       " 2279.4250000019915,\n",
       " 4914.549999963646,\n",
       " 5251.0249999587495,\n",
       " 5548.224999954425,\n",
       " 6108.124999946277,\n",
       " 6454.799999941232,\n",
       " 7160.5999999309615,\n",
       " 7784.124999921888,\n",
       " 7975.824999919098,\n",
       " 8240.74999991879,\n",
       " 8655.974999942959,\n",
       " 9072.924999967228,\n",
       " 9391.12499998575,\n",
       " 9484.474999991184,\n",
       " 9773.150000007987,\n",
       " 9870.325000013643,\n",
       " 9983.800000020248]"
      ]
     },
     "execution_count": 10,
     "metadata": {},
     "output_type": "execute_result"
    }
   ],
   "source": [
    "list(cells['ID21'].spike_times)"
   ]
  },
  {
   "cell_type": "code",
   "execution_count": 13,
   "id": "bfa39010",
   "metadata": {},
   "outputs": [
    {
     "name": "stdout",
     "output_type": "stream",
     "text": [
      "ID21\n"
     ]
    },
    {
     "data": {
      "text/plain": [
       "<matplotlib.collections.LineCollection at 0x7f7a98294880>"
      ]
     },
     "execution_count": 13,
     "metadata": {},
     "output_type": "execute_result"
    },
    {
     "data": {
      "image/png": "[encoded data removed]",
      "text/plain": [
       "<Figure size 650x300 with 1 Axes>"
      ]
     },
     "metadata": {},
     "output_type": "display_data"
    }
   ],
   "source": [
    "seg_locID = 'ID21'\n",
    "print(seg_locID)\n",
    "\n",
    "ns = np.arange(1,11)\n",
    "\n",
    "fig, axes = plt.subplots(1, 1, figsize = (6.5, 3))\n",
    "\n",
    "for n in ns:\n",
    "    axes.vlines(spikes[seg_locID][n], n-.4, n+.4)\n",
    "    \n",
    "axes.vlines(list(cells['ID21'].spike_times), 11-.4, 11+.4, color='green')"
   ]
  },
  {
   "cell_type": "code",
   "execution_count": null,
   "id": "2f356c51",
   "metadata": {},
   "outputs": [],
   "source": []
  }
 ],
 "metadata": {
  "kernelspec": {
   "display_name": "Python 3 (ipykernel)",
   "language": "python",
   "name": "python3"
  },
  "language_info": {
   "codemirror_mode": {
    "name": "ipython",
    "version": 3
   },
   "file_extension": ".py",
   "mimetype": "text/x-python",
   "name": "python",
   "nbconvert_exporter": "python",
   "pygments_lexer": "ipython3",
   "version": "3.10.12"
  }
 },
 "nbformat": 4,
 "nbformat_minor": 5
}
