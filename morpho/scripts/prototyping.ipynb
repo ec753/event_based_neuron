{
 "cells": [
  {
   "cell_type": "code",
   "execution_count": 1,
   "id": "7cc0c679",
   "metadata": {},
   "outputs": [],
   "source": [
    "import numpy as np\n",
    "import os\n",
    "\n",
    "from neuron import h\n",
    "from neuron.units import mV, ms\n",
    "h.load_file(\"stdrun.hoc\")\n",
    "h.load_file(\"stdlib.hoc\")\n",
    "h.load_file(\"import3d.hoc\")\n",
    "\n",
    "import json\n",
    "\n",
    "import sys\n",
    "sys.path.insert(1, \"../../utils/\")\n",
    "import Stimuli, Pyr, HH"
   ]
  },
  {
   "cell_type": "markdown",
   "id": "8a29c146",
   "metadata": {},
   "source": [
    "## generate cell"
   ]
  },
  {
   "cell_type": "code",
   "execution_count": 2,
   "id": "8ce6f194",
   "metadata": {},
   "outputs": [],
   "source": [
    "stim_locs_file = '../../data/morpho/segment_arrays/segment_array_8.5Hz_ID17.npy'\n",
    "history_file = '../../data/morpho/random_histories/history_2_ID17.json'\n",
    "\n",
    "duration = 1000\n",
    "\n",
    "pyr = Pyr.Pyr()"
   ]
  },
  {
   "cell_type": "markdown",
   "id": "6152d236",
   "metadata": {},
   "source": [
    "## connect stimuli"
   ]
  },
  {
   "cell_type": "code",
   "execution_count": 3,
   "id": "90aa94b0",
   "metadata": {},
   "outputs": [],
   "source": [
    "stim_params = Stimuli.ExperimentalStimParams()\n",
    "stim_scaffold = stim_params.stim_scaffold['pyr']\n",
    "\n",
    "stim_locs = np.load(stim_locs_file)\n",
    "\n",
    "stimuli = Stimuli.MorphoStimuli(\n",
    "    f'stimset',\n",
    "    stim_scaffold['stim_type_array'],\n",
    "    stim_locs, stim_scaffold,\n",
    "    duration\n",
    ")\n",
    "\n",
    "pyr.add_stimuli(stimuli)"
   ]
  },
  {
   "cell_type": "code",
   "execution_count": null,
   "id": "ff63ef8f",
   "metadata": {},
   "outputs": [],
   "source": [
    "# check stimuli locations"
   ]
  },
  {
   "cell_type": "markdown",
   "id": "00b1c998",
   "metadata": {},
   "source": [
    "## initialize state variables"
   ]
  },
  {
   "cell_type": "code",
   "execution_count": 4,
   "id": "18af8abb",
   "metadata": {},
   "outputs": [],
   "source": [
    "pyr.initialize_state_vars(history_file)"
   ]
  },
  {
   "cell_type": "code",
   "execution_count": null,
   "id": "2fa56116",
   "metadata": {},
   "outputs": [],
   "source": [
    "# check state variable initializations\n",
    "with open(history_file) as fin:\n",
    "    history = json.load(fin)"
   ]
  },
  {
   "cell_type": "code",
   "execution_count": null,
   "id": "780b1be7",
   "metadata": {},
   "outputs": [],
   "source": [
    "seg_history"
   ]
  },
  {
   "cell_type": "code",
   "execution_count": null,
   "id": "34655491",
   "metadata": {},
   "outputs": [],
   "source": [
    "def history_walk(seg_history, secs):\n",
    "    for key, item in seg_history.items():\n",
    "        if type(item) is dict:\n",
    "            if len(item.keys()) > 0:\n",
    "                new_seg_history = item\n",
    "                new_secs = [getattr(sec, str(key)) for sec in secs]\n",
    "                history_walk(new_seg_history, new_secs)\n",
    "        else:\n",
    "            for val, sec in zip(item, secs):\n",
    "                setattr(sec, key, val)\n",
    "        \n",
    "history_walk(seg_history, secs)"
   ]
  },
  {
   "cell_type": "code",
   "execution_count": null,
   "id": "a5e2586c",
   "metadata": {},
   "outputs": [],
   "source": [
    "secs[-1].cagk.o"
   ]
  },
  {
   "cell_type": "code",
   "execution_count": null,
   "id": "95477aeb",
   "metadata": {},
   "outputs": [],
   "source": [
    "secs[-2].cagk.o"
   ]
  },
  {
   "cell_type": "code",
   "execution_count": null,
   "id": "5ceaa81a",
   "metadata": {},
   "outputs": [],
   "source": [
    "secs[-1].can.h"
   ]
  },
  {
   "cell_type": "code",
   "execution_count": null,
   "id": "df3f496d",
   "metadata": {},
   "outputs": [],
   "source": [
    "secs[-1].na3.s"
   ]
  },
  {
   "cell_type": "code",
   "execution_count": null,
   "id": "836d636b",
   "metadata": {},
   "outputs": [],
   "source": [
    "secs[-1].v"
   ]
  },
  {
   "cell_type": "code",
   "execution_count": null,
   "id": "a75ae752",
   "metadata": {},
   "outputs": [],
   "source": [
    "seg_history"
   ]
  },
  {
   "cell_type": "markdown",
   "id": "bc855a6a",
   "metadata": {},
   "source": [
    "## run simulation"
   ]
  },
  {
   "cell_type": "code",
   "execution_count": null,
   "id": "2b2bd70b",
   "metadata": {},
   "outputs": [],
   "source": [
    "h.celsius = 35\n",
    "h.finitialize()\n",
    "h.continuerun(duration)"
   ]
  },
  {
   "cell_type": "code",
   "execution_count": null,
   "id": "bbeb1d14",
   "metadata": {},
   "outputs": [],
   "source": [
    "list(pyr._vs[0])"
   ]
  },
  {
   "cell_type": "code",
   "execution_count": null,
   "id": "95c5b437",
   "metadata": {},
   "outputs": [],
   "source": []
  }
 ],
 "metadata": {
  "kernelspec": {
   "display_name": "Python 3 (ipykernel)",
   "language": "python",
   "name": "python3"
  },
  "language_info": {
   "codemirror_mode": {
    "name": "ipython",
    "version": 3
   },
   "file_extension": ".py",
   "mimetype": "text/x-python",
   "name": "python",
   "nbconvert_exporter": "python",
   "pygments_lexer": "ipython3",
   "version": "3.10.6"
  }
 },
 "nbformat": 4,
 "nbformat_minor": 5
}
