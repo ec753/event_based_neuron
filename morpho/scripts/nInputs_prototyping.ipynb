{
 "cells": [
  {
   "cell_type": "code",
   "execution_count": 1,
   "id": "ffbd5f16",
   "metadata": {},
   "outputs": [],
   "source": [
    "import numpy as np\n",
    "import queue\n",
    "import json\n",
    "import ctypes\n",
    "import os\n",
    "import time\n",
    "import pickle as pkl\n",
    "import multiprocessing\n",
    "\n",
    "import neuron\n",
    "from neuron import nrn_dll_sym, h\n",
    "from neuron.units import ms, mV\n",
    "h.load_file(\"stdrun.hoc\")\n",
    "h.load_file(\"stdlib.hoc\")\n",
    "h.load_file(\"import3d.hoc\")\n",
    "\n",
    "import sys\n",
    "sys.path.insert(1, \"../../utils/\")\n",
    "import Stimuli, Pyr"
   ]
  },
  {
   "cell_type": "code",
   "execution_count": 2,
   "id": "721e77b2",
   "metadata": {},
   "outputs": [],
   "source": [
    "segment_arrayID = 'ID96'\n",
    "n = 5\n",
    "data_dir = '../../data/morpho/'\n",
    "duration = 100"
   ]
  },
  {
   "cell_type": "markdown",
   "id": "9e741575",
   "metadata": {},
   "source": [
    "## generate stimuli"
   ]
  },
  {
   "cell_type": "code",
   "execution_count": 3,
   "id": "6a2e2f38",
   "metadata": {},
   "outputs": [
    {
     "name": "stdout",
     "output_type": "stream",
     "text": [
      "generating stimuli\n",
      "segment_array_12.6Hz_ID96.npy\n",
      "total number of events: 63\n"
     ]
    }
   ],
   "source": [
    "print('generating stimuli')\n",
    "stim_locs_file = [file for file in os.listdir(f'{data_dir}segment_arrays/') if segment_arrayID+'.npy' in file][0]\n",
    "print(stim_locs_file)\n",
    "\n",
    "stim_params = Stimuli.ExperimentalStimParams()\n",
    "stim_scaffold = stim_params.stim_scaffold['pyr']\n",
    "stim_locs = np.load(f'{data_dir}segment_arrays/{stim_locs_file}')\n",
    "\n",
    "stimuli = Stimuli.MorphoStimuli('stimuli',stim_scaffold['stim_type_array'],stim_locs, stim_scaffold, duration)\n",
    "\n",
    "num_events = sum([len(stimulus.event_times) for stimulus in stimuli.stimuli])\n",
    "print(f'total number of events: {num_events}')\n",
    "\n",
    "try: os.mkdir(f'{data_dir}nInputs_stimuli') \n",
    "except: pass\n",
    "with open(f'{data_dir}nInputs_stimuli/morpho_stimuli_{segment_arrayID}_{n}.pkl', 'wb') as handle:\n",
    "    pkl.dump(stimuli, handle, protocol=pkl.HIGHEST_PROTOCOL)"
   ]
  },
  {
   "cell_type": "markdown",
   "id": "9341a981",
   "metadata": {},
   "source": [
    "## load histories"
   ]
  },
  {
   "cell_type": "code",
   "execution_count": 4,
   "id": "43d39203",
   "metadata": {},
   "outputs": [
    {
     "name": "stdout",
     "output_type": "stream",
     "text": [
      "loading histories\n",
      "histories: 215\n",
      "\n"
     ]
    }
   ],
   "source": [
    "print('loading histories')\n",
    "histories_files = [file for file in os.listdir(f'{data_dir}random_histories/') if segment_arrayID+'.json' in file]\n",
    "histories = []\n",
    "for history_file in histories_files:\n",
    "    with open(f'{data_dir}random_histories/{history_file}') as fin:\n",
    "        histories.append(json.load(fin))\n",
    "print(f'histories: {len(histories)}')\n",
    "print()"
   ]
  },
  {
   "cell_type": "markdown",
   "id": "a001e8f2",
   "metadata": {},
   "source": [
    "## simulate cell"
   ]
  },
  {
   "cell_type": "code",
   "execution_count": 5,
   "id": "87457966",
   "metadata": {},
   "outputs": [
    {
     "data": {
      "text/plain": [
       "\"start_time = time.time()\\npyr = Pyr.Pyr()\\n\\npyr.add_stimuli(stimuli)\\n\\nh.CVode().active(True)\\nh.celsius = 35\\nh.finitialize()\\nh.continuerun(duration)\\nprint(f'simulation took {round(time.time() - start_time, 2)} sec to run')\""
      ]
     },
     "execution_count": 5,
     "metadata": {},
     "output_type": "execute_result"
    }
   ],
   "source": [
    "'''start_time = time.time()\n",
    "pyr = Pyr.Pyr()\n",
    "\n",
    "pyr.add_stimuli(stimuli)\n",
    "\n",
    "h.CVode().active(True)\n",
    "h.celsius = 35\n",
    "h.finitialize()\n",
    "h.continuerun(duration)\n",
    "print(f'simulation took {round(time.time() - start_time, 2)} sec to run')'''"
   ]
  },
  {
   "cell_type": "code",
   "execution_count": 6,
   "id": "5b1c2c3a",
   "metadata": {},
   "outputs": [
    {
     "data": {
      "text/plain": [
       "1"
      ]
     },
     "execution_count": 6,
     "metadata": {},
     "output_type": "execute_result"
    }
   ],
   "source": [
    "# clear out all of NEURON\n",
    "h(\"forall delete_section()\")"
   ]
  },
  {
   "cell_type": "markdown",
   "id": "3e46871f",
   "metadata": {},
   "source": [
    "## nInputs"
   ]
  },
  {
   "cell_type": "code",
   "execution_count": 7,
   "id": "c1b0753f",
   "metadata": {},
   "outputs": [],
   "source": [
    "def run_event_sim(stimuli, duration):\n",
    "    pyr = Pyr.Pyr()\n",
    "    #pyr.initialize_state_vars(history)\n",
    "    pyr.add_stimuli(stimuli)\n",
    "    \n",
    "    h.CVode().active(True)\n",
    "    h.celsius = 35\n",
    "    h.finitialize()\n",
    "    h.continuerun(duration)\n",
    "    return list(pyr.spike_times)"
   ]
  },
  {
   "cell_type": "code",
   "execution_count": 8,
   "id": "b7ea3cba",
   "metadata": {},
   "outputs": [],
   "source": [
    "def pyonevent(stim_times):\n",
    "    start_time = time.time()\n",
    "    stim_times = neuron.numpy_from_pointer(stim_times, 50*30)\n",
    "    stim_times = stim_times.reshape([30,50])[:,:n]\n",
    "    stim_times = stim_times - np.min(stim_times[stim_times > 0])\n",
    "    \n",
    "    # change the stimuli\n",
    "    for i in range(30):\n",
    "        stimuli.stimuli[i].event_times = list(stim_times[i, :])\n",
    "    \n",
    "    # pool is used to parallelize\n",
    "    spikes = pool.starmap(\n",
    "        run_event_sim,\n",
    "        [\n",
    "            [stimuli, (np.nanmax(stim_times)+50)]\n",
    "        ]\n",
    "    )[0]\n",
    "    \n",
    "    print(f'simulation time: {np.nanmax(stim_times) + 50}')\n",
    "    print(f'real time: {time.time() - start_time}')\n",
    "    print()\n",
    "    return spikes"
   ]
  },
  {
   "cell_type": "code",
   "execution_count": 9,
   "id": "4dcdd085",
   "metadata": {},
   "outputs": [
    {
     "data": {
      "text/plain": [
       "[17.90388721292464]"
      ]
     },
     "execution_count": 9,
     "metadata": {},
     "output_type": "execute_result"
    }
   ],
   "source": [
    "run_event_sim(stimuli, 50)"
   ]
  },
  {
   "cell_type": "code",
   "execution_count": null,
   "id": "b9eb65f3",
   "metadata": {},
   "outputs": [],
   "source": [
    "# Set up communications between NEURON and python\n",
    "double_ptr = ctypes.POINTER(ctypes.c_double)\n",
    "on_event_proto = ctypes.CFUNCTYPE(ctypes.c_double, double_ptr)\n",
    "# CFUNCTYPE parameters are as follows: (the return type, the input types which are 1) estims, 2) istims, 3) spikes\n",
    "\n",
    "on_event_c = on_event_proto(pyonevent)\n",
    "on_event_c_ptr = ctypes.cast(on_event_c, double_ptr)\n",
    "\n",
    "nrn_hocobj_ptr = nrn_dll_sym(\"nrn_hocobj_ptr\")\n",
    "nrn_hocobj_ptr.restype = ctypes.py_object\n",
    "event_callback_ptr = nrn_hocobj_ptr(ctypes.cast(on_event_c_ptr, double_ptr))"
   ]
  },
  {
   "cell_type": "code",
   "execution_count": null,
   "id": "dfd9637a",
   "metadata": {},
   "outputs": [],
   "source": [
    "pool = multiprocessing.Pool(1)"
   ]
  },
  {
   "cell_type": "code",
   "execution_count": null,
   "id": "273f7014",
   "metadata": {},
   "outputs": [],
   "source": [
    "ebneuron = h.ebneuron()\n",
    "ebneuron._ref_on_event = event_callback_ptr\n",
    "ebneuron_spikes = h.Vector()\n",
    "ebneuron_nc = h.NetCon(ebneuron, None)\n",
    "ebneuron_nc.record(ebneuron_spikes)"
   ]
  },
  {
   "cell_type": "code",
   "execution_count": null,
   "id": "3242aac0",
   "metadata": {},
   "outputs": [],
   "source": [
    "netstims = []\n",
    "netcons = []\n",
    "\n",
    "for w, stimulus in enumerate(stimuli.stimuli):\n",
    "    for stim_time in stimulus.event_times:\n",
    "        netstims.append(h.NetStim())\n",
    "        netstims[-1].start = stim_time * ms\n",
    "        netstims[-1].number = 1\n",
    "        netcons.append(h.NetCon(netstims[-1], ebneuron))\n",
    "        netcons[-1].weight[0] = w +1 # weight (w) is used to indicate the unique location of the stimulus\n",
    "        netcons[-1].delay = 0"
   ]
  },
  {
   "cell_type": "code",
   "execution_count": null,
   "id": "62d4bb1e",
   "metadata": {},
   "outputs": [],
   "source": [
    "h.finitialize()\n",
    "h.continuerun(duration)"
   ]
  },
  {
   "cell_type": "code",
   "execution_count": null,
   "id": "7ff8afd6",
   "metadata": {},
   "outputs": [],
   "source": [
    "ebneuron.print()"
   ]
  },
  {
   "cell_type": "code",
   "execution_count": null,
   "id": "67d6ab21",
   "metadata": {},
   "outputs": [],
   "source": [
    "pool.close()"
   ]
  }
 ],
 "metadata": {
  "kernelspec": {
   "display_name": "Python 3 (ipykernel)",
   "language": "python",
   "name": "python3"
  },
  "language_info": {
   "codemirror_mode": {
    "name": "ipython",
    "version": 3
   },
   "file_extension": ".py",
   "mimetype": "text/x-python",
   "name": "python",
   "nbconvert_exporter": "python",
   "pygments_lexer": "ipython3",
   "version": "3.10.12"
  }
 },
 "nbformat": 4,
 "nbformat_minor": 5
}
