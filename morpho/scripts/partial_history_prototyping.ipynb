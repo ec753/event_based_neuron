{
 "cells": [
  {
   "cell_type": "code",
   "execution_count": 1,
   "id": "8a8baa56",
   "metadata": {},
   "outputs": [],
   "source": [
    "import json\n",
    "import numpy as np\n",
    "import os\n",
    "import time\n",
    "\n",
    "from neuron import h\n",
    "from neuron.units import mV, ms\n",
    "h.load_file(\"stdrun.hoc\")\n",
    "h.load_file(\"stdlib.hoc\")\n",
    "h.load_file(\"import3d.hoc\")\n",
    "\n",
    "import sys\n",
    "sys.path.insert(1, \"../../utils/\")\n",
    "import Stimuli, Pyr"
   ]
  },
  {
   "cell_type": "code",
   "execution_count": 2,
   "id": "0132e81a",
   "metadata": {},
   "outputs": [],
   "source": [
    "data_dir = '../../data/morpho/'\n",
    "num_input_patterns_per_n = 15\n",
    "num_histories = 20\n",
    "segment_arrayID = 'ID2'\n",
    "\n",
    "n = 2"
   ]
  },
  {
   "cell_type": "markdown",
   "id": "35729766",
   "metadata": {},
   "source": [
    "## Stimuli"
   ]
  },
  {
   "cell_type": "code",
   "execution_count": 3,
   "id": "2b828374",
   "metadata": {},
   "outputs": [
    {
     "name": "stdout",
     "output_type": "stream",
     "text": [
      "generating stimuli\n",
      "segment_array_8.2Hz_ID2.npy\n"
     ]
    }
   ],
   "source": [
    "print('generating stimuli')\n",
    "stim_locs_file = [file for file in os.listdir(f'{data_dir}segment_arrays/') if segment_arrayID+'.npy' in file][0]\n",
    "print(stim_locs_file)\n",
    "\n",
    "stim_params = Stimuli.ExperimentalStimParams()\n",
    "stim_scaffold = stim_params.stim_scaffold['pyr']\n",
    "stim_locs = np.load(f'{data_dir}segment_arrays/{stim_locs_file}')\n",
    "\n",
    "stimuli_patterns = {}\n",
    "\n",
    "for pattern_ind in range(num_input_patterns_per_n):\n",
    "    stimuli_patterns[pattern_ind] = [\n",
    "        Stimuli.poisson_process_n(stim_scaffold[stim_type].interval, n) for stim_type in stim_scaffold['stim_type_array']\n",
    "    ]"
   ]
  },
  {
   "cell_type": "markdown",
   "id": "d3aa4036",
   "metadata": {},
   "source": [
    "## Histories"
   ]
  },
  {
   "cell_type": "code",
   "execution_count": 4,
   "id": "f8f32037",
   "metadata": {},
   "outputs": [],
   "source": [
    "histories_files = [file for file in os.listdir(f'{data_dir}random_histories/') if segment_arrayID+'.json' in file]"
   ]
  },
  {
   "cell_type": "code",
   "execution_count": null,
   "id": "65914326",
   "metadata": {},
   "outputs": [],
   "source": [
    "histories = []\n",
    "for history_file in histories_files[:num_histories]:\n",
    "    with open(f'{data_dir}random_histories/{history_file}') as fin:\n",
    "        histories.append(json.load(fin))\n",
    "print(len(histories))"
   ]
  },
  {
   "cell_type": "markdown",
   "id": "8c09aa46",
   "metadata": {},
   "source": [
    "## Experiment"
   ]
  },
  {
   "cell_type": "code",
   "execution_count": null,
   "id": "efcda215",
   "metadata": {},
   "outputs": [],
   "source": [
    "results = {pattern_ind:[] for pattern_ind in range(num_input_patterns_per_n)}\n",
    "for pattern_ind in range(num_input_patterns_per_n):\n",
    "    print(f'{pattern_ind}/{num_input_patterns_per_n}')\n",
    "    print('setting up stimuli')\n",
    "    stimuli_pattern = stimuli_patterns[pattern_ind]\n",
    "    last_stimulus = max([item for row in stimuli_pattern for item in row]) # used instead of recentering\n",
    "    stimuli = Stimuli.MorphoStimuli(\n",
    "        f'stimset',\n",
    "        stim_scaffold['stim_type_array'],\n",
    "        stim_locs, stim_scaffold,\n",
    "        last_stimulus\n",
    "    )\n",
    "    for stimuli_pattern_at_loc, stimulus in zip(stimuli_pattern, stimuli.stimuli):\n",
    "        stimulus.event_times = stimuli_pattern_at_loc\n",
    "    cells = {}\n",
    "    print('generating cells')\n",
    "    for history_ind, history in enumerate(histories):\n",
    "        cells[history_ind] = Pyr.Pyr()\n",
    "        # initialize history\n",
    "        cells[history_ind].initialize_state_vars(history)\n",
    "        # connect stimuli\n",
    "        cells[history_ind].add_stimuli(stimuli)\n",
    "    \n",
    "    print('running simulation')\n",
    "    h.celsius = 35\n",
    "    h.finitialize()\n",
    "    h.continuerun(last_stimulus + 50 * ms)\n",
    "    \n",
    "    print('parsing nsts')\n",
    "    for history_ind in range(len(histories)):\n",
    "        nsts = [spike - last_stimulus for spike in list(cells[history_ind].spike_times)]\n",
    "        nsts = [nst for nst in nsts if nst > 0]\n",
    "        if len(nsts < 1):\n",
    "            results[pattern_ind].append(np.nan)\n",
    "        else:\n",
    "            results[pattern_ind].append(min(nsts))"
   ]
  },
  {
   "cell_type": "code",
   "execution_count": null,
   "id": "e95b0a1c",
   "metadata": {},
   "outputs": [],
   "source": [
    "stimuli_patterns"
   ]
  }
 ],
 "metadata": {
  "kernelspec": {
   "display_name": "Python 3 (ipykernel)",
   "language": "python",
   "name": "python3"
  },
  "language_info": {
   "codemirror_mode": {
    "name": "ipython",
    "version": 3
   },
   "file_extension": ".py",
   "mimetype": "text/x-python",
   "name": "python",
   "nbconvert_exporter": "python",
   "pygments_lexer": "ipython3",
   "version": "3.10.6"
  }
 },
 "nbformat": 4,
 "nbformat_minor": 5
}
