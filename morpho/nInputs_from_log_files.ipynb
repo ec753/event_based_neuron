{
 "cells": [
  {
   "cell_type": "code",
   "execution_count": 1,
   "id": "f550ec77",
   "metadata": {},
   "outputs": [],
   "source": [
    "import os\n",
    "import numpy as np"
   ]
  },
  {
   "cell_type": "code",
   "execution_count": null,
   "id": "51202d14",
   "metadata": {},
   "outputs": [],
   "source": []
  },
  {
   "cell_type": "code",
   "execution_count": 162,
   "id": "32073aea",
   "metadata": {},
   "outputs": [],
   "source": [
    "data_dir = '../data/morpho/nInputs_pscratch/'\n",
    "data_files = os.listdir(data_dir)\n",
    "\n",
    "data = {}\n",
    "\n",
    "for data_file in data_files:\n",
    "    seg_id = data_file.split('_')[2]\n",
    "    n = int(data_file.split('_')[3].split('.')[0])\n",
    "    spikes = np.load(f'{data_dir}{data_file}')\n",
    "    \n",
    "    if seg_id not in data:\n",
    "        data[seg_id] = {}\n",
    "    \n",
    "    data[seg_id][n] = spikes"
   ]
  },
  {
   "cell_type": "code",
   "execution_count": 164,
   "id": "db4dbe6f",
   "metadata": {},
   "outputs": [
    {
     "data": {
      "text/plain": [
       "{10: array([ 254.97947006,  734.69681018, 1136.78197945, 1617.25057441,\n",
       "        2279.83391866, 4917.8971051 , 5075.28085122, 5254.31083292,\n",
       "        5547.92836789, 6110.66741713, 6456.64458127, 7161.72798485,\n",
       "        7783.58259054, 7973.84009053, 8238.98459142, 8656.43432162,\n",
       "        9072.736225  , 9391.6036654 , 9776.70337184, 9870.5906888 ,\n",
       "        9984.67286566]),\n",
       " 2: array([1342.88026835, 1379.72355977, 1401.96681609, 1421.00733797,\n",
       "        2826.30647266, 4335.71123098, 5058.82184344, 6549.10037237,\n",
       "        6951.68951254, 7228.04209739, 7389.2152483 , 7436.27765573,\n",
       "        7451.31919931, 7824.30189618, 8068.4609527 , 9035.70301361]),\n",
       " 8: array([ 254.97764642,  735.15051747, 1136.77497172, 1617.23778655,\n",
       "        2279.6559335 , 4917.89030583, 5075.11894604, 5254.26082527,\n",
       "        5547.92023861, 6110.66691164, 6456.63493772, 7161.72534129,\n",
       "        7783.57683629, 7973.66999344, 8238.98053068, 8656.43436694,\n",
       "        9072.54636383, 9391.61793462, 9774.85320296, 9870.12759134,\n",
       "        9984.62716883]),\n",
       " 1: array([ 590.32801511, 1516.56050334, 1595.26890464, 1615.93821339,\n",
       "        5257.60623695, 7205.13628311, 7387.88341113]),\n",
       " 5: array([  62.33460138,  251.5758109 ,  801.14150395, 1822.8926025 ,\n",
       "        2005.72100971, 3095.13958708, 3319.62868908, 4265.33000802,\n",
       "        5177.22059493, 6067.61610721, 6196.49919739, 6683.47809193,\n",
       "        7280.00391115, 7704.23267993, 8647.23791976, 9311.92875473]),\n",
       " 6: array([ 254.97132192,  740.36154926, 1136.92474805, 1617.33821334,\n",
       "        2279.57664864, 4917.68580203, 5074.34136939, 5251.90129672,\n",
       "        5547.86645674, 6110.18517364, 6456.43204433, 7161.49819545,\n",
       "        7783.56070289, 7973.57528264, 8238.95503825, 8656.27191933,\n",
       "        8765.53506643, 9073.63043318, 9391.77592341, 9487.63111865,\n",
       "        9771.24256425, 9868.93533605, 9985.34811636]),\n",
       " 4: array([ 243.01295437,  389.16933844,  389.34161847,  627.96685442,\n",
       "         874.5958565 , 1432.87652679, 2286.73536268, 2693.76495403,\n",
       "        2802.82820698, 2883.1726859 , 2887.32833411, 3561.65265711,\n",
       "        5446.57487474, 6857.8787624 , 7139.21236434, 7748.54100154,\n",
       "        8951.56939118, 9388.36141605, 9536.11985569, 9697.14833093]),\n",
       " 9: array([ 254.97945558,  735.1003225 , 1136.77670184, 1617.25336298,\n",
       "        2279.79088548, 4917.89704018, 5075.26822198, 5254.32221753,\n",
       "        5547.92410755, 6110.6767529 , 6456.64799107, 7161.7271691 ,\n",
       "        7783.58038827, 7973.86105239, 8238.98690534, 8656.43153124,\n",
       "        9072.73067786, 9391.78518694, 9776.9502824 , 9868.91899208,\n",
       "        9984.66441609]),\n",
       " 7: array([ 254.97540626,  741.63536057, 1136.79707613, 1617.23435671,\n",
       "        2279.67564036, 4917.85971831, 5075.74157346, 5252.18698985,\n",
       "        5547.91078945, 6110.37466165, 6456.58393753, 7161.67257965,\n",
       "        7783.54617123, 7973.62131568, 8238.95534641, 8656.39974841,\n",
       "        9072.17663474, 9391.76024818, 9488.57973741, 9773.18133997,\n",
       "        9868.9358316 , 9984.57755353]),\n",
       " 3: array([  19.97128607,   52.99197457,  199.73196821,  726.94833803,\n",
       "        1493.54787357, 2321.06478569, 2741.17889767, 2742.57970517,\n",
       "        3240.41100082, 3588.22755498, 4117.51319818, 4630.04512738,\n",
       "        4661.87028587, 4669.54071739, 4690.00173612, 4814.56264763,\n",
       "        5249.47405136, 6232.20983352, 6418.94431593, 7607.52967248,\n",
       "        7635.06037527, 7685.46711853, 8715.8459335 , 8717.34919269])}"
      ]
     },
     "execution_count": 164,
     "metadata": {},
     "output_type": "execute_result"
    }
   ],
   "source": [
    "data['ID21']"
   ]
  },
  {
   "cell_type": "markdown",
   "id": "a3369c8e",
   "metadata": {},
   "source": [
    "## convert log files"
   ]
  },
  {
   "cell_type": "code",
   "execution_count": 4,
   "id": "22651997",
   "metadata": {},
   "outputs": [],
   "source": [
    "data_dir = '../data/morpho/nInputs_pscratch_logs/'\n",
    "data_files = os.listdir(data_dir)\n",
    "\n",
    "with open(f'scripts/nInputs_dSQ_joblist.txt', 'r') as fin:\n",
    "    joblist = fin.readlines()\n",
    "n_by_job_ind = [int(job.split(' ')[10]) for job in joblist]\n",
    "ns = list(set(n_by_job_ind))\n",
    "print(ns)"
   ]
  },
  {
   "cell_type": "code",
   "execution_count": 151,
   "id": "82feac5e",
   "metadata": {},
   "outputs": [],
   "source": [
    "def correct_file(path2file):\n",
    "    with open(path2file, 'r') as fin:\n",
    "        lines = fin.readlines()\n",
    "    _lines = [line for line in lines if len(line.strip()) > 0] # remove empty lines\n",
    "    _lines = [line for line in _lines if line[:2] != ': '] # remove nst lines\n",
    "    writing_line = [i for i, line in enumerate(_lines) if line == 'writing results to file\\n'][0]\n",
    "    new_line = _lines[writing_line - 1].strip() + _lines[writing_line + 1]\n",
    "    _lines = _lines[:writing_line - 1] + [new_line] + _lines[writing_line + 2:]\n",
    "    with open(path2file, 'w') as fout:\n",
    "        for line in _lines:\n",
    "            fout.write(line)"
   ]
  },
  {
   "cell_type": "code",
   "execution_count": 153,
   "id": "6c107665",
   "metadata": {},
   "outputs": [],
   "source": [
    "bad_files = ['dsq-nInputs_dSQ_joblist-5437889_179-r813u15n12.out']\n",
    "\n",
    "data = {n:{} for n in ns}\n",
    "\n",
    "for data_file in data_files:\n",
    "    if data_file not in bad_files:\n",
    "        job_ind = int(data_file.split('-')[2].split('_')[-1])\n",
    "        segment_file = lines[3].strip()\n",
    "        spikes = []\n",
    "        stims = {seg_loc:[] for seg_loc in range(1,31)}\n",
    "        \n",
    "        try: \n",
    "            with open(f'{data_dir}{data_file}', 'r') as fin:\n",
    "                lines = fin.readlines()\n",
    "            for line in lines:\n",
    "                if 'SPIKE' in line:\n",
    "                    spikes.append(float(line.split(':')[1]))\n",
    "                if 'stim -' in line:\n",
    "                    seg_loc = int(line.split(':')[1].strip(' t'))\n",
    "                    stim_time = float(line.strip().split(':')[-1])\n",
    "                    stims[seg_loc].append(stim_time)\n",
    "        except:\n",
    "            print(f'correcting {data_file}')\n",
    "            correct_file(f'{data_dir}{data_file}')\n",
    "            \n",
    "            with open(f'{data_dir}{data_file}', 'r') as fin:\n",
    "                lines = fin.readlines()\n",
    "            for line in lines:\n",
    "                if 'SPIKE' in line:\n",
    "                    spikes.append(float(line.split(':')[1]))\n",
    "                if 'stim -' in line:\n",
    "                    seg_loc = int(line.split(':')[1].strip(' t'))\n",
    "                    stim_time = float(line.strip().split(':')[-1])\n",
    "                    stims[seg_loc].append(stim_time)\n",
    "                \n",
    "        # remove duplicate spikes\n",
    "        _spikes = [spikes[0]]\n",
    "        for i in range(1,len(spikes)):\n",
    "            if spikes[i] - spikes[i-1] > 1:\n",
    "                _spikes.append(spikes[i])\n",
    "        \n",
    "        data[n_by_job_ind[job_ind]][data_file] = {'spikes':_spikes, 'stims':stims}"
   ]
  },
  {
   "cell_type": "code",
   "execution_count": null,
   "id": "ee16c673",
   "metadata": {},
   "outputs": [],
   "source": []
  }
 ],
 "metadata": {
  "kernelspec": {
   "display_name": "Python 3 (ipykernel)",
   "language": "python",
   "name": "python3"
  },
  "language_info": {
   "codemirror_mode": {
    "name": "ipython",
    "version": 3
   },
   "file_extension": ".py",
   "mimetype": "text/x-python",
   "name": "python",
   "nbconvert_exporter": "python",
   "pygments_lexer": "ipython3",
   "version": "3.10.12"
  }
 },
 "nbformat": 4,
 "nbformat_minor": 5
}
