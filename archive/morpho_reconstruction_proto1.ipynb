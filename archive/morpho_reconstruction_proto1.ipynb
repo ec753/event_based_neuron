{
 "cells": [
  {
   "cell_type": "markdown",
   "id": "514d5b1a",
   "metadata": {},
   "source": [
    "# morpho_reconstruction\n",
    "State variable reconstruction and model visualization"
   ]
  },
  {
   "cell_type": "code",
   "execution_count": 1,
   "id": "1c4bd475",
   "metadata": {},
   "outputs": [
    {
     "data": {
      "text/plain": [
       "1.0"
      ]
     },
     "execution_count": 1,
     "metadata": {},
     "output_type": "execute_result"
    }
   ],
   "source": [
    "from neuron import h\n",
    "from neuron.units import mV, ms\n",
    "import numpy as np\n",
    "import plotly\n",
    "import matplotlib.pyplot as plt\n",
    "from matplotlib import cm\n",
    "import queue\n",
    "import json\n",
    "\n",
    "h.load_file(\"stdrun.hoc\")\n",
    "h.load_file(\"stdlib.hoc\")\n",
    "h.load_file(\"import3d.hoc\")\n",
    "h.load_file(\"stdrun.hoc\")"
   ]
  },
  {
   "cell_type": "code",
   "execution_count": 2,
   "id": "21e4e5fd",
   "metadata": {},
   "outputs": [],
   "source": [
    "def event_type2color(event_type):\n",
    "    if event_type == 'e':\n",
    "        return 'red'\n",
    "    elif event_type == 'i':\n",
    "        return 'blue'\n",
    "    elif event_type == 'o':\n",
    "        return 'green'\n",
    "    else:\n",
    "        return 'magenta'\n",
    "    \n",
    "class Event:\n",
    "    def __init__(self, _id, t, tau, rev_potential, seg_ind, weight):\n",
    "        self._id = _id\n",
    "        self.t = t\n",
    "        self.tau = tau\n",
    "        self.rev_potential = rev_potential\n",
    "        self.seg_ind = seg_ind\n",
    "        self.weight = weight\n",
    "    def __lt__(self, other):\n",
    "        return self.t < other.t\n",
    "    def __repr__(self):\n",
    "        return str(self.source) + str(self.t)\n",
    "    def deliver(self):\n",
    "        #print(self)\n",
    "        return\n",
    "    \n",
    "def generate_event_queue(stimuli):\n",
    "    '''\n",
    "    :param stimuli: stimuli generated from poisson_times_from_stim_params\n",
    "    :param max_time:\n",
    "    :return:\n",
    "    '''\n",
    "    pq = queue.PriorityQueue()\n",
    "    for seg_ind in stimuli:\n",
    "        for t in stimuli[seg_ind].event_times:\n",
    "            pq.put(Event(\n",
    "                'stim', t, stimuli[seg_ind].tau, stimuli[seg_ind].rev_potential, seg_ind, stimuli[seg_ind].weight)\n",
    "                  )\n",
    "    return pq\n",
    "\n",
    "class Poisson_Times:\n",
    "    def __init__(self, _id, tau, interval, weight, rev_potential, event_times=None, max_time=1000000, number=99999999,\n",
    "                 delay=0, start=0):\n",
    "        '''\n",
    "        :param _id:\n",
    "        :param event_times: instead of auto generating, provide a list of event_times\n",
    "        :param max_time: maximum time (simulation duration)\n",
    "        :param number: maximum number of stimuli (typically inconsequential if max_time is reasonable)\n",
    "        '''\n",
    "\n",
    "        self._id = _id\n",
    "        self.rev_potential = rev_potential\n",
    "        self.max_time = max_time\n",
    "        self.interval = interval\n",
    "        self.weight = weight\n",
    "        self.delay = delay\n",
    "        self.tau = tau\n",
    "        self.start = start\n",
    "        self.number = number\n",
    "        self.event_times = []\n",
    "\n",
    "        if event_times:\n",
    "            # load event times\n",
    "            self.event_times = event_times\n",
    "        else:\n",
    "            # generate event times\n",
    "            event_time = 0\n",
    "            for i in range(number):\n",
    "                event_time += np.random.exponential(self.interval)\n",
    "                if event_time < max_time:\n",
    "                    self.event_times.append(event_time)\n",
    "                else:\n",
    "                    break\n",
    "                    \n",
    "def poisson_times_from_stim_params(stim_params, max_time):\n",
    "    poisson_times = {}\n",
    "    for _id in stim_params:\n",
    "        for seg_ind in stim_params[_id]['seg_inds']:\n",
    "            poisson_times[seg_ind] = Poisson_Times(\n",
    "                _id,\n",
    "                stim_params[_id]['tau'],\n",
    "                stim_params[_id]['interval'],\n",
    "                stim_params[_id]['weight'],\n",
    "                stim_params[_id]['rev_potential'],\n",
    "                max_time=max_time\n",
    "            )\n",
    "    return poisson_times\n",
    "\n",
    "class Pyramidal:\n",
    "    def __init__(self, record_spiking_histories=False):\n",
    "        self.load_morphology()\n",
    "        # do discretization, ion channels, etc\n",
    "        for sec in self.all:\n",
    "            sec.nseg = int(1 + 2 * (sec.L // 40))\n",
    "        h.hh.insert(self.axon)\n",
    "        h.hh.insert(self.soma)\n",
    "        h.pas.insert(self.dend)  # passive leak\n",
    "        h.pas.insert(self.apic)  # passive leak\n",
    "        self.all_input_segments = []\n",
    "        for morph in [self.apic, self.dend]:\n",
    "            for part in morph:\n",
    "                # self.all_input_segments.append(part)\n",
    "                self.all_input_segments.extend([seg for seg in part])\n",
    "        # storing input mechanisms\n",
    "        self.syns = []\n",
    "        self.net_stims = []\n",
    "        self.netcons = []\n",
    "        self.stims = []\n",
    "        # recording\n",
    "        self.v_apic = h.Vector().record(self.apic[100](0.5)._ref_v)\n",
    "        self.v_soma = h.Vector().record(self.soma[0](0.5)._ref_v)\n",
    "        self.v_axon = h.Vector().record(self.axon[0](0.5)._ref_v)\n",
    "        self._t = h.Vector().record(h._ref_t)\n",
    "        \n",
    "        self.v = [h.Vector().record(seg._ref_v) for sec in self.all for seg in sec]\n",
    "        self.hh_secs = [sec for sec in self.all if 'hh' in sec.psection()['density_mechs']]\n",
    "        \n",
    "        '''\n",
    "        self.m = [h.Vector().record(seg.hh._ref_m) for sec in hh_secs for seg in sec]\n",
    "        self.h = [h.Vector().record(seg.hh._ref_h) for sec in hh_secs for seg in sec]\n",
    "        self.n = [h.Vector().record(seg.hh._ref_n) for sec in hh_secs for seg in sec]\n",
    "        '''\n",
    "        \n",
    "        self.spike_detector = h.NetCon(self.axon[0](0.5)._ref_v, None, sec=self.axon[0])\n",
    "        self.spike_times = h.Vector()\n",
    "        self.spike_detector.record(self.spike_times)\n",
    "        \n",
    "        if record_spiking_histories:\n",
    "            self.spiking_histories = []\n",
    "            self.spike_detector2 = h.NetCon(self.axon[0](0.5)._ref_v, None, sec=self.axon[0])\n",
    "            self.spike_detector2.record(self.save)\n",
    "\n",
    "    def __repr__(self):\n",
    "        return \"pyr\"\n",
    "    \n",
    "    def get_state(self):\n",
    "        return {\n",
    "            \"v\": [seg.v for sec in self.all for seg in sec],\n",
    "            \"m\": [seg.hh.m for sec in self.hh_secs for seg in sec],\n",
    "            \"h\": [seg.hh.h for sec in self.hh_secs for seg in sec],\n",
    "            \"n\": [seg.hh.n for sec in self.hh_secs for seg in sec]}\n",
    "    \n",
    "    def save(self):\n",
    "        self.spiking_histories.append(self.get_state())\n",
    "        \n",
    "    def set_initialize_state(self, state):\n",
    "        self._initial_state = state\n",
    "        self.fih = h.FInitializeHandler(self._do_initial)\n",
    "    \n",
    "    def _do_initial(self):\n",
    "        # state: state dict from self.get_state()\n",
    "        all_segs = [seg for sec in self.all for seg in sec]\n",
    "        hh_segs = [seg for sec in self.hh_secs for seg in sec]\n",
    "        for seg, v in zip(all_segs, self._initial_state[\"v\"]):\n",
    "            seg.v = v\n",
    "        for seg, m, h, n in zip(hh_segs, self._initial_state[\"m\"], self._initial_state[\"h\"], self._initial_state[\"n\"]):\n",
    "            seg.hh.m = m\n",
    "            seg.hh.n = n\n",
    "            seg.hh.h = h\n",
    "\n",
    "    def load_morphology(self):\n",
    "        cell = h.Import3d_SWC_read()\n",
    "        cell.input(\"./neuron_nmo/amaral/CNG version/c91662.CNG.swc\")\n",
    "        i3d = h.Import3d_GUI(cell, False)\n",
    "        i3d.instantiate(self)\n",
    "\n",
    "    def connect_input(self, stimuli, seg):\n",
    "        '''\n",
    "        :param stimuli: Poisson_Times class object\n",
    "        :param seg: NEURON simulation segment\n",
    "        :return:\n",
    "        '''\n",
    "        syn = h.ExpSyn(seg)\n",
    "        syn.tau = stimuli.tau\n",
    "        syn.e = stimuli.rev_potential\n",
    "\n",
    "        vec_stim_times = h.Vector(stimuli.event_times)\n",
    "        vec_stim = h.VecStim()\n",
    "        vec_stim.play(vec_stim_times)\n",
    "\n",
    "        nc = h.NetCon(vec_stim, syn)\n",
    "        nc.weight[0] = 1  # stimuli.weight\n",
    "        nc.delay = stimuli.delay\n",
    "        \n",
    "        self.syns.append(syn)\n",
    "        self.netcons.append(nc)\n",
    "        \n",
    "\n",
    "        netstims = [h.NetStim() for stim_time in stimuli.event_times]\n",
    "        for netstim, event_time in zip(netstims, stimuli.event_times):\n",
    "            netstim.number = 1\n",
    "            netstim.start = event_time\n",
    "            netcon = h.NetCon(netstim, syn)\n",
    "            netcon.weight[0] = stimuli.weight\n",
    "            netcon.delay = 0 * ms\n",
    "\n",
    "            self.netcons.append(netcon)\n",
    "        self.stims.extend(netstims)\n",
    "        \n",
    "    def load_stimuli_from_file(self, stimuli_file):\n",
    "        with open(stimuli_file, 'r') as fin:\n",
    "            stimuli_json = json.load(fin)\n",
    "        for seg_ind in stimuli_json:\n",
    "            stimuli = Poisson_Times(\n",
    "                stimuli_json[seg_ind]['stim_type'], \n",
    "                stimuli_json[seg_ind]['tau'], \n",
    "                stimuli_json[seg_ind]['interval'], \n",
    "                stimuli_json[seg_ind]['weight'],\n",
    "                stimuli_json[seg_ind]['rev_potential'], \n",
    "                event_times=stimuli_json[seg_ind]['event_times']\n",
    "            )\n",
    "            self.connect_input(stimuli, self.all_input_segments[int(seg_ind)])\n",
    "            "
   ]
  },
  {
   "cell_type": "code",
   "execution_count": 3,
   "id": "daf4872f",
   "metadata": {},
   "outputs": [],
   "source": [
    "pyr = Pyramidal(record_spiking_histories=True)\n",
    "max_time = 10000 # any longer than 10000 is a bit fraught, there are lots of state variables to keep track of\n",
    "\n",
    "stim_params = {\n",
    "    'e': {\n",
    "        'n_stim_sets': 10,\n",
    "        'tau': 2,\n",
    "        'interval': 25,\n",
    "        'weight': .25,\n",
    "        'rev_potential': 0,\n",
    "        'seg_inds': np.random.randint(0, len(pyr.all_input_segments), 10)\n",
    "    },\n",
    "    'i': {\n",
    "        'n_stim_sets': 5,\n",
    "        'tau': 6,\n",
    "        'interval': 25,\n",
    "        'weight': .25,\n",
    "        'rev_potential': -80,\n",
    "        'seg_inds': np.random.randint(0, len(pyr.all_input_segments), 5)\n",
    "    }\n",
    "}\n",
    "\n",
    "stimuli = poisson_times_from_stim_params(stim_params, max_time=max_time)\n",
    "for seg in stimuli:\n",
    "    pyr.connect_input(stimuli[seg], pyr.all_input_segments[seg])"
   ]
  },
  {
   "cell_type": "code",
   "execution_count": 4,
   "id": "8466c179",
   "metadata": {},
   "outputs": [
    {
     "data": {
      "text/plain": [
       "303"
      ]
     },
     "execution_count": 4,
     "metadata": {},
     "output_type": "execute_result"
    }
   ],
   "source": [
    "h.finitialize(-65)\n",
    "h.continuerun(max_time)\n",
    "len(pyr.spike_times)"
   ]
  },
  {
   "cell_type": "code",
   "execution_count": 5,
   "id": "5fd94a0b",
   "metadata": {},
   "outputs": [],
   "source": [
    "spiking_history = pyr.spiking_histories[50]"
   ]
  },
  {
   "cell_type": "code",
   "execution_count": 6,
   "id": "336c6278",
   "metadata": {},
   "outputs": [],
   "source": [
    "# commit spike times for reconstruction\n",
    "spikes = list(pyr.spike_times)\n",
    "\n",
    "# commit membrane voltage for reconstruction\n",
    "obv_v = np.array([list(vec) for vec in pyr.v])\n",
    "# this last step takes a little bit of time"
   ]
  },
  {
   "cell_type": "code",
   "execution_count": 7,
   "id": "098bcb71",
   "metadata": {},
   "outputs": [],
   "source": [
    "stim_events = []\n",
    "for seg_ind in stimuli:\n",
    "    for event_time in stimuli[seg_ind].event_times:\n",
    "        stim_events.append(\n",
    "            (\n",
    "                stimuli[seg_ind]._id, \n",
    "                event_time, \n",
    "                stimuli[seg_ind].tau, \n",
    "                stimuli[seg_ind].rev_potential, \n",
    "                seg_ind, \n",
    "                stimuli[seg_ind].weight\n",
    "            )\n",
    "        )\n",
    "stim_events.sort(key = lambda x: x[1])"
   ]
  },
  {
   "cell_type": "code",
   "execution_count": 8,
   "id": "74de646b",
   "metadata": {},
   "outputs": [],
   "source": [
    "def event_sim_reconstruct(events, sim_duration, history=None):\n",
    "    '''\n",
    "    # used for simulating a morpho cell, detatched from other simulations, for n inputs\n",
    "    :param events:\n",
    "    :return:\n",
    "    '''\n",
    "    pyr = Pyramidal()\n",
    "\n",
    "    # generate necessary synapses\n",
    "    syns = {}\n",
    "    for event in events:\n",
    "        syns[event.seg_ind] = h.ExpSyn(pyr.all_input_segments[event.seg_ind])\n",
    "        syns[event.seg_ind].tau = event.tau\n",
    "        syns[event.seg_ind].e = event.rev_potential\n",
    "\n",
    "    # create net connections for each stimulus\n",
    "    min_event_time = min([event.t for event in events])\n",
    "    max_event_time = max([event.t for event in events])\n",
    "    \n",
    "    # initialize cell with history\n",
    "    if history:\n",
    "        pyr.set_initialize_state(history)\n",
    "\n",
    "    netstims = [h.NetStim() for event in events]\n",
    "    for netstim, event in zip(netstims, events):\n",
    "        netstim.number = 1\n",
    "        netstim.start = event.t - min_event_time\n",
    "        netcon = h.NetCon(netstim, syns[event.seg_ind])\n",
    "        netcon.weight[0] = event.weight\n",
    "        netcon.delay = 0 * ms\n",
    "        pyr.netcons.append(netcon)\n",
    "\n",
    "    # run simulation\n",
    "    h.finitialize(-65)\n",
    "    h.continuerun(sim_duration)\n",
    "    return pyr.v"
   ]
  },
  {
   "cell_type": "markdown",
   "id": "0b420988",
   "metadata": {},
   "source": [
    "## V reconstruction"
   ]
  },
  {
   "cell_type": "code",
   "execution_count": 9,
   "id": "8647ffcb",
   "metadata": {},
   "outputs": [
    {
     "name": "stdout",
     "output_type": "stream",
     "text": [
      "______PROGRESS______\n",
      "===================="
     ]
    }
   ],
   "source": [
    "reconstruct_duration = 100\n",
    "n = 100 # number of spikes to reconstruct\n",
    "viable_spikes = [spike for spike in spikes if spike < max_time - reconstruct_duration]\n",
    "spike_inds = np.random.choice(np.arange(0, len(viable_spikes)), n, replace=False)\n",
    "\n",
    "reconstructed_dfs = []\n",
    "\n",
    "print('______PROGRESS______')\n",
    "progress = 0.0\n",
    "for i, ind in enumerate(spike_inds):\n",
    "    starting_spike = spikes[ind]\n",
    "    subsequent_stims = [stim for stim in stim_events if (stim[1] > starting_spike) and (stim[1] <= starting_spike+reconstruct_duration)]    \n",
    "    \n",
    "    # list of Events class objects  _id, t, tau, rev_potential, seg_ind, weight\n",
    "    events = [Event(\n",
    "        _id=stim[0],\n",
    "        t=stim[1]-starting_spike,\n",
    "        tau=stim[2],\n",
    "        rev_potential=stim[3],\n",
    "        seg_ind=stim[4],\n",
    "        weight=stim[5]\n",
    "    ) for stim in subsequent_stims]\n",
    "    # order events\n",
    "    \n",
    "    re_df = event_sim_reconstruct(events, reconstruct_duration, history=spiking_history)\n",
    "    reconstructed_dfs.append(re_df)\n",
    "    \n",
    "    if i/n > progress:\n",
    "        print('=',end='')\n",
    "        progress+=0.05"
   ]
  },
  {
   "cell_type": "markdown",
   "id": "65e95a9a",
   "metadata": {},
   "source": [
    "## convert all vectors to np mats"
   ]
  },
  {
   "cell_type": "code",
   "execution_count": 10,
   "id": "aaacd3e4",
   "metadata": {},
   "outputs": [],
   "source": [
    "reconstructed_dfs = [np.array([list(vec) for vec in vecs]) for vecs in reconstructed_dfs]"
   ]
  },
  {
   "cell_type": "markdown",
   "id": "be11fdbc",
   "metadata": {},
   "source": [
    "## isolate obvs windows with their respective reconstructions"
   ]
  },
  {
   "cell_type": "code",
   "execution_count": 11,
   "id": "e02c6bd2",
   "metadata": {},
   "outputs": [
    {
     "data": {
      "text/plain": [
       "(784, 4001)"
      ]
     },
     "execution_count": 11,
     "metadata": {},
     "output_type": "execute_result"
    }
   ],
   "source": [
    "reconstructed_dfs[0].shape"
   ]
  },
  {
   "cell_type": "code",
   "execution_count": 12,
   "id": "6ea4f376",
   "metadata": {},
   "outputs": [],
   "source": [
    "comparable_obvs_dfs = []\n",
    "for i, ind in enumerate(spike_inds):\n",
    "    starting_spike = spikes[ind]\n",
    "    \n",
    "    start_ind = starting_spike * 40\n",
    "    stop_ind = (starting_spike + reconstruct_duration) * 40\n",
    "    comparable_obvs_window = obv_v[:, round(start_ind):round(stop_ind+1)]\n",
    "    comparable_obvs_dfs.append(comparable_obvs_window)"
   ]
  },
  {
   "cell_type": "code",
   "execution_count": 13,
   "id": "505226f5",
   "metadata": {},
   "outputs": [
    {
     "data": {
      "text/plain": [
       "(784, 4001)"
      ]
     },
     "execution_count": 13,
     "metadata": {},
     "output_type": "execute_result"
    }
   ],
   "source": [
    "comparable_obvs_dfs[0].shape"
   ]
  },
  {
   "cell_type": "code",
   "execution_count": 14,
   "id": "687cd528",
   "metadata": {},
   "outputs": [
    {
     "data": {
      "image/png": "[encoded data removed]",
      "text/plain": [
       "<Figure size 432x288 with 1 Axes>"
      ]
     },
     "metadata": {
      "needs_background": "light"
     },
     "output_type": "display_data"
    }
   ],
   "source": [
    "ind = 50\n",
    "plt.plot(comparable_obvs_dfs[ind][0,:])\n",
    "plt.plot(reconstructed_dfs[ind][0,:])\n",
    "plt.show()"
   ]
  },
  {
   "cell_type": "markdown",
   "id": "4cb52975",
   "metadata": {},
   "source": [
    "## get the distances"
   ]
  },
  {
   "cell_type": "code",
   "execution_count": 15,
   "id": "e218550a",
   "metadata": {},
   "outputs": [
    {
     "data": {
      "text/plain": [
       "array([[ 13.75447583,  13.10802441,  12.4214209 , ..., -67.75006509,\n",
       "        -67.74939368, -67.74882114],\n",
       "       [ 19.99512722,  19.15733178,  18.28531838, ..., -67.54164089,\n",
       "        -67.54067528, -67.53981249],\n",
       "       [ 25.52278882,  24.5157305 ,  23.48024507, ..., -67.17917762,\n",
       "        -67.17768468, -67.17630052],\n",
       "       ...,\n",
       "       [-31.9774879 , -31.97436787, -32.00975766, ..., -74.68612474,\n",
       "        -74.6843894 , -74.68269169],\n",
       "       [-41.76636867, -41.70598647, -41.67866849, ..., -77.00547172,\n",
       "        -77.00352533, -77.00159561],\n",
       "       [-50.91326183, -50.82293042, -50.75883029, ..., -79.46346737,\n",
       "        -79.46128486, -79.45909784]])"
      ]
     },
     "execution_count": 15,
     "metadata": {},
     "output_type": "execute_result"
    }
   ],
   "source": [
    "comparable_obvs_dfs[ind]"
   ]
  },
  {
   "cell_type": "code",
   "execution_count": 16,
   "id": "f65625a3",
   "metadata": {},
   "outputs": [
    {
     "data": {
      "text/plain": [
       "array([[-41.0765832 , -41.35526839, -41.77000838, ..., -69.43490647,\n",
       "        -69.43490646, -69.43490646],\n",
       "       [-28.27002642, -28.57918516, -29.00827868, ..., -69.12937084,\n",
       "        -69.12937084, -69.12937084],\n",
       "       [ -7.38004186,  -7.90103407,  -8.51458529, ..., -68.59005114,\n",
       "        -68.59005114, -68.59005114],\n",
       "       ...,\n",
       "       [-65.8312839 , -65.00296844, -63.78369727, ..., -69.59707125,\n",
       "        -69.59707125, -69.59707125],\n",
       "       [-72.61014165, -70.54921789, -68.31959862, ..., -69.612434  ,\n",
       "        -69.612434  , -69.612434  ],\n",
       "       [-79.44792742, -74.45640975, -71.03675074, ..., -69.62003926,\n",
       "        -69.62003926, -69.62003926]])"
      ]
     },
     "execution_count": 16,
     "metadata": {},
     "output_type": "execute_result"
    }
   ],
   "source": [
    "reconstructed_dfs[ind]"
   ]
  },
  {
   "cell_type": "code",
   "execution_count": 17,
   "id": "b8a99446",
   "metadata": {},
   "outputs": [
    {
     "data": {
      "text/plain": [
       "array([[54.83105903, 54.4632928 , 54.19142928, ...,  1.68484137,\n",
       "         1.68551278,  1.68608533],\n",
       "       [48.26515364, 47.73651694, 47.29359707, ...,  1.58772995,\n",
       "         1.58869556,  1.58955835],\n",
       "       [32.90283068, 32.41676457, 31.99483035, ...,  1.41087352,\n",
       "         1.41236645,  1.41375061],\n",
       "       ...,\n",
       "       [33.853796  , 33.02860058, 31.77393961, ..., -5.08905349,\n",
       "        -5.08731815, -5.08562044],\n",
       "       [30.84377298, 28.84323142, 26.64093013, ..., -7.39303772,\n",
       "        -7.39109134, -7.38916161],\n",
       "       [28.53466558, 23.63347934, 20.27792045, ..., -9.84342811,\n",
       "        -9.8412456 , -9.83905858]])"
      ]
     },
     "execution_count": 17,
     "metadata": {},
     "output_type": "execute_result"
    }
   ],
   "source": [
    "comparable_obvs_dfs[ind] - reconstructed_dfs[ind]"
   ]
  },
  {
   "cell_type": "code",
   "execution_count": 18,
   "id": "40524b50",
   "metadata": {},
   "outputs": [],
   "source": [
    "difs = []\n",
    "for ind in range(n):\n",
    "    difs.append(comparable_obvs_dfs[ind] - reconstructed_dfs[ind])"
   ]
  },
  {
   "cell_type": "code",
   "execution_count": 19,
   "id": "69b7bf9e",
   "metadata": {},
   "outputs": [
    {
     "data": {
      "text/plain": [
       "(784, 4001)"
      ]
     },
     "execution_count": 19,
     "metadata": {},
     "output_type": "execute_result"
    }
   ],
   "source": [
    "difs[0].shape"
   ]
  },
  {
   "cell_type": "code",
   "execution_count": 20,
   "id": "534ce45f",
   "metadata": {},
   "outputs": [
    {
     "data": {
      "image/png": "[encoded data removed]",
      "text/plain": [
       "<Figure size 432x288 with 1 Axes>"
      ]
     },
     "metadata": {
      "needs_background": "light"
     },
     "output_type": "display_data"
    }
   ],
   "source": [
    "# TODO: this but ordered by distance from soma\n",
    "plt.plot(difs[0])\n",
    "\n",
    "plt.show()"
   ]
  },
  {
   "cell_type": "markdown",
   "id": "2267fb81",
   "metadata": {},
   "source": [
    "## average difs by time"
   ]
  },
  {
   "cell_type": "code",
   "execution_count": 21,
   "id": "7f2d11cc",
   "metadata": {},
   "outputs": [],
   "source": [
    "difs = np.stack(difs)"
   ]
  },
  {
   "cell_type": "code",
   "execution_count": 22,
   "id": "2dd4191f",
   "metadata": {},
   "outputs": [
    {
     "data": {
      "text/plain": [
       "(100, 784, 4001)"
      ]
     },
     "execution_count": 22,
     "metadata": {},
     "output_type": "execute_result"
    }
   ],
   "source": [
    "difs.shape"
   ]
  },
  {
   "cell_type": "code",
   "execution_count": 23,
   "id": "e7c2bee1",
   "metadata": {},
   "outputs": [],
   "source": [
    "abs_difs = np.abs(difs)"
   ]
  },
  {
   "cell_type": "code",
   "execution_count": 24,
   "id": "647b2e12",
   "metadata": {},
   "outputs": [
    {
     "data": {
      "text/plain": [
       "(100, 4001)"
      ]
     },
     "execution_count": 24,
     "metadata": {},
     "output_type": "execute_result"
    }
   ],
   "source": [
    "mean_difs_by_time = np.mean(abs_difs, axis=1)\n",
    "mean_difs_by_time.shape"
   ]
  },
  {
   "cell_type": "code",
   "execution_count": 25,
   "id": "3845f93b",
   "metadata": {},
   "outputs": [
    {
     "data": {
      "text/plain": [
       "(100, 784)"
      ]
     },
     "execution_count": 25,
     "metadata": {},
     "output_type": "execute_result"
    }
   ],
   "source": [
    "mean_difs_by_seg = np.mean(abs_difs, axis=2)\n",
    "mean_difs_by_seg.shape"
   ]
  },
  {
   "cell_type": "code",
   "execution_count": 26,
   "id": "11a31682",
   "metadata": {},
   "outputs": [
    {
     "data": {
      "text/plain": [
       "[<matplotlib.lines.Line2D at 0x7f7fa0cc6f70>]"
      ]
     },
     "execution_count": 26,
     "metadata": {},
     "output_type": "execute_result"
    },
    {
     "data": {
      "image/png": "[encoded data removed]",
      "text/plain": [
       "<Figure size 432x288 with 1 Axes>"
      ]
     },
     "metadata": {
      "needs_background": "light"
     },
     "output_type": "display_data"
    }
   ],
   "source": [
    "plt.plot(np.mean(mean_difs_by_time, axis=0))"
   ]
  },
  {
   "cell_type": "code",
   "execution_count": 27,
   "id": "c20ca5fd",
   "metadata": {},
   "outputs": [
    {
     "ename": "TypeError",
     "evalue": "scatter() missing 1 required positional argument: 'y'",
     "output_type": "error",
     "traceback": [
      "\u001b[0;31m---------------------------------------------------------------------------\u001b[0m",
      "\u001b[0;31mTypeError\u001b[0m                                 Traceback (most recent call last)",
      "\u001b[0;32m/tmp/ipykernel_219699/3581790998.py\u001b[0m in \u001b[0;36m<module>\u001b[0;34m\u001b[0m\n\u001b[0;32m----> 1\u001b[0;31m \u001b[0mplt\u001b[0m\u001b[0;34m.\u001b[0m\u001b[0mscatter\u001b[0m\u001b[0;34m(\u001b[0m\u001b[0mnp\u001b[0m\u001b[0;34m.\u001b[0m\u001b[0mmean\u001b[0m\u001b[0;34m(\u001b[0m\u001b[0mmean_difs_by_seg\u001b[0m\u001b[0;34m,\u001b[0m \u001b[0maxis\u001b[0m\u001b[0;34m=\u001b[0m\u001b[0;36m0\u001b[0m\u001b[0;34m)\u001b[0m\u001b[0;34m)\u001b[0m\u001b[0;34m\u001b[0m\u001b[0;34m\u001b[0m\u001b[0m\n\u001b[0m",
      "\u001b[0;31mTypeError\u001b[0m: scatter() missing 1 required positional argument: 'y'"
     ]
    }
   ],
   "source": [
    "plt.scatter(np.mean(mean_difs_by_seg, axis=0))"
   ]
  },
  {
   "cell_type": "code",
   "execution_count": null,
   "id": "b050aca0",
   "metadata": {},
   "outputs": [],
   "source": [
    "seg_dists"
   ]
  },
  {
   "cell_type": "code",
   "execution_count": null,
   "id": "9e14ff49",
   "metadata": {},
   "outputs": [],
   "source": [
    "len([h.distance(seg, pyr.soma[0](0.5)) for seg in pyr.all_input_segments])"
   ]
  },
  {
   "cell_type": "markdown",
   "id": "a00ee55c",
   "metadata": {},
   "source": [
    "## 3D visualization"
   ]
  },
  {
   "cell_type": "code",
   "execution_count": null,
   "id": "57e083d7",
   "metadata": {},
   "outputs": [],
   "source": [
    "from neuron import rxd\n",
    "cyt = rxd.Region(pyr.all)\n",
    "error = rxd.Parameter(cyt)\n",
    "'''\n",
    "for node in error.nodes:\n",
    "    node.value = h.distance(node.segment, pyr.soma[0](0.5))\n",
    "    '''\n",
    "\n",
    "for sec in pyr.all:\n",
    "    for seg in sec:\n",
    "        error.nodes(seg).value = h.distance(seg, pyr.soma[0](0.5))"
   ]
  },
  {
   "cell_type": "code",
   "execution_count": null,
   "id": "735917db",
   "metadata": {},
   "outputs": [],
   "source": [
    "ps = h.PlotShape(False)\n",
    "ps.variable(error)\n",
    "ps.scale(0, 800)\n",
    "\n",
    "ps2 = ps.plot(plotly, cmap=cm.cool)\n",
    "\n",
    "for seg_ind in stimuli:\n",
    "    seg = pyr.all_input_segments[int(seg_ind)]\n",
    "    ps2.mark(seg, marker_size=3, marker_color=event_type2color(stimuli[seg_ind]._id), marker_opacity=.9)\n",
    "\n",
    "ps2.show()"
   ]
  },
  {
   "cell_type": "code",
   "execution_count": null,
   "id": "7c13ab64",
   "metadata": {},
   "outputs": [],
   "source": []
  }
 ],
 "metadata": {
  "kernelspec": {
   "display_name": "Python 3 (ipykernel)",
   "language": "python",
   "name": "python3"
  },
  "language_info": {
   "codemirror_mode": {
    "name": "ipython",
    "version": 3
   },
   "file_extension": ".py",
   "mimetype": "text/x-python",
   "name": "python",
   "nbconvert_exporter": "python",
   "pygments_lexer": "ipython3",
   "version": "3.10.6"
  }
 },
 "nbformat": 4,
 "nbformat_minor": 5
}
