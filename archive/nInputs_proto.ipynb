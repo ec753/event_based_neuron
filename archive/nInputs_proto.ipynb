{
 "cells": [
  {
   "cell_type": "code",
   "execution_count": 12,
   "id": "6f1c2fa1",
   "metadata": {},
   "outputs": [],
   "source": [
    "import sys\n",
    "sys.path.insert(1, \"./utils/\")\n",
    "import Stimuli, Morpho\n",
    "\n",
    "import ctypes\n",
    "import time\n",
    "import argparse\n",
    "import numpy as np\n",
    "import pandas as pd\n",
    "from neuron import nrn_dll_sym, h\n",
    "from neuron.units import ms, mV\n",
    "\n",
    "import matplotlib.pyplot as plt\n",
    "\n",
    "import HH, Stimuli\n",
    "h.load_file(\"stdrun.hoc\")\n",
    "import multiprocessing"
   ]
  },
  {
   "cell_type": "code",
   "execution_count": 127,
   "id": "0951ba6a",
   "metadata": {},
   "outputs": [],
   "source": [
    "# globals (yuck)\n",
    "ninputs = 10\n",
    "\n",
    "med_history = pd.DataFrame(\n",
    "    {\n",
    "        'v':[-66.650758],\n",
    "        'm': 0.045514,\n",
    "        'n': 0.353547,\n",
    "        'h': 0.529801\n",
    "    }\n",
    ")\n",
    "o_history = pd.DataFrame(\n",
    "    {\n",
    "        'v': [12.700157],\n",
    "        'm': 0.656062,\n",
    "        'n': 0.437152,\n",
    "        'h': 0.395021\n",
    "    }\n",
    ")\n",
    "\n",
    "excitatory_weight = 0.0002\n",
    "excitatory_tau = 2\n",
    "excitatory_rp = 0\n",
    "inhibitory_weight = 0.0005\n",
    "inhibitory_tau = 6\n",
    "inhibitory_rp = -80\n",
    "duration = 20"
   ]
  },
  {
   "cell_type": "markdown",
   "id": "db3da16e",
   "metadata": {},
   "source": [
    "## build a test simulation"
   ]
  },
  {
   "cell_type": "code",
   "execution_count": 122,
   "id": "af58760d",
   "metadata": {},
   "outputs": [
    {
     "data": {
      "image/png": "[encoded data removed]",
      "text/plain": [
       "<Figure size 1000x100 with 1 Axes>"
      ]
     },
     "metadata": {},
     "output_type": "display_data"
    },
    {
     "data": {
      "text/plain": [
       "[-18.923192947575643, 2.251807052424546]"
      ]
     },
     "execution_count": 122,
     "metadata": {},
     "output_type": "execute_result"
    }
   ],
   "source": [
    "# generate inputs\n",
    "\n",
    "sim_start = 49\n",
    "e_stims = Stimuli.poisson_process_n(5, 40)\n",
    "i_stims = Stimuli.poisson_process_n(15, 40)\n",
    "stim_max = max(e_stims + i_stims)\n",
    "e_stims = [-stim + stim_max + sim_start for stim in e_stims]\n",
    "i_stims = [-stim + stim_max + sim_start for stim in i_stims]\n",
    "\n",
    "plt.figure(figsize=(10,1))\n",
    "plt.vlines(e_stims, 0,1,'red')\n",
    "plt.vlines(i_stims, -1,0,'blue')\n",
    "plt.show()"
   ]
  },
  {
   "cell_type": "code",
   "execution_count": 131,
   "id": "58e930e3",
   "metadata": {},
   "outputs": [
    {
     "data": {
      "text/plain": [
       "[-18.923192947575643, 2.251807052424546]"
      ]
     },
     "execution_count": 131,
     "metadata": {},
     "output_type": "execute_result"
    }
   ],
   "source": [
    "inputs, history, excitatory_weight, inhibitory_weight, excitatory_tau, inhibitory_tau = hh_n_inputs(100, e_stims, i_stims)\n",
    "HH.run_event_sim(\n",
    "    events = inputs, \n",
    "    history = history, \n",
    "    e_w = excitatory_weight, \n",
    "    i_w = inhibitory_weight, \n",
    "    e_t = excitatory_tau, \n",
    "    i_t = inhibitory_tau)"
   ]
  },
  {
   "cell_type": "code",
   "execution_count": 132,
   "id": "572c4799",
   "metadata": {},
   "outputs": [
    {
     "data": {
      "text/plain": [
       "[('e', -34.648192947675284),\n",
       " ('i', -33.492282439957194),\n",
       " ('i', -31.22339740028019),\n",
       " ('e', -29.27913314910927),\n",
       " ('e', -23.18551561312438),\n",
       " ('e', -22.15717500521464),\n",
       " ('e', -19.171729303031043),\n",
       " ('e', -16.998250500819495),\n",
       " ('e', -2.1360844787149063),\n",
       " ('e', 0.0)]"
      ]
     },
     "execution_count": 132,
     "metadata": {},
     "output_type": "execute_result"
    }
   ],
   "source": [
    "inputs"
   ]
  },
  {
   "cell_type": "code",
   "execution_count": 136,
   "id": "ea00866d",
   "metadata": {},
   "outputs": [
    {
     "data": {
      "text/plain": [
       "627.3007070464321"
      ]
     },
     "execution_count": 136,
     "metadata": {},
     "output_type": "execute_result"
    }
   ],
   "source": [
    "hh_n_inputs(100, e_stims, i_stims)"
   ]
  },
  {
   "cell_type": "code",
   "execution_count": 84,
   "id": "31b7f604",
   "metadata": {},
   "outputs": [
    {
     "data": {
      "text/plain": [
       "[('i', -33.23278564648285),\n",
       " ('i', -32.22886084169079),\n",
       " ('e', -28.456681625588658),\n",
       " ('e', -27.389260466930295),\n",
       " ('e', -18.677237308727854),\n",
       " ('i', -15.903933263399608),\n",
       " ('e', -11.588256642759006),\n",
       " ('e', -7.753427066837162),\n",
       " ('e', -5.120540833633186),\n",
       " ('e', 0.0)]"
      ]
     },
     "execution_count": 84,
     "metadata": {},
     "output_type": "execute_result"
    }
   ],
   "source": [
    "events = inputs\n",
    "events"
   ]
  },
  {
   "cell_type": "code",
   "execution_count": 85,
   "id": "ef912743",
   "metadata": {},
   "outputs": [
    {
     "data": {
      "text/plain": [
       "33.23278564648285"
      ]
     },
     "execution_count": 85,
     "metadata": {},
     "output_type": "execute_result"
    }
   ],
   "source": [
    "shift = -min([event_time for (event_type, event_time) in events])\n",
    "shift"
   ]
  },
  {
   "cell_type": "code",
   "execution_count": 87,
   "id": "8abd062e",
   "metadata": {},
   "outputs": [],
   "source": [
    "sim = HH.HH()"
   ]
  },
  {
   "cell_type": "code",
   "execution_count": 91,
   "id": "28b2f8c9",
   "metadata": {},
   "outputs": [
    {
     "data": {
      "text/plain": [
       "10.0"
      ]
     },
     "execution_count": 91,
     "metadata": {},
     "output_type": "execute_result"
    }
   ],
   "source": [
    "sim.axon.diam"
   ]
  },
  {
   "cell_type": "markdown",
   "id": "bb4dffd3",
   "metadata": {},
   "source": [
    "## nInputs"
   ]
  },
  {
   "cell_type": "code",
   "execution_count": 135,
   "id": "5e4dfa23",
   "metadata": {},
   "outputs": [],
   "source": [
    "def hh_n_inputs(\n",
    "        last_spike,\n",
    "        e_stims,\n",
    "        i_stims,\n",
    "):\n",
    "    # takes in inputs provided in same manor as pdt event_callback\n",
    "        # event_times are positive, real-valued times from simulation, relational to the start of the simulation\n",
    "    # returns the next spike time, also relational to the start of the simulation\n",
    "    \n",
    "    '''\n",
    "    inputs = zip(\n",
    "        ['o'] + ['e'] * 40 + ['i'] * 40,\n",
    "        [\n",
    "            last_spike,\n",
    "            e0, e1, e2, e3, e4, e5, e6, e7, e8, e9, e10, e11, e12, e13, e14, e15, e16, e17, e18, e19, e20, e21, e22,\n",
    "            e23, e24, e25, e26, e27, e28, e29, e30, e31, e32, e33, e34, e35, e36, e37, e38, e39,\n",
    "            i0, i1, i2, i3, i4, i5, i6, i7, i8, i9, i10, i11, i12, i13, i14, i15, i16, i17, i18, i19, i20, i21, i22,\n",
    "            i23, i24, i25, i26, i27, i28, i29, i30, i31, i32, i33, i34, i35, i36, i37, i38, i39\n",
    "        ]\n",
    "    )\n",
    "    '''\n",
    "    inputs = zip(\n",
    "        ['o'] + ['e'] * 40 + ['i'] * 40,\n",
    "        [last_spike] + e_stims + i_stims\n",
    "    )\n",
    "    \n",
    "    inputs = sorted(inputs, key = lambda x: x[1])\n",
    "\n",
    "    # remove infs\n",
    "    inputs = [(event_type, event_time) for (event_type, event_time) in inputs if event_time != -np.inf]\n",
    "\n",
    "    # remove events before last spike\n",
    "    inputs = [(event_type, event_time) for (event_type, event_time) in inputs if event_time >= last_spike]\n",
    "\n",
    "    # recenter event times: now they are all non-positive, where the last event received is a time t=0\n",
    "    # this looks nasty but just recieves the max event_time\n",
    "    last_event_time = max(enumerate(inputs), key=lambda x: x[1][1])[1][1]\n",
    "    inputs = [(event_type, event_time - last_event_time) for (event_type, event_time) in inputs]\n",
    "    # find the starting point of the simulation, it can be 1 of 3 choices:\n",
    "        # last spike\n",
    "        # nth latest input\n",
    "        # first input if # inputs < n\n",
    "    num_inputs = min(ninputs, len(inputs))\n",
    "    inputs = inputs[-num_inputs:]\n",
    "    \n",
    "    \n",
    "\n",
    "    if inputs[0][0] == 'o':\n",
    "        # return the spiking history\n",
    "        history = o_history\n",
    "    elif (inputs[0][0] == 'e') or (inputs[0][0] == 'i'):\n",
    "        history = med_history\n",
    "    else:\n",
    "        raise Exception('PROBLEM in the event type')\n",
    "        \n",
    "    #return inputs, history, excitatory_weight, inhibitory_weight, excitatory_tau, inhibitory_tau\n",
    "\n",
    "    '''spikes = pool.starmap(\n",
    "        HH.run_event_sim,\n",
    "        [\n",
    "            [\n",
    "                inputs, history, \n",
    "                excitatory_weight, excitatory_tau, excitatory_rp,\n",
    "                inhibitory_weight, inhibitory_tau, inhibitory_rp,\n",
    "                duration, False\n",
    "            ]\n",
    "        ]\n",
    "    )[0]'''\n",
    "    \n",
    "    spikes = HH.run_event_sim(\n",
    "        inputs, history, \n",
    "        excitatory_weight, excitatory_tau, excitatory_rp,\n",
    "        inhibitory_weight, inhibitory_tau, inhibitory_rp,\n",
    "        duration, False\n",
    "    )\n",
    "    # print('recieved', spikes)\n",
    "    try:\n",
    "        nst = min([spike for spike in spikes if spike > 0])\n",
    "        return nst + last_event_time\n",
    "    except:\n",
    "        return np.inf"
   ]
  },
  {
   "cell_type": "code",
   "execution_count": null,
   "id": "54a75c33",
   "metadata": {},
   "outputs": [],
   "source": [
    "hh_n_inputs()"
   ]
  },
  {
   "cell_type": "code",
   "execution_count": 3,
   "id": "f5bc4854",
   "metadata": {},
   "outputs": [],
   "source": [
    "double_ptr = ctypes.POINTER(ctypes.c_double)\n",
    "on_event_proto = ctypes.CFUNCTYPE(*([ctypes.c_double] * 82)) # 1 for return, 1 for last spike, 40 for each stim type\n",
    "\n",
    "on_event_c = on_event_proto(hh_n_inputs)\n",
    "on_event_c_ptr = ctypes.cast(on_event_c, double_ptr)\n",
    "\n",
    "nrn_hocobj_ptr = nrn_dll_sym(\"nrn_hocobj_ptr\")\n",
    "nrn_hocobj_ptr.restype = ctypes.py_object\n",
    "event_callback_ptr = nrn_hocobj_ptr(ctypes.cast(on_event_c_ptr, double_ptr))"
   ]
  },
  {
   "cell_type": "code",
   "execution_count": 4,
   "id": "002090e3",
   "metadata": {},
   "outputs": [],
   "source": [
    "pool = multiprocessing.Pool(1)"
   ]
  },
  {
   "cell_type": "code",
   "execution_count": 5,
   "id": "d9784726",
   "metadata": {},
   "outputs": [
    {
     "data": {
      "text/plain": [
       "0.0"
      ]
     },
     "execution_count": 5,
     "metadata": {},
     "output_type": "execute_result"
    }
   ],
   "source": [
    "cellNST = h.nInputs40()\n",
    "cellNST._ref_on_event = event_callback_ptr\n",
    "cellNST_spikes = h.Vector()\n",
    "cellNST_nc = h.NetCon(cellNST, None)\n",
    "cellNST_nc.record(cellNST_spikes)"
   ]
  },
  {
   "cell_type": "code",
   "execution_count": 6,
   "id": "a4f190e4",
   "metadata": {},
   "outputs": [],
   "source": [
    "excitatory_interval = 10\n",
    "excitatory_weight = 0.2\n",
    "inhibitory_interval = 15\n",
    "inhibitory_weight = 0.5\n",
    "excitatory_tau = 2\n",
    "inhibitory_tau = 2\n",
    "duration = 10000\n",
    "ninputs = 10\n",
    "\n",
    "med_history = pd.DataFrame(\n",
    "    {\n",
    "        'v':[-66.650758],\n",
    "        'm': 0.045514,\n",
    "        'n': 0.353547,\n",
    "        'h': 0.529801\n",
    "    }\n",
    ")\n",
    "o_history = pd.DataFrame(\n",
    "    {\n",
    "        'v': [12.700157],\n",
    "        'm': 0.656062,\n",
    "        'n': 0.437152,\n",
    "        'h': 0.395021\n",
    "    }\n",
    ")"
   ]
  },
  {
   "cell_type": "code",
   "execution_count": 7,
   "id": "bcce5403",
   "metadata": {},
   "outputs": [
    {
     "data": {
      "text/plain": [
       "0.0"
      ]
     },
     "execution_count": 7,
     "metadata": {},
     "output_type": "execute_result"
    }
   ],
   "source": [
    "estim = h.NetStim()\n",
    "estim.noise = True\n",
    "estim.interval = excitatory_interval * ms\n",
    "estim.number = 10_000_000 # arbitrary\n",
    "estim.start = 0 * ms\n",
    "estim.seed(12)\n",
    "# connect to cellNST\n",
    "e_nc_nst = h.NetCon(estim, cellNST)\n",
    "e_nc_nst.delay = 0\n",
    "e_nc_nst.weight[0] = excitatory_weight\n",
    "\n",
    "e_stims = h.Vector()\n",
    "e_nc_nst.record(e_stims)"
   ]
  },
  {
   "cell_type": "code",
   "execution_count": 8,
   "id": "c18a1e7e",
   "metadata": {},
   "outputs": [
    {
     "data": {
      "text/plain": [
       "0.0"
      ]
     },
     "execution_count": 8,
     "metadata": {},
     "output_type": "execute_result"
    }
   ],
   "source": [
    "istim = h.NetStim()\n",
    "istim.noise = True\n",
    "istim.interval = inhibitory_interval * ms\n",
    "istim.number = 10_000_000\n",
    "istim.start = 0 * ms\n",
    "istim.seed(113)\n",
    "# connect to cellNST\n",
    "i_nc_nst = h.NetCon(istim, cellNST)\n",
    "i_nc_nst.delay = 0\n",
    "i_nc_nst.weight[0] = -inhibitory_weight\n",
    "\n",
    "i_stims = h.Vector()\n",
    "i_nc_nst.record(i_stims)"
   ]
  },
  {
   "cell_type": "code",
   "execution_count": null,
   "id": "0734de2d",
   "metadata": {},
   "outputs": [
    {
     "name": "stderr",
     "output_type": "stream",
     "text": [
      "Exception ignored on calling ctypes callback function: <function hh_n_inputs at 0x7f665b8d0b80>\n",
      "Traceback (most recent call last):\n",
      "  File \"/tmp/ipykernel_234205/1817113174.py\", line 49, in hh_n_inputs\n",
      "AttributeError: module 'HH' has no attribute 'run_event_sim'\n",
      "Exception ignored on calling ctypes callback function: <function hh_n_inputs at 0x7f665b8d0b80>\n",
      "Traceback (most recent call last):\n",
      "  File \"/tmp/ipykernel_234205/1817113174.py\", line 49, in hh_n_inputs\n",
      "AttributeError: module 'HH' has no attribute 'run_event_sim'\n"
     ]
    }
   ],
   "source": [
    "h.finitialize(-65 * mV)\n",
    "\n",
    "start = time.perf_counter()\n",
    "h.continuerun(duration * ms)\n",
    "stop = time.perf_counter()"
   ]
  },
  {
   "cell_type": "code",
   "execution_count": null,
   "id": "8caaffc5",
   "metadata": {},
   "outputs": [],
   "source": []
  },
  {
   "cell_type": "code",
   "execution_count": null,
   "id": "8997aeeb",
   "metadata": {},
   "outputs": [],
   "source": []
  },
  {
   "cell_type": "code",
   "execution_count": null,
   "id": "5b1765a9",
   "metadata": {},
   "outputs": [],
   "source": []
  }
 ],
 "metadata": {
  "kernelspec": {
   "display_name": "Python 3 (ipykernel)",
   "language": "python",
   "name": "python3"
  },
  "language_info": {
   "codemirror_mode": {
    "name": "ipython",
    "version": 3
   },
   "file_extension": ".py",
   "mimetype": "text/x-python",
   "name": "python",
   "nbconvert_exporter": "python",
   "pygments_lexer": "ipython3",
   "version": "3.10.6"
  }
 },
 "nbformat": 4,
 "nbformat_minor": 5
}
