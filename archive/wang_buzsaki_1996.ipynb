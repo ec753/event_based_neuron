{
 "cells": [
  {
   "cell_type": "markdown",
   "id": "33f47132",
   "metadata": {},
   "source": [
    "## Wang Buzsaki 1996\n",
    "Initial working of the Wang Buzsaki model from their paper in 1996, that includes a saddle-node-like bifurcation.\n",
    "\n",
    "Mod files from model 26997 in ModelDB.\n"
   ]
  },
  {
   "cell_type": "code",
   "execution_count": 1,
   "id": "70bc3607",
   "metadata": {},
   "outputs": [],
   "source": [
    "import numpy as np\n",
    "import matplotlib.pyplot as plt\n",
    "\n",
    "#from neuron import h, gui\n",
    "from neuron import h\n",
    "h.load_file(\"stdrun.hoc\")\n",
    "from neuron.units import mV, ms\n",
    "\n",
    "import sys\n",
    "sys.path.insert(1, \"../utils/\")\n",
    "import Stimuli"
   ]
  },
  {
   "cell_type": "code",
   "execution_count": 2,
   "id": "6d51a6ef",
   "metadata": {},
   "outputs": [],
   "source": [
    "sim_length = 1000\n",
    "\n",
    "ex_interval = 5\n",
    "ex_weight = 0.00003\n",
    "\n",
    "in_interval = 15\n",
    "in_weight = 0.00005\n",
    "\n",
    "ex_times = Stimuli.poisson_process_duration(ex_interval, sim_length)\n",
    "ex_stim = Stimuli.PoissonStim(\n",
    "    name='ex',\n",
    "    stim_id='ex',\n",
    "    interval=ex_interval,\n",
    "    rev_potential=0,\n",
    "    weight=ex_weight,\n",
    "    tau=2,\n",
    "    seed='na',\n",
    "    stim_times=ex_times\n",
    ")\n",
    "\n",
    "\n",
    "in_times = Stimuli.poisson_process_duration(in_interval, sim_length)\n",
    "in_stim = Stimuli.PoissonStim(\n",
    "    name='in',\n",
    "    stim_id='in',\n",
    "    interval=in_interval,\n",
    "    rev_potential=-80,\n",
    "    weight=in_weight,\n",
    "    tau=6,\n",
    "    seed='na',\n",
    "    stim_times=in_times\n",
    ")"
   ]
  },
  {
   "cell_type": "code",
   "execution_count": 3,
   "id": "c065ee42",
   "metadata": {},
   "outputs": [],
   "source": [
    "class WangBuzsaki:\n",
    "    def __init__(self):\n",
    "        self.soma = h.Section()\n",
    "        \n",
    "        # initialize the soma's parameters\n",
    "        self.soma.L = 3.1831\n",
    "        self.soma.diam = 10\n",
    "        self.soma.insert(h.pas)\n",
    "        self.soma.insert(h.kdr)\n",
    "        self.soma.insert(h.naf)\n",
    "        self.soma.g_pas = 0.0001\n",
    "        self.soma.e_pas = -65\n",
    "        self.soma.gmax_kdr = 0.009\n",
    "        self.soma.gmax_naf = 0.035\n",
    "        \n",
    "        # store stimuli\n",
    "        self.stim_objects = []\n",
    "        self.syns = []\n",
    "        self.syn_currents = []\n",
    "        self.stims = []\n",
    "        self.netcons = []\n",
    "        \n",
    "        # setup simulation recording\n",
    "        self._t = h.Vector().record(h._ref_t, sec=self.soma)\n",
    "        self._v = h.Vector().record(self.soma(0.5)._ref_v)\n",
    "        self._m_kdr = h.Vector().record(self.soma(0.5).kdr._ref_m)\n",
    "        self._h_kdr = h.Vector().record(self.soma(0.5).kdr._ref_h)\n",
    "        self._h_naf = h.Vector().record(self.soma(0.5).naf._ref_h)\n",
    "        \n",
    "        self.spike_times = h.Vector()\n",
    "        self.nc_self = h.NetCon(self.soma(0.5)._ref_v, None, sec=self.soma)\n",
    "        self.nc_self.threshold = 0\n",
    "        self.nc_self.record(self.spike_times)\n",
    "        \n",
    "        # initial conditions\n",
    "        self.v0 = None\n",
    "        self._m_kdr0 = None\n",
    "        self._h_naf0 = None\n",
    "        \n",
    "    def add_custom_stimulus(self, stimuli):\n",
    "        # stimuli: PoissonStim class object from Stimuli.py\n",
    "\n",
    "        # add synapse\n",
    "        syn = h.ExpSyn(self.soma(0))\n",
    "        syn.tau = stimuli.tau\n",
    "        syn.e = stimuli.rev_potential * mV\n",
    "        syn_current = h.Vector().record(syn._ref_i)\n",
    "\n",
    "        self.syns.append(syn)\n",
    "        self.syn_currents.append(syn_current)\n",
    "\n",
    "        netstims = [h.NetStim() for stim_time in stimuli.stim_times]\n",
    "        for netstim, stim_time in zip(netstims, stimuli.stim_times):\n",
    "            netstim.number = 1\n",
    "            netstim.start = stim_time\n",
    "            netcon = h.NetCon(netstim, syn)\n",
    "            netcon.weight[0] = stimuli.weight\n",
    "            netcon.delay = 0 * ms\n",
    "\n",
    "            self.netcons.append(netcon)\n",
    "        self.stims.extend(netstims)\n",
    "        # don't need to record stim times as we know when they are happening already\n",
    "        self.stim_objects.append(stimuli)\n",
    "        \n",
    "    def sim_init(self, v0, m0, h0): \n",
    "        # initialize simulations with new initial conditions and custom stimuli\n",
    "        self.v0 = v0\n",
    "        self._m_kdr0 = m0\n",
    "        self._h_naf0 = h0\n",
    "\n",
    "    def do_sim_init(self):\n",
    "        print('doing sim init')\n",
    "        for seg in self.soma:\n",
    "            seg.v = self.v0\n",
    "            seg.kdr.m = self._m_kdr0\n",
    "            seg.naf.h = self._h_naf0\n",
    "            print(seg.v, seg.kdr.m, seg.naf.h)\n",
    "        print('done with sim init')\n",
    "            \n",
    "    def run_simulation(self, sim_length):\n",
    "        if self.v0:\n",
    "            fih = h.FInitializeHandler(self.do_sim_init)\n",
    "        # set the temperature to 37F (the temp for the session used in the original model's paper)\n",
    "        h.celsius = 37\n",
    "        \n",
    "        h.finitialize()\n",
    "        h.continuerun(sim_length * ms)"
   ]
  },
  {
   "cell_type": "code",
   "execution_count": 4,
   "id": "f418ad98",
   "metadata": {},
   "outputs": [],
   "source": [
    "wb = WangBuzsaki()\n",
    "wb.add_custom_stimulus(ex_stim)\n",
    "wb.add_custom_stimulus(in_stim)"
   ]
  },
  {
   "cell_type": "code",
   "execution_count": 5,
   "id": "ce3fe031",
   "metadata": {},
   "outputs": [],
   "source": [
    "wb.run_simulation(sim_length)"
   ]
  },
  {
   "cell_type": "code",
   "execution_count": 6,
   "id": "44581f17",
   "metadata": {},
   "outputs": [
    {
     "data": {
      "image/png": "[encoded data removed]",
      "text/plain": [
       "<Figure size 640x480 with 4 Axes>"
      ]
     },
     "metadata": {},
     "output_type": "display_data"
    }
   ],
   "source": [
    "fig, axes = plt.subplots(4,1, sharex=True, gridspec_kw={'height_ratios': [1,4,4, 1]})\n",
    "axes[0].vlines(ex_times, 0.1,0.9, color='red')\n",
    "axes[0].vlines(in_times, -.9,0.1, color='blue')\n",
    "axes[0].set_yticks([])\n",
    "axes[1].plot(list(wb._t), list(wb._v), c='black')\n",
    "axes[2].plot(list(wb._t), list(wb._m_kdr))\n",
    "axes[2].plot(list(wb._t), list(wb._h_kdr))\n",
    "axes[2].plot(list(wb._t), list(wb._h_naf))\n",
    "axes[3].vlines(list(wb.spike_times),0.1,.9, color='green')\n",
    "axes[3].set_yticks([])\n",
    "axes[1].set_ylabel('Vm')\n",
    "axes[2].set_ylabel('state variables')\n",
    "axes[2].legend(['m_kdr', 'h_kdr', 'h_naf'])\n",
    "axes[-1].set_xlabel('time (ms)')\n",
    "axes[-1].set_xlim([0,1000])\n",
    "plt.show()"
   ]
  },
  {
   "cell_type": "markdown",
   "id": "62fe2c91",
   "metadata": {},
   "source": [
    "## generate spiking and median histories"
   ]
  },
  {
   "cell_type": "code",
   "execution_count": 7,
   "id": "96592a79",
   "metadata": {},
   "outputs": [
    {
     "data": {
      "text/plain": [
       "[{'v': 4.487085138265703, 'm': 0.3374462980826498, 'h': 0.19869732443187746},\n",
       " {'v': 8.250075062674563, 'm': 0.30964759041514556, 'h': 0.25852734373471253},\n",
       " {'v': 6.933368023057703, 'm': 0.32378681279047805, 'h': 0.2298589573803623},\n",
       " {'v': 0.7907116892321575, 'm': 0.279642902894961, 'h': 0.28849003729280603},\n",
       " {'v': 0.36383431990346793, 'm': 0.29506091363065734, 'h': 0.2605049508915958},\n",
       " {'v': 8.929852982515582, 'm': 0.31631673411774053, 'h': 0.24745500404945614},\n",
       " {'v': 3.7728492711776607, 'm': 0.3322675547446175, 'h': 0.2012368898404478},\n",
       " {'v': 0.8188187532617182, 'm': 0.313214607214477, 'h': 0.22584291363781567},\n",
       " {'v': 8.39506381501043, 'm': 0.31259602777866724, 'h': 0.252532369526924},\n",
       " {'v': 9.122179154509617, 'm': 0.2896103182480009, 'h': 0.30697240159569716},\n",
       " {'v': 5.43446710461974, 'm': 0.3151179358374268, 'h': 0.239350843037235},\n",
       " {'v': 2.6205660814998772, 'm': 0.3286305345558239, 'h': 0.2036864774186174},\n",
       " {'v': 7.227563749262474, 'm': 0.33741384282532894, 'h': 0.2062232421567128},\n",
       " {'v': 5.615305870305077, 'm': 0.3162375436208832, 'h': 0.23379001929299076},\n",
       " {'v': 2.546687607047785, 'm': 0.31766990390697164, 'h': 0.22008428041203584},\n",
       " {'v': 1.9529804707975522, 'm': 0.3075034427746274, 'h': 0.24062391625814764},\n",
       " {'v': 5.311786501064631, 'm': 0.32317469025934226, 'h': 0.22325260045712603},\n",
       " {'v': 2.176464640894199, 'm': 0.31118417039168755, 'h': 0.23405013647196227},\n",
       " {'v': 2.5218453499121942, 'm': 0.2905789687343005, 'h': 0.2781719144290071},\n",
       " {'v': 6.819956877335951, 'm': 0.31498070461634775, 'h': 0.24053367618582025},\n",
       " {'v': 8.588944422213608, 'm': 0.3307585272017041, 'h': 0.223901988233927}]"
      ]
     },
     "execution_count": 7,
     "metadata": {},
     "output_type": "execute_result"
    }
   ],
   "source": [
    "# spiking histories\n",
    "spike_inds = [round(spike * 40) for spike in list(wb.spike_times)]\n",
    "spiking_histories = [\n",
    "    {\n",
    "        'v':wb._v[spike_ind],\n",
    "        'm':wb._m_kdr[spike_ind],\n",
    "        'h':wb._h_naf[spike_ind]\n",
    "    } for spike_ind in spike_inds]\n",
    "spiking_histories"
   ]
  },
  {
   "cell_type": "code",
   "execution_count": 8,
   "id": "23f4028e",
   "metadata": {},
   "outputs": [
    {
     "data": {
      "text/plain": [
       "{'v': -62.63896424137329, 'm': 0.10259466539537955, 'h': 0.7298860063700434}"
      ]
     },
     "execution_count": 8,
     "metadata": {},
     "output_type": "execute_result"
    }
   ],
   "source": [
    "# median histories\n",
    "\n",
    "def standarize_column(column):\n",
    "    # set column to fit in (0,1)\n",
    "    column = column-np.min(column)\n",
    "    column = column/np.max(column)\n",
    "    return column\n",
    "\n",
    "def dist(p1, p2):\n",
    "    # get distance between 2 standardized histories\n",
    "    return np.sqrt(pow(p1['v']-p2['v'], 2) + pow(p1['m']-p2['m'], 2) + pow(p1['h']-p2['h'], 2))\n",
    "\n",
    "def get_median_history(sim):\n",
    "    _v = standarize_column(np.array(sim._v))\n",
    "    _m = standarize_column(np.array(sim._m_kdr))\n",
    "    _h = standarize_column(np.array(sim._h_naf))\n",
    "\n",
    "    # calculate the median of each state variable\n",
    "    median_values = {\n",
    "        'v': np.median(_v),\n",
    "        'm': np.median(_m),\n",
    "        'h': np.median(_h)\n",
    "    }\n",
    "    \n",
    "    dists = []\n",
    "    for i in range(len(_v)):\n",
    "        dists.append(dist({'v':_v[i],'m':_m[i],'h':_h[i]}, median_values))\n",
    "\n",
    "    return {\n",
    "            'v': sim._v[np.argmin(dists)],\n",
    "            'm': sim._m_kdr[np.argmin(dists)],\n",
    "            'h': sim._h_naf[np.argmin(dists)]\n",
    "    }\n",
    "\n",
    "median_history = get_median_history(wb)\n",
    "median_history"
   ]
  },
  {
   "cell_type": "markdown",
   "id": "f241725a",
   "metadata": {},
   "source": [
    "## test setting initial conditions"
   ]
  },
  {
   "cell_type": "code",
   "execution_count": 9,
   "id": "1609dde7",
   "metadata": {},
   "outputs": [
    {
     "data": {
      "text/plain": [
       "-65"
      ]
     },
     "execution_count": 9,
     "metadata": {},
     "output_type": "execute_result"
    }
   ],
   "source": [
    "v0 = -65\n",
    "m0 = .03\n",
    "h0 = 0\n",
    "\n",
    "duration = 100\n",
    "wb0 = WangBuzsaki()\n",
    "wb0.sim_init(v0=v0, m0=m0, h0=h0)\n",
    "\n",
    "wb0.v0"
   ]
  },
  {
   "cell_type": "code",
   "execution_count": 10,
   "id": "6e1d9502",
   "metadata": {},
   "outputs": [
    {
     "name": "stdout",
     "output_type": "stream",
     "text": [
      "doing sim init\n",
      "-5.0 0.5 0.0\n",
      "done with sim init\n"
     ]
    },
    {
     "data": {
      "image/png": "[encoded data removed]",
      "text/plain": [
       "<Figure size 640x480 with 2 Axes>"
      ]
     },
     "metadata": {},
     "output_type": "display_data"
    }
   ],
   "source": [
    "v0 = -5\n",
    "m0 = .5\n",
    "h0 = 0\n",
    "\n",
    "duration = 100\n",
    "wb0 = WangBuzsaki()\n",
    "wb0.sim_init(v0=v0, m0=m0, h0=h0)\n",
    "wb0.run_simulation(duration)\n",
    "\n",
    "fig, axes = plt.subplots(2,1, sharex=True)\n",
    "axes[0].plot(wb0._t, wb0._v, color='red')\n",
    "axes[0].hlines(v0, -100, -2, color='red')\n",
    "axes[1].plot(wb0._t, wb0._m_kdr, color='blue')\n",
    "axes[1].plot(wb0._t, wb0._h_naf, color='green')\n",
    "axes[1].hlines(m0, -100, -2, color='blue')\n",
    "axes[1].hlines(h0, -100, -2, color='green')\n",
    "plt.show()"
   ]
  },
  {
   "cell_type": "markdown",
   "id": "768e5b5f",
   "metadata": {},
   "source": [
    "## run_event_sim\n",
    "used for nInputs_WB.py"
   ]
  },
  {
   "cell_type": "code",
   "execution_count": 11,
   "id": "46b962a9",
   "metadata": {},
   "outputs": [],
   "source": [
    "def shift_times(event_times, shift):\n",
    "    # shifts event times from by the shift amount\n",
    "    return [event_time + shift for event_time in event_times]\n",
    "\n",
    "def run_event_sim(events, history, e_w=0.00003, e_t=2, e_rp=0, i_w=0.00005, i_t=6, i_rp=-80, duration=20, robust=False):\n",
    "    # arguments:\n",
    "    # events: list of tuples where 0th index has 'event_type':{'e','i','o'} 1st index has 'event_time':(-inf:0]\n",
    "        # in the case of nInputs.py, the events are all real-valued non-positive times before the current time t=0\n",
    "    # history: dict with {'v0','m0','h0','n0'}\n",
    "    # duration: time past t0 for which to continue the simulation\n",
    "    # robust: False -> returns list of spikes, True -> returns list of spikes and df\n",
    "\n",
    "    # shift is used to move the times from negative (conceptual model) to positive (NEURON simulation) and back\n",
    "    shift = -min([event_time for (event_type, event_time) in events])\n",
    "\n",
    "    # initiate simulation\n",
    "    sim = WangBuzsaki()\n",
    "\n",
    "    # add excitatory_stimuli\n",
    "    e_stim = Stimuli.PoissonStim(\n",
    "        name='e',\n",
    "        stim_id='e',\n",
    "        interval='na',\n",
    "        rev_potential=e_rp,\n",
    "        weight=e_w,\n",
    "        tau=e_t,\n",
    "        seed='na',\n",
    "        stim_times=shift_times([event_time for (event_type, event_time) in events if event_type == 'e'], shift)\n",
    "    )\n",
    "    sim.add_custom_stimulus(e_stim)\n",
    "    # add inhibitory_stimuli\n",
    "    i_stim = Stimuli.PoissonStim(\n",
    "        name='i',\n",
    "        stim_id='i',\n",
    "        interval='na',\n",
    "        rev_potential=i_rp,\n",
    "        weight=i_w,\n",
    "        tau=i_t,\n",
    "        seed='na',\n",
    "        stim_times=shift_times([event_time for (event_type, event_time) in events if event_type == 'i'], shift)\n",
    "    )\n",
    "    sim.add_custom_stimulus(i_stim)\n",
    "    # add history\n",
    "    sim.sim_init(\n",
    "        v0 = history['v'],\n",
    "        m0 = history['m'],\n",
    "        h0 = history['h']\n",
    "    )\n",
    "    # run simulation\n",
    "    sim.run_simulation(sim_length=shift + duration)\n",
    "    spikes = list(sim.spike_times)\n",
    "    # shift spikes back\n",
    "    spikes = shift_times(spikes, -shift)\n",
    "    if robust:\n",
    "        return {\n",
    "            't': list(sim._t),\n",
    "            'h': list(sim._h),\n",
    "            'm': list(sim._m),\n",
    "            'v': list(sim._v),\n",
    "            'n': list(sim._n)\n",
    "        }, spikes\n",
    "    else:\n",
    "        return spikes"
   ]
  },
  {
   "cell_type": "code",
   "execution_count": 12,
   "id": "b5653d98",
   "metadata": {},
   "outputs": [
    {
     "data": {
      "text/plain": [
       "[('e', -15.877336133652244),\n",
       " ('e', -13.783554413247662),\n",
       " ('e', -10.477972429073102),\n",
       " ('e', -9.44552005721815),\n",
       " ('e', -4.215480843381965),\n",
       " ('e', -3.2466325113829804),\n",
       " ('e', -0.9387639657754328),\n",
       " ('e', -0.8662819510629429),\n",
       " ('e', -0.3064948830304388),\n",
       " ('e', 0.0)]"
      ]
     },
     "execution_count": 12,
     "metadata": {},
     "output_type": "execute_result"
    }
   ],
   "source": [
    "events = Stimuli.excitatory_and_inhibitory_n(ex_interval, in_interval, 10)\n",
    "# recenter\n",
    "last_event = events[-1][1]\n",
    "events = [(event[0], event[1] - last_event) for event in events]\n",
    "events"
   ]
  },
  {
   "cell_type": "code",
   "execution_count": 13,
   "id": "9e8d012e",
   "metadata": {},
   "outputs": [
    {
     "name": "stdout",
     "output_type": "stream",
     "text": [
      "doing sim init\n",
      "-62.63896424137329 0.10259466539537955 0.7298860063700434\n",
      "done with sim init\n"
     ]
    },
    {
     "data": {
      "text/plain": [
       "[-7.852336133552166, 1.5976638664472969]"
      ]
     },
     "execution_count": 13,
     "metadata": {},
     "output_type": "execute_result"
    }
   ],
   "source": [
    "run_event_sim(events, median_history)"
   ]
  },
  {
   "cell_type": "markdown",
   "id": "0666f3c4",
   "metadata": {},
   "source": [
    "## Run in NEURON gui"
   ]
  },
  {
   "cell_type": "code",
   "execution_count": 14,
   "id": "39cb87c7",
   "metadata": {},
   "outputs": [
    {
     "data": {
      "text/plain": [
       "\"# test it on the session from modeldb to make sure it gives the same \\nh.load_file('../single.ses')\\n\\n# turn off the current clamp\\nh.IClamp[0].amp = 0\\n\\n# add the expsyn to h.soma\""
      ]
     },
     "execution_count": 14,
     "metadata": {},
     "output_type": "execute_result"
    }
   ],
   "source": [
    "\n",
    "'''# test it on the session from modeldb to make sure it gives the same \n",
    "h.load_file('../single.ses')\n",
    "\n",
    "# turn off the current clamp\n",
    "h.IClamp[0].amp = 0\n",
    "\n",
    "# add the expsyn to h.soma'''\n"
   ]
  },
  {
   "cell_type": "code",
   "execution_count": 15,
   "id": "890e582a",
   "metadata": {},
   "outputs": [
    {
     "data": {
      "text/plain": [
       "'h.soma.psection()'"
      ]
     },
     "execution_count": 15,
     "metadata": {},
     "output_type": "execute_result"
    }
   ],
   "source": [
    "# compare the model specifics between our cell and the session's cell to make sure everything is the same.\n",
    "# the current clamp needs to be turned off in the session cell.\n",
    "# the pts3d has a different z position, this is ok\n",
    "\n",
    "'''h.soma.psection()'''"
   ]
  },
  {
   "cell_type": "code",
   "execution_count": null,
   "id": "48d13f45",
   "metadata": {},
   "outputs": [],
   "source": []
  }
 ],
 "metadata": {
  "kernelspec": {
   "display_name": "Python 3 (ipykernel)",
   "language": "python",
   "name": "python3"
  },
  "language_info": {
   "codemirror_mode": {
    "name": "ipython",
    "version": 3
   },
   "file_extension": ".py",
   "mimetype": "text/x-python",
   "name": "python",
   "nbconvert_exporter": "python",
   "pygments_lexer": "ipython3",
   "version": "3.10.6"
  }
 },
 "nbformat": 4,
 "nbformat_minor": 5
}
