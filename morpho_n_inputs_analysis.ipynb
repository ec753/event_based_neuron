{
 "cells": [
  {
   "cell_type": "markdown",
   "id": "307d0a56",
   "metadata": {},
   "source": [
    "## morpho_n_inputs_analysis\n",
    "Analysis of the n inputs experiments of the morphologically detailed CA1 pyramidal cell model from n_inputs_morpho.py"
   ]
  },
  {
   "cell_type": "code",
   "execution_count": 1,
   "id": "64e5219c",
   "metadata": {},
   "outputs": [],
   "source": [
    "import matplotlib.pyplot as plt\n",
    "import numpy as np\n",
    "\n",
    "import elephant.statistics as estats\n",
    "import elephant\n",
    "import neo\n",
    "from elephant.spike_train_dissimilarity import victor_purpura_distance\n",
    "from elephant.spike_train_dissimilarity import van_rossum_distance\n",
    "from quantities import ms, s, Hz"
   ]
  },
  {
   "cell_type": "code",
   "execution_count": 2,
   "id": "cdd4650f",
   "metadata": {},
   "outputs": [],
   "source": [
    "# load data\n",
    "data_dir = '/home/ec753/Projects/neuron_input_space/morpho_nInputs_out/'"
   ]
  },
  {
   "cell_type": "code",
   "execution_count": 3,
   "id": "32c603c3",
   "metadata": {},
   "outputs": [
    {
     "data": {
      "text/plain": [
       "['exp3_20_rep_spikes.csv',\n",
       " 'exp14_8_rep_spikes.csv',\n",
       " 'exp14_3_rep_spikes.csv',\n",
       " 'exp12_22_rep_spikes.csv',\n",
       " 'exp11_25_rep_spikes.csv',\n",
       " 'exp11_stimuli.json',\n",
       " 'exp12_15_rep_spikes.csv',\n",
       " 'exp13_8_rep_spikes.csv',\n",
       " 'exp12_39_rep_spikes.csv',\n",
       " 'exp12_40_rep_spikes.csv',\n",
       " 'exp11_21_rep_spikes.csv',\n",
       " 'exp2_33_rep_spikes.csv',\n",
       " 'exp12_10_rep_spikes.csv',\n",
       " 'exp1_21_rep_spikes.csv',\n",
       " 'exp11_38_rep_spikes.csv',\n",
       " 'exp3_17_rep_spikes.csv',\n",
       " 'exp10_11_rep_spikes.csv',\n",
       " 'exp13_37_rep_spikes.csv',\n",
       " 'exp1_27_rep_spikes.csv',\n",
       " 'exp0_stimuli.json',\n",
       " 'exp14_obv_spikes.csv',\n",
       " 'exp13_10_rep_spikes.csv',\n",
       " 'exp2_8_rep_spikes.csv',\n",
       " 'exp14_9_rep_spikes.csv',\n",
       " 'exp12_24_rep_spikes.csv',\n",
       " 'exp10_27_rep_spikes.csv',\n",
       " 'exp3_18_rep_spikes.csv',\n",
       " 'exp13_9_rep_spikes.csv',\n",
       " 'exp3_5_rep_spikes.csv',\n",
       " 'exp12_26_rep_spikes.csv',\n",
       " 'exp10_34_rep_spikes.csv',\n",
       " 'exp12_35_rep_spikes.csv',\n",
       " 'exp0_25_rep_spikes.csv',\n",
       " 'exp11_10_rep_spikes.csv',\n",
       " 'exp10_30_rep_spikes.csv',\n",
       " 'exp1_18_rep_spikes.csv',\n",
       " 'exp11_31_rep_spikes.csv',\n",
       " 'exp13_35_rep_spikes.csv',\n",
       " 'exp1_15_rep_spikes.csv',\n",
       " 'exp12_21_rep_spikes.csv',\n",
       " 'exp1_8_rep_spikes.csv',\n",
       " 'exp1_37_rep_spikes.csv',\n",
       " 'exp3_19_rep_spikes.csv',\n",
       " 'exp2_19_rep_spikes.csv',\n",
       " 'exp13_32_rep_spikes.csv',\n",
       " 'exp11_18_rep_spikes.csv',\n",
       " 'exp10_13_rep_spikes.csv',\n",
       " 'exp1_4_rep_spikes.csv',\n",
       " 'exp2_12_rep_spikes.csv',\n",
       " 'exp11_16_rep_spikes.csv',\n",
       " 'exp11_22_rep_spikes.csv',\n",
       " 'exp11_3_rep_spikes.csv',\n",
       " 'exp0_obv_spikes.csv',\n",
       " 'exp11_34_rep_spikes.csv',\n",
       " 'exp2_38_rep_spikes.csv',\n",
       " 'exp1_29_rep_spikes.csv',\n",
       " 'exp12_34_rep_spikes.csv',\n",
       " 'exp3_33_rep_spikes.csv',\n",
       " 'exp14_10_rep_spikes.csv',\n",
       " 'exp10_40_rep_spikes.csv',\n",
       " 'exp10_2_rep_spikes.csv',\n",
       " 'exp3_12_rep_spikes.csv',\n",
       " 'exp2_22_rep_spikes.csv',\n",
       " 'exp0_21_rep_spikes.csv',\n",
       " 'exp10_24_rep_spikes.csv',\n",
       " 'exp14_4_rep_spikes.csv',\n",
       " 'exp0_10_rep_spikes.csv',\n",
       " 'exp12_12_rep_spikes.csv',\n",
       " 'exp11_36_rep_spikes.csv',\n",
       " 'exp11_35_rep_spikes.csv',\n",
       " 'exp12_stimuli.json',\n",
       " 'exp11_32_rep_spikes.csv',\n",
       " 'exp12_13_rep_spikes.csv',\n",
       " 'exp10_9_rep_spikes.csv',\n",
       " 'exp11_29_rep_spikes.csv',\n",
       " 'exp12_36_rep_spikes.csv',\n",
       " 'exp13_13_rep_spikes.csv',\n",
       " 'exp0_30_rep_spikes.csv',\n",
       " 'test_obv_spikes.csv',\n",
       " 'exp13_stimuli.json',\n",
       " 'exp13_16_rep_spikes.csv',\n",
       " 'exp2_24_rep_spikes.csv',\n",
       " 'exp2_13_rep_spikes.csv',\n",
       " 'exp14_stimuli.json',\n",
       " 'exp11_30_rep_spikes.csv',\n",
       " 'exp11_37_rep_spikes.csv',\n",
       " 'exp3_26_rep_spikes.csv',\n",
       " 'exp1_38_rep_spikes.csv',\n",
       " 'exp10_38_rep_spikes.csv',\n",
       " 'exp12_38_rep_spikes.csv',\n",
       " 'exp12_37_rep_spikes.csv',\n",
       " 'exp0_33_rep_spikes.csv',\n",
       " 'exp1_13_rep_spikes.csv',\n",
       " 'exp10_23_rep_spikes.csv',\n",
       " 'exp1_stimuli.json',\n",
       " 'exp3_38_rep_spikes.csv',\n",
       " 'exp10_15_rep_spikes.csv',\n",
       " 'exp13_12_rep_spikes.csv',\n",
       " 'exp11_6_rep_spikes.csv',\n",
       " 'exp11_9_rep_spikes.csv',\n",
       " 'exp14_12_rep_spikes.csv',\n",
       " 'exp3_stimuli.json',\n",
       " 'exp0_14_rep_spikes.csv',\n",
       " 'exp2_obv_spikes.csv',\n",
       " 'exp1_26_rep_spikes.csv',\n",
       " 'exp1_6_rep_spikes.csv',\n",
       " 'exp13_24_rep_spikes.csv',\n",
       " 'exp0_26_rep_spikes.csv',\n",
       " 'exp12_31_rep_spikes.csv',\n",
       " 'exp10_20_rep_spikes.csv',\n",
       " 'exp2_36_rep_spikes.csv',\n",
       " 'exp2_26_rep_spikes.csv',\n",
       " 'exp0_12_rep_spikes.csv',\n",
       " 'exp0_39_rep_spikes.csv',\n",
       " 'exp13_31_rep_spikes.csv',\n",
       " 'exp2_32_rep_spikes.csv',\n",
       " 'exp0_35_rep_spikes.csv',\n",
       " 'exp10_25_rep_spikes.csv',\n",
       " 'exp3_15_rep_spikes.csv',\n",
       " 'exp13_26_rep_spikes.csv',\n",
       " 'exp11_20_rep_spikes.csv',\n",
       " 'exp14_6_rep_spikes.csv',\n",
       " 'exp0_16_rep_spikes.csv',\n",
       " 'exp12_6_rep_spikes.csv',\n",
       " 'exp2_39_rep_spikes.csv',\n",
       " 'exp10_22_rep_spikes.csv',\n",
       " 'exp10_10_rep_spikes.csv',\n",
       " 'exp3_34_rep_spikes.csv',\n",
       " 'exp11_24_rep_spikes.csv',\n",
       " 'test_rep_spikes.csv',\n",
       " 'exp11_17_rep_spikes.csv',\n",
       " 'exp3_14_rep_spikes.csv',\n",
       " 'exp0_5_rep_spikes.csv',\n",
       " 'exp13_22_rep_spikes.csv',\n",
       " 'exp1_20_rep_spikes.csv',\n",
       " 'exp1_19_rep_spikes.csv',\n",
       " 'exp11_8_rep_spikes.csv',\n",
       " 'exp1_34_rep_spikes.csv',\n",
       " 'exp0_27_rep_spikes.csv',\n",
       " 'exp1_39_rep_spikes.csv',\n",
       " 'exp3_28_rep_spikes.csv',\n",
       " 'exp11_11_rep_spikes.csv',\n",
       " 'exp10_26_rep_spikes.csv',\n",
       " 'exp10_35_rep_spikes.csv',\n",
       " 'exp1_22_rep_spikes.csv',\n",
       " 'exp10_stimuli.json',\n",
       " 'exp12_4_rep_spikes.csv',\n",
       " 'exp13_38_rep_spikes.csv',\n",
       " 'exp10_obv_spikes.csv',\n",
       " 'exp12_obv_spikes.csv',\n",
       " 'exp10_31_rep_spikes.csv',\n",
       " 'exp3_27_rep_spikes.csv',\n",
       " 'exp1_9_rep_spikes.csv',\n",
       " 'exp11_40_rep_spikes.csv',\n",
       " 'exp0_28_rep_spikes.csv',\n",
       " 'exp11_7_rep_spikes.csv',\n",
       " 'exp3_10_rep_spikes.csv',\n",
       " 'exp13_obv_spikes.csv',\n",
       " 'exp2_35_rep_spikes.csv',\n",
       " 'exp1_14_rep_spikes.csv',\n",
       " 'exp3_37_rep_spikes.csv',\n",
       " 'exp2_25_rep_spikes.csv',\n",
       " 'exp2_10_rep_spikes.csv',\n",
       " 'exp0_19_rep_spikes.csv',\n",
       " 'exp0_38_rep_spikes.csv',\n",
       " 'exp3_32_rep_spikes.csv',\n",
       " 'exp12_14_rep_spikes.csv',\n",
       " 'exp1_obv_spikes.csv',\n",
       " 'exp3_39_rep_spikes.csv',\n",
       " 'exp1_10_rep_spikes.csv',\n",
       " 'exp3_21_rep_spikes.csv',\n",
       " 'exp1_11_rep_spikes.csv',\n",
       " 'exp12_29_rep_spikes.csv',\n",
       " 'exp3_obv_spikes.csv',\n",
       " 'exp1_35_rep_spikes.csv',\n",
       " 'exp2_29_rep_spikes.csv',\n",
       " 'exp2_16_rep_spikes.csv',\n",
       " 'exp13_11_rep_spikes.csv',\n",
       " 'exp2_9_rep_spikes.csv',\n",
       " 'exp1_28_rep_spikes.csv',\n",
       " 'exp1_5_rep_spikes.csv',\n",
       " 'exp0_40_rep_spikes.csv',\n",
       " 'exp0_17_rep_spikes.csv',\n",
       " 'exp12_7_rep_spikes.csv',\n",
       " 'exp0_20_rep_spikes.csv',\n",
       " 'exp10_6_rep_spikes.csv',\n",
       " 'exp3_24_rep_spikes.csv',\n",
       " 'exp13_30_rep_spikes.csv',\n",
       " 'exp2_31_rep_spikes.csv',\n",
       " 'exp12_8_rep_spikes.csv',\n",
       " 'exp11_23_rep_spikes.csv',\n",
       " 'exp0_36_rep_spikes.csv',\n",
       " 'exp2_28_rep_spikes.csv',\n",
       " 'exp13_25_rep_spikes.csv',\n",
       " 'exp2_40_rep_spikes.csv',\n",
       " 'exp12_25_rep_spikes.csv',\n",
       " 'exp2_15_rep_spikes.csv',\n",
       " 'exp13_21_rep_spikes.csv',\n",
       " 'exp11_12_rep_spikes.csv',\n",
       " 'exp13_28_rep_spikes.csv',\n",
       " 'exp12_3_rep_spikes.csv',\n",
       " 'exp0_6_rep_spikes.csv',\n",
       " 'exp3_31_rep_spikes.csv',\n",
       " 'exp12_32_rep_spikes.csv',\n",
       " 'exp10_3_rep_spikes.csv',\n",
       " 'exp11_4_rep_spikes.csv',\n",
       " 'exp10_29_rep_spikes.csv',\n",
       " 'exp13_3_rep_spikes.csv',\n",
       " 'exp10_5_rep_spikes.csv',\n",
       " 'exp13_40_rep_spikes.csv',\n",
       " 'exp11_13_rep_spikes.csv',\n",
       " 'exp13_2_rep_spikes.csv',\n",
       " 'exp3_9_rep_spikes.csv',\n",
       " 'exp3_36_rep_spikes.csv',\n",
       " 'exp14_5_rep_spikes.csv',\n",
       " 'exp11_2_rep_spikes.csv',\n",
       " 'exp10_8_rep_spikes.csv',\n",
       " 'exp1_25_rep_spikes.csv',\n",
       " 'exp12_28_rep_spikes.csv',\n",
       " 'exp11_obv_spikes.csv',\n",
       " 'exp13_20_rep_spikes.csv',\n",
       " 'exp10_28_rep_spikes.csv',\n",
       " 'exp2_stimuli.json',\n",
       " 'exp14_2_rep_spikes.csv',\n",
       " 'exp3_30_rep_spikes.csv',\n",
       " 'exp3_13_rep_spikes.csv',\n",
       " 'exp13_19_rep_spikes.csv',\n",
       " 'exp1_50_rep_spikes.csv',\n",
       " 'exp3_8_rep_spikes.csv',\n",
       " 'exp2_7_rep_spikes.csv',\n",
       " 'exp12_2_rep_spikes.csv',\n",
       " 'exp3_25_rep_spikes.csv',\n",
       " 'exp12_20_rep_spikes.csv',\n",
       " 'exp13_18_rep_spikes.csv',\n",
       " 'exp1_2_rep_spikes.csv',\n",
       " 'exp1_32_rep_spikes.csv',\n",
       " 'exp3_4_rep_spikes.csv',\n",
       " 'exp2_5_rep_spikes.csv',\n",
       " 'exp0_37_rep_spikes.csv',\n",
       " 'exp0_3_rep_spikes.csv',\n",
       " 'exp1_30_rep_spikes.csv',\n",
       " 'exp13_6_rep_spikes.csv',\n",
       " 'exp2_27_rep_spikes.csv',\n",
       " 'exp1_7_rep_spikes.csv',\n",
       " 'exp10_37_rep_spikes.csv',\n",
       " 'exp1_12_rep_spikes.csv',\n",
       " 'exp10_14_rep_spikes.csv',\n",
       " 'exp2_17_rep_spikes.csv',\n",
       " 'exp12_5_rep_spikes.csv',\n",
       " 'exp13_17_rep_spikes.csv',\n",
       " 'exp2_18_rep_spikes.csv',\n",
       " 'exp2_2_rep_spikes.csv',\n",
       " 'exp13_29_rep_spikes.csv',\n",
       " 'exp0_32_rep_spikes.csv',\n",
       " 'exp2_11_rep_spikes.csv',\n",
       " 'exp10_12_rep_spikes.csv',\n",
       " 'exp12_11_rep_spikes.csv',\n",
       " 'exp11_5_rep_spikes.csv',\n",
       " 'exp13_36_rep_spikes.csv',\n",
       " 'exp0_24_rep_spikes.csv',\n",
       " 'exp2_21_rep_spikes.csv',\n",
       " 'exp12_30_rep_spikes.csv',\n",
       " 'exp2_14_rep_spikes.csv',\n",
       " 'exp3_35_rep_spikes.csv',\n",
       " 'exp11_14_rep_spikes.csv',\n",
       " 'exp3_7_rep_spikes.csv',\n",
       " 'exp0_23_rep_spikes.csv',\n",
       " 'exp13_33_rep_spikes.csv',\n",
       " 'exp2_30_rep_spikes.csv',\n",
       " 'exp1_24_rep_spikes.csv',\n",
       " 'exp13_23_rep_spikes.csv',\n",
       " 'exp10_36_rep_spikes.csv',\n",
       " 'exp10_4_rep_spikes.csv',\n",
       " 'exp2_37_rep_spikes.csv',\n",
       " 'exp2_3_rep_spikes.csv',\n",
       " 'exp10_32_rep_spikes.csv',\n",
       " 'exp0_15_rep_spikes.csv',\n",
       " 'exp1_3_rep_spikes.csv',\n",
       " 'exp10_18_rep_spikes.csv',\n",
       " 'exp0_8_rep_spikes.csv',\n",
       " 'exp14_7_rep_spikes.csv',\n",
       " 'exp10_16_rep_spikes.csv',\n",
       " 'exp12_27_rep_spikes.csv',\n",
       " 'exp3_11_rep_spikes.csv',\n",
       " 'exp13_34_rep_spikes.csv',\n",
       " 'exp12_9_rep_spikes.csv',\n",
       " 'exp0_2_rep_spikes.csv',\n",
       " 'exp12_18_rep_spikes.csv',\n",
       " 'exp12_17_rep_spikes.csv',\n",
       " 'exp1_33_rep_spikes.csv',\n",
       " 'exp13_5_rep_spikes.csv',\n",
       " 'exp1_16_rep_spikes.csv',\n",
       " 'exp1_31_rep_spikes.csv',\n",
       " 'exp13_39_rep_spikes.csv',\n",
       " 'exp3_29_rep_spikes.csv',\n",
       " 'exp12_23_rep_spikes.csv',\n",
       " 'exp1_17_rep_spikes.csv',\n",
       " 'exp1_23_rep_spikes.csv',\n",
       " 'exp10_33_rep_spikes.csv',\n",
       " 'exp10_21_rep_spikes.csv',\n",
       " 'exp2_20_rep_spikes.csv',\n",
       " 'exp10_39_rep_spikes.csv',\n",
       " 'exp12_33_rep_spikes.csv',\n",
       " 'exp2_23_rep_spikes.csv',\n",
       " 'exp0_18_rep_spikes.csv',\n",
       " 'exp13_27_rep_spikes.csv',\n",
       " 'exp11_26_rep_spikes.csv',\n",
       " 'exp0_13_rep_spikes.csv',\n",
       " 'exp13_7_rep_spikes.csv',\n",
       " 'exp12_16_rep_spikes.csv',\n",
       " 'exp0_29_rep_spikes.csv',\n",
       " 'exp0_11_rep_spikes.csv',\n",
       " 'exp0_22_rep_spikes.csv',\n",
       " 'exp11_27_rep_spikes.csv',\n",
       " 'exp11_28_rep_spikes.csv',\n",
       " 'exp13_15_rep_spikes.csv',\n",
       " 'exp0_34_rep_spikes.csv',\n",
       " 'exp3_2_rep_spikes.csv',\n",
       " 'exp10_19_rep_spikes.csv',\n",
       " 'exp3_16_rep_spikes.csv',\n",
       " 'exp13_14_rep_spikes.csv',\n",
       " 'exp3_6_rep_spikes.csv',\n",
       " 'exp2_4_rep_spikes.csv',\n",
       " 'exp2_34_rep_spikes.csv',\n",
       " 'exp11_15_rep_spikes.csv',\n",
       " 'exp3_23_rep_spikes.csv',\n",
       " 'exp1_40_rep_spikes.csv',\n",
       " 'exp2_6_rep_spikes.csv',\n",
       " 'exp12_19_rep_spikes.csv',\n",
       " 'exp3_22_rep_spikes.csv',\n",
       " 'exp11_33_rep_spikes.csv',\n",
       " 'exp1_36_rep_spikes.csv',\n",
       " 'exp11_39_rep_spikes.csv',\n",
       " 'exp0_4_rep_spikes.csv',\n",
       " 'exp3_3_rep_spikes.csv',\n",
       " 'exp10_17_rep_spikes.csv',\n",
       " 'exp0_7_rep_spikes.csv',\n",
       " 'exp10_7_rep_spikes.csv',\n",
       " 'exp13_4_rep_spikes.csv',\n",
       " 'exp0_31_rep_spikes.csv',\n",
       " 'exp0_9_rep_spikes.csv',\n",
       " 'exp14_11_rep_spikes.csv',\n",
       " 'exp11_19_rep_spikes.csv']"
      ]
     },
     "execution_count": 3,
     "metadata": {},
     "output_type": "execute_result"
    }
   ],
   "source": [
    "import os\n",
    "os.listdir(data_dir)"
   ]
  },
  {
   "cell_type": "code",
   "execution_count": 4,
   "id": "793103c2",
   "metadata": {},
   "outputs": [],
   "source": [
    "exps = ['exp0','exp1','exp2','exp3']\n",
    "ns = [x for x in range(2,40,1)]\n",
    "max_time = 1000\n",
    "\n",
    "gTruth_spikes = {}\n",
    "nInputs_spikes = {}\n",
    "\n",
    "for exp in exps:\n",
    "    \n",
    "    # load observed spikes\n",
    "    with open(f'{data_dir}{exp}_obv_spikes.csv','r') as fin:\n",
    "        gTruth_spikes[exp] = [float(spike) for spike in fin.readlines()]\n",
    "\n",
    "    # load replicated spikes\n",
    "    nInputs_spikes[exp] = {}\n",
    "    for n in ns:\n",
    "        with open(f'{data_dir}{exp}_{n}_rep_spikes.csv', 'r') as fin:\n",
    "            nInputs_spikes[exp][n] = [float(spike) for spike in fin.readlines() if float(spike) < max_time]"
   ]
  },
  {
   "cell_type": "code",
   "execution_count": 5,
   "id": "121f5034",
   "metadata": {},
   "outputs": [
    {
     "data": {
      "image/png": "[encoded data removed]",
      "text/plain": [
       "<Figure size 720x432 with 1 Axes>"
      ]
     },
     "metadata": {
      "needs_background": "light"
     },
     "output_type": "display_data"
    }
   ],
   "source": [
    "obv_spikes = gTruth_spikes['exp0']\n",
    "rep_spikes = nInputs_spikes['exp0']\n",
    "\n",
    "plt.figure(figsize=(10,6))\n",
    "plt.vlines(obv_spikes, -.9, -.1, 'green')\n",
    "\n",
    "for i, n in enumerate(ns):\n",
    "    plt.vlines(rep_spikes[n], i+.1, i+.9, 'black')\n",
    "    \n",
    "plt.yticks(np.arange(-.5, len(ns), 1), ['obv']+[x for x in ns])\n",
    "plt.show()"
   ]
  },
  {
   "cell_type": "markdown",
   "id": "177bf031",
   "metadata": {},
   "source": [
    "## spike train distances"
   ]
  },
  {
   "cell_type": "code",
   "execution_count": 6,
   "id": "2176a21e",
   "metadata": {},
   "outputs": [],
   "source": [
    "q = 1.0 / (10.0 * ms) # cost factor for shifting spikes in the victor purpura distance\n",
    "tau = 10.0 * ms # time constant for the van rossum distance"
   ]
  },
  {
   "cell_type": "code",
   "execution_count": 7,
   "id": "2556bf12",
   "metadata": {},
   "outputs": [],
   "source": [
    "gTruth_trains = {}\n",
    "nInputs_trains = {}\n",
    "\n",
    "for exp in exps:\n",
    "    gTruth_trains[exp] = neo.SpikeTrain(gTruth_spikes[exp] * ms, t_stop=max_time*ms)\n",
    "    \n",
    "    nInputs_trains[exp] = {}\n",
    "    for n in ns:\n",
    "        nInputs_trains[exp][n] = neo.SpikeTrain(nInputs_spikes[exp][n] * ms, t_stop=max_time*ms)"
   ]
  },
  {
   "cell_type": "code",
   "execution_count": 8,
   "id": "91792b67",
   "metadata": {},
   "outputs": [],
   "source": [
    "vp_dists = {}\n",
    "vr_dists = {}\n",
    "for exp in exps:\n",
    "    vp_dists[exp] = {}\n",
    "    vr_dists[exp] = {}\n",
    "    for n in ns:\n",
    "        vp_dists[exp][n] = victor_purpura_distance(\n",
    "            [gTruth_trains[exp], nInputs_trains[exp][n]], q)[0, 1]\n",
    "        vr_dists[exp][n] = van_rossum_distance(\n",
    "            [gTruth_trains[exp], nInputs_trains[exp][n]], tau)[0, 1]"
   ]
  },
  {
   "cell_type": "code",
   "execution_count": 9,
   "id": "8f062dfd",
   "metadata": {},
   "outputs": [
    {
     "data": {
      "text/plain": [
       "{'exp0': 49, 'exp1': 18, 'exp2': 59, 'exp3': 31}"
      ]
     },
     "execution_count": 9,
     "metadata": {},
     "output_type": "execute_result"
    }
   ],
   "source": [
    "firing_rates = {exp:len(gTruth_spikes[exp]) for exp in exps}\n",
    "firing_rates"
   ]
  },
  {
   "cell_type": "code",
   "execution_count": 10,
   "id": "7b0cce44",
   "metadata": {},
   "outputs": [
    {
     "data": {
      "text/plain": [
       "array([9.74319393, 7.75269838, 7.67088277, 6.63110002, 4.43277516,\n",
       "       3.39466683, 2.39963385, 1.39413409, 1.34984557, 0.21642749,\n",
       "       0.17275211, 0.0880668 , 0.07532555, 0.08047058, 0.05740903,\n",
       "       0.05663844, 0.04157852, 0.04495016, 0.03469898, 0.03529425,\n",
       "       0.03432946, 0.03341427, 0.0270166 , 0.0251836 , 0.02472747,\n",
       "       0.02378308, 0.02549813, 0.02060348, 0.0249861 , 0.0250722 ,\n",
       "       0.02095089, 0.02313338, 0.02439585, 0.02438998, 0.02163752,\n",
       "       0.02196374, 0.02883201, 0.02238818])"
      ]
     },
     "execution_count": 10,
     "metadata": {},
     "output_type": "execute_result"
    }
   ],
   "source": [
    "np.array(list(vp_dists[exp].values()))"
   ]
  },
  {
   "cell_type": "code",
   "execution_count": 11,
   "id": "75fcbc39",
   "metadata": {},
   "outputs": [],
   "source": [
    "import matplotlib.pylab as pl"
   ]
  },
  {
   "cell_type": "code",
   "execution_count": 12,
   "id": "273da083",
   "metadata": {},
   "outputs": [
    {
     "data": {
      "image/png": "[encoded data removed]",
      "text/plain": [
       "<Figure size 432x288 with 2 Axes>"
      ]
     },
     "metadata": {
      "needs_background": "light"
     },
     "output_type": "display_data"
    }
   ],
   "source": [
    "import matplotlib as mpl\n",
    "import matplotlib.pyplot as plt\n",
    "\n",
    "fig, ax = plt.subplots(1, 1)\n",
    "\n",
    "fraction = 1  # .05\n",
    "\n",
    "norm = mpl.colors.Normalize(vmin=0, vmax=60)\n",
    "cbar = ax.figure.colorbar(\n",
    "            mpl.cm.ScalarMappable(norm=norm, cmap='cool'),\n",
    "            ax=ax, extend='both')\n",
    "\n",
    "ax.axis('off')\n",
    "plt.show()"
   ]
  },
  {
   "cell_type": "code",
   "execution_count": 15,
   "id": "867fe471",
   "metadata": {},
   "outputs": [
    {
     "data": {
      "image/png": "[encoded data removed]",
      "text/plain": [
       "<Figure size 720x432 with 1 Axes>"
      ]
     },
     "metadata": {
      "needs_background": "light"
     },
     "output_type": "display_data"
    }
   ],
   "source": [
    "plt.figure(figsize=(10,6))\n",
    "\n",
    "colors = pl.cm.cool(np.linspace(0,1,60))\n",
    "\n",
    "for exp in exps:\n",
    "    plt.plot(vp_dists[exp].keys(), list(vp_dists[exp].values()), color=colors[firing_rates[exp]])\n",
    "    \n",
    "\n",
    "    \n",
    "#plt.legend([f'{firing_rate} Hz CA1 model' for firing_rate in firing_rates.values()])\n",
    "plt.ylabel('Victor Purpura distance', fontsize=16)\n",
    "plt.xlabel('n inputs', fontsize=16)\n",
    "plt.xticks(fontsize=14)\n",
    "plt.yticks(fontsize=14)\n",
    "plt.xlim(2, 40)\n",
    "plt.show()"
   ]
  },
  {
   "cell_type": "code",
   "execution_count": 14,
   "id": "34aa4d96",
   "metadata": {},
   "outputs": [
    {
     "data": {
      "image/png": "[encoded data removed]",
      "text/plain": [
       "<Figure size 720x432 with 1 Axes>"
      ]
     },
     "metadata": {
      "needs_background": "light"
     },
     "output_type": "display_data"
    }
   ],
   "source": [
    "plt.figure(figsize=(10,6))\n",
    "for exp in exps:\n",
    "    plt.plot(vr_dists[exp].keys(), list(vr_dists[exp].values()))"
   ]
  },
  {
   "cell_type": "code",
   "execution_count": null,
   "id": "fa3975c3",
   "metadata": {},
   "outputs": [],
   "source": []
  },
  {
   "cell_type": "code",
   "execution_count": null,
   "id": "422596ce",
   "metadata": {},
   "outputs": [],
   "source": []
  }
 ],
 "metadata": {
  "kernelspec": {
   "display_name": "Python 3 (ipykernel)",
   "language": "python",
   "name": "python3"
  },
  "language_info": {
   "codemirror_mode": {
    "name": "ipython",
    "version": 3
   },
   "file_extension": ".py",
   "mimetype": "text/x-python",
   "name": "python",
   "nbconvert_exporter": "python",
   "pygments_lexer": "ipython3",
   "version": "3.10.6"
  }
 },
 "nbformat": 4,
 "nbformat_minor": 5
}
